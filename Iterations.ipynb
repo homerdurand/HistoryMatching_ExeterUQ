{
 "cells": [
  {
   "cell_type": "markdown",
   "metadata": {},
   "source": [
    "# History Matching for L96\n",
    "Author : Redaoune Lguensat, Homer Durand\n",
    "\n",
    "Date : 26-07-21"
   ]
  },
  {
   "cell_type": "markdown",
   "metadata": {},
   "source": [
    "### Loading libs"
   ]
  },
  {
   "cell_type": "code",
   "execution_count": 1,
   "metadata": {
    "scrolled": true
   },
   "outputs": [
    {
     "name": "stderr",
     "output_type": "stream",
     "text": [
      "far library : Modelization for Functional AutoRegressive processes\n",
      "\n",
      "version 0.6-4 (2014-12-07)\n",
      "\n",
      "Spam version 2.7-0 (2021-06-25) is loaded.\n",
      "Type 'help( Spam)' or 'demo( spam)' for a short introduction \n",
      "and overview of this package.\n",
      "Help for individual functions is also obtained by adding the\n",
      "suffix '.spam' to the function name, e.g. 'help( chol.spam)'.\n",
      "\n",
      "Attaching package: ‘spam’\n",
      "\n",
      "The following objects are masked from ‘package:base’:\n",
      "\n",
      "    backsolve, forwardsolve\n",
      "\n",
      "See https://github.com/NCAR/Fields for\n",
      " an extensive vignette, other supplements and source code \n",
      "\n",
      "Attaching package: ‘maps’\n",
      "\n",
      "The following object is masked from ‘package:viridis’:\n",
      "\n",
      "    unemp\n",
      "\n",
      "\n",
      "Attaching package: ‘mvtnorm’\n",
      "\n",
      "The following object is masked from ‘package:spam’:\n",
      "\n",
      "    rmvnorm\n",
      "\n",
      "Warning message in library(package, lib.loc = lib.loc, character.only = TRUE, logical.return = TRUE, :\n",
      "“there is no package called ‘ncdf4’”This is loo version 2.4.1\n",
      "- Online documentation and vignettes at mc-stan.org/loo\n",
      "- As of v2.0.0 loo defaults to 1 core but we recommend using as many as possible. Use the 'cores' argument or set options(mc.cores = NUM_CORES) for an entire session. \n",
      "Loading required package: future\n",
      "\n",
      "Attaching package: ‘MLmetrics’\n",
      "\n",
      "The following object is masked from ‘package:base’:\n",
      "\n",
      "    Recall\n",
      "\n",
      "\n",
      "Attaching package: ‘keras’\n",
      "\n",
      "The following object is masked from ‘package:future’:\n",
      "\n",
      "    %<-%\n",
      "\n"
     ]
    }
   ],
   "source": [
    "PATH = '/home/homer/anaconda3/envs/HM-env/bin/python'\n",
    "Sys.setenv(RETICULATE_PYTHON = PATH)\n",
    "\n",
    "current_dir <- getwd()\n",
    "mogp_dir <- current_dir #mogp_emulator lib : https://github.com/alan-turing-institute/mogp-emulator\n",
    "\n",
    "setwd(paste0(current_dir, '/dev_ExeterUQ_MOGP/')) #devel version og ExeterUQ_MOGP : https://github.com/BayesExeter/ExeterUQ_MOGP/tree/devel\n",
    "\n",
    "source(\"BuildEmulator/BuildEmulator.R\")\n",
    "source(\"HistoryMatching/HistoryMatching.R\")\n",
    "source(\"HistoryMatching/impLayoutplot.R\")\n",
    "\n",
    "setwd(current_dir)\n",
    "\n",
    "r_packages <- c(\"future.apply\", 'tgp', 'ANN2', 'MLmetrics', 'keras')\n",
    "invisible(lapply(r_packages, library, character.only = TRUE))\n",
    "\n",
    "python_pkg <- c(\"L96_amip\", \"numpy\", \"sklearn\", \"skopt.sampler\", \"skopt.space\")\n",
    "python_pkg_names <- c(\"L96_amip\", \"np\", \"sklearn\", \"sampler\", \"skSpace\")\n",
    "for(i in seq(length(python_pkg))){assign(python_pkg_names[i], import(python_pkg[i]))}"
   ]
  },
  {
   "cell_type": "code",
   "execution_count": 2,
   "metadata": {},
   "outputs": [],
   "source": [
    "np$random$seed(as.integer(42))\n",
    "\n",
    "X_init = 10*np$ones(as.integer(36))\n",
    "X_init[19]=1.0001 #ATtention X_init[19] !!!\n",
    "\n",
    "l96_two = L96_amip$L96TwoLevel(save_dt=0.001, X_init=X_init, integration_type='coupled') # True params J=10, h=1, F=10, c=10, b=10"
   ]
  },
  {
   "cell_type": "code",
   "execution_count": 3,
   "metadata": {},
   "outputs": [],
   "source": [
    "l96_two$iterate(10)"
   ]
  },
  {
   "cell_type": "code",
   "execution_count": 4,
   "metadata": {},
   "outputs": [],
   "source": [
    "Newinit = l96_two$X"
   ]
  },
  {
   "cell_type": "code",
   "execution_count": 5,
   "metadata": {},
   "outputs": [],
   "source": [
    "np$random$seed(as.integer(42))\n",
    "n_iter <- 200\n",
    "dt <- 0.001\n",
    "l96_two = L96_amip$L96TwoLevel(save_dt=dt, X_init=Newinit, integration_type='coupled') "
   ]
  },
  {
   "cell_type": "code",
   "execution_count": 6,
   "metadata": {},
   "outputs": [],
   "source": [
    "l96_two$iterate(n_iter)"
   ]
  },
  {
   "cell_type": "code",
   "execution_count": 7,
   "metadata": {},
   "outputs": [],
   "source": [
    "X_hist <- l96_two$history$X$values"
   ]
  },
  {
   "cell_type": "code",
   "execution_count": 8,
   "metadata": {},
   "outputs": [],
   "source": [
    "observations_amip <- l96_two$mean_stats(ax=as.integer(0))\n",
    "observations <- l96_two$mean_stats(ax=as.integer(0), amip_metrics=FALSE)"
   ]
  },
  {
   "cell_type": "code",
   "execution_count": 9,
   "metadata": {},
   "outputs": [],
   "source": [
    "NRMSE <- function(y, ychap) {sqrt((1/length(ychap))*sum((ychap-y)**2/ychap))}"
   ]
  },
  {
   "cell_type": "code",
   "execution_count": 10,
   "metadata": {},
   "outputs": [],
   "source": [
    "plan(multicore)"
   ]
  },
  {
   "cell_type": "code",
   "execution_count": null,
   "metadata": {},
   "outputs": [],
   "source": [
    "mses_amip <- c()\n",
    "mses <- c()\n",
    "l96_two = L96_amip$L96TwoLevel(save_dt=dt, X_init=Newinit, integration_type='coupled')\n",
    "\n",
    "for(i in seq(50)){\n",
    "    l96_two$iterate(4)\n",
    "    obs_amip <- l96_two$mean_stats(ax=as.integer(0))\n",
    "    obs <- l96_two$mean_stats(ax=as.integer(0), amip_metrics=FALSE)\n",
    "\n",
    "    mses <- NRMSE(observations, obs)\n",
    "    mses_amip <- NRMSE(observations_amip, obs_amip)\n",
    "}"
   ]
  },
  {
   "cell_type": "code",
   "execution_count": null,
   "metadata": {},
   "outputs": [],
   "source": [
    "df_mse <- as.data.frame(list(mses, iters))\n",
    "names(df_mse) <- c('NRMSE', 'Iters')\n",
    "ggplot(df_mse, aes(x=Iters, y=NRMSE)) + geom_point() + \n",
    "  labs(\n",
    "    title = \"NRMSE(obs<sub>200</sub>, obs<sub>n</sub>) \"\n",
    "  ) +\n",
    "  theme_bw() +\n",
    "  theme(\n",
    "    plot.title.position = \"plot\",\n",
    "    plot.title = element_markdown(size = 11, lineheight = 1.2)\n",
    "  )"
   ]
  },
  {
   "cell_type": "code",
   "execution_count": null,
   "metadata": {},
   "outputs": [],
   "source": [
    "df_mse_amip <- as.data.frame(list(mses_amip, iters))\n",
    "names(df_mse_amip) <- c('NRMSE', 'Iters')\n",
    "ggplot(df_mse_amip, aes(x=Iters, y=NRMSE)) + geom_point() + \n",
    "  labs(\n",
    "    title = \"NRMSE(obs<sub>amip_200</sub>, obs<sub>amip_n</sub>) \"\n",
    "  ) +\n",
    "  theme_bw() +\n",
    "  theme(\n",
    "    plot.title.position = \"plot\",\n",
    "    plot.title = element_markdown(size = 11, lineheight = 1.2)\n",
    "  )"
   ]
  },
  {
   "cell_type": "code",
   "execution_count": null,
   "metadata": {},
   "outputs": [],
   "source": []
  }
 ],
 "metadata": {
  "kernelspec": {
   "display_name": "R",
   "language": "R",
   "name": "ir"
  },
  "language_info": {
   "codemirror_mode": "r",
   "file_extension": ".r",
   "mimetype": "text/x-r-source",
   "name": "R",
   "pygments_lexer": "r",
   "version": "3.6.1"
  }
 },
 "nbformat": 4,
 "nbformat_minor": 4
}
