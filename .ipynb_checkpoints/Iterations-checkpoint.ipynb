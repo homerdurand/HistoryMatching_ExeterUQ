{
 "cells": [
  {
   "cell_type": "markdown",
   "metadata": {},
   "source": [
    "# History Matching for L96\n",
    "Author : Redaoune Lguensat, Homer Durand\n",
    "\n",
    "Date : 26-07-21"
   ]
  },
  {
   "cell_type": "markdown",
   "metadata": {},
   "source": [
    "### Loading libs"
   ]
  },
  {
   "cell_type": "code",
   "execution_count": 1,
   "metadata": {
    "scrolled": true
   },
   "outputs": [
    {
     "name": "stderr",
     "output_type": "stream",
     "text": [
      "far library : Modelization for Functional AutoRegressive processes\n",
      "\n",
      "\n",
      "version 0.6-4 (2014-12-07)\n",
      "\n",
      "\n",
      "Spam version 2.6-0 (2020-12-14) is loaded.\n",
      "Type 'help( Spam)' or 'demo( spam)' for a short introduction \n",
      "and overview of this package.\n",
      "Help for individual functions is also obtained by adding the\n",
      "suffix '.spam' to the function name, e.g. 'help( chol.spam)'.\n",
      "\n",
      "\n",
      "Attaching package: ‘spam’\n",
      "\n",
      "\n",
      "The following objects are masked from ‘package:base’:\n",
      "\n",
      "    backsolve, forwardsolve\n",
      "\n",
      "\n",
      "See https://github.com/NCAR/Fields for\n",
      " an extensive vignette, other supplements and source code \n",
      "\n",
      "This is loo version 2.4.1\n",
      "\n",
      "- Online documentation and vignettes at mc-stan.org/loo\n",
      "\n",
      "- As of v2.0.0 loo defaults to 1 core but we recommend using as many as possible. Use the 'cores' argument or set options(mc.cores = NUM_CORES) for an entire session. \n",
      "\n",
      "Loading required package: future\n",
      "\n",
      "Loading required package: ggplot2\n",
      "\n",
      "Welcome! Want to learn more? See two factoextra-related books at https://goo.gl/ve3WBa\n",
      "\n",
      "corrplot 0.88 loaded\n",
      "\n",
      "\n",
      "Attaching package: ‘corrplot’\n",
      "\n",
      "\n",
      "The following object is masked from ‘package:shape’:\n",
      "\n",
      "    colorlegend\n",
      "\n",
      "\n",
      "\n",
      "Attaching package: ‘kernlab’\n",
      "\n",
      "\n",
      "The following object is masked from ‘package:ggplot2’:\n",
      "\n",
      "    alpha\n",
      "\n",
      "\n",
      "The following objects are masked from ‘package:pracma’:\n",
      "\n",
      "    cross, eig, size\n",
      "\n",
      "\n",
      "\n",
      "Attaching package: ‘BBmisc’\n",
      "\n",
      "\n",
      "The following object is masked from ‘package:grid’:\n",
      "\n",
      "    explode\n",
      "\n",
      "\n",
      "The following object is masked from ‘package:nlme’:\n",
      "\n",
      "    collapse\n",
      "\n",
      "\n",
      "The following object is masked from ‘package:base’:\n",
      "\n",
      "    isFALSE\n",
      "\n",
      "\n",
      "Loading required package: lattice\n",
      "\n",
      "\n",
      "Attaching package: ‘caret’\n",
      "\n",
      "\n",
      "The following object is masked from ‘package:future’:\n",
      "\n",
      "    cluster\n",
      "\n",
      "\n",
      "\n",
      "Attaching package: ‘ANN2’\n",
      "\n",
      "\n",
      "The following object is masked from ‘package:caret’:\n",
      "\n",
      "    train\n",
      "\n",
      "\n",
      "\n",
      "Attaching package: ‘ramify’\n",
      "\n",
      "\n",
      "The following object is masked from ‘package:kernlab’:\n",
      "\n",
      "    size\n",
      "\n",
      "\n",
      "The following objects are masked from ‘package:pracma’:\n",
      "\n",
      "    eye, inv, linspace, logspace, meshgrid, ones, rand, randi, randn,\n",
      "    repmat, size, tril, triu, zeros\n",
      "\n",
      "\n",
      "The following object is masked from ‘package:graphics’:\n",
      "\n",
      "    clip\n",
      "\n",
      "\n",
      "\n",
      "Attaching package: ‘MLmetrics’\n",
      "\n",
      "\n",
      "The following objects are masked from ‘package:caret’:\n",
      "\n",
      "    MAE, RMSE\n",
      "\n",
      "\n",
      "The following object is masked from ‘package:base’:\n",
      "\n",
      "    Recall\n",
      "\n",
      "\n"
     ]
    }
   ],
   "source": [
    "current_dir <- getwd()\n",
    "mogp_dir <- paste0(current_dir, \"/mogp-emulator\") #mogp_emulator lib\n",
    "\n",
    "setwd(paste0(current_dir, '/dev_ExeterUQ_MOGP/'))\n",
    "\n",
    "source(\"BuildEmulator/BuildEmulator.R\")\n",
    "source(\"HistoryMatching/HistoryMatching.R\")\n",
    "source(\"HistoryMatching/impLayoutplot.R\")\n",
    "\n",
    "setwd(current_dir)\n",
    "\n",
    "L96_amip <- import(\"L96_amip\")\n",
    "np <- import(\"numpy\")\n",
    "smt <- import(\"smt\")\n",
    "sklearn <- import(\"sklearn\")\n",
    "sampler <- import('skopt.sampler')\n",
    "skSpace <- import('skopt.space')\n",
    "\n",
    "library(ggtext)\n",
    "\n",
    "packages <- c(\"FactoMineR\", \"factoextra\", \"corrplot\", 'kernlab', 'pca3d', 'BBmisc', 'comprehenr', 'caret', \"future.apply\", 'tgp', 'ANN2', 'ramify', 'MLmetrics')\n",
    "# Install packages not yet installed\n",
    "installed_packages <- packages %in% rownames(installed.packages())\n",
    "if (any(installed_packages == FALSE)) {\n",
    "  install.packages(packages[!installed_packages])\n",
    "}\n",
    "\n",
    "# Packages loading\n",
    "invisible(lapply(packages, library, character.only = TRUE))"
   ]
  },
  {
   "cell_type": "code",
   "execution_count": 2,
   "metadata": {},
   "outputs": [],
   "source": [
    "np$random$seed(as.integer(42))\n",
    "\n",
    "X_init = 10*np$ones(as.integer(36))\n",
    "X_init[19]=1.0001 #ATtention X_init[19] !!!\n",
    "\n",
    "l96_two = L96_amip$L96TwoLevel(save_dt=0.001, X_init=X_init, integration_type='coupled') # True params J=10, h=1, F=10, c=10, b=10"
   ]
  },
  {
   "cell_type": "code",
   "execution_count": 3,
   "metadata": {},
   "outputs": [],
   "source": [
    "l96_two$iterate(10)"
   ]
  },
  {
   "cell_type": "code",
   "execution_count": 4,
   "metadata": {},
   "outputs": [],
   "source": [
    "Newinit = l96_two$X"
   ]
  },
  {
   "cell_type": "code",
   "execution_count": 5,
   "metadata": {},
   "outputs": [],
   "source": [
    "np$random$seed(as.integer(42))\n",
    "n_iter <- 1000\n",
    "dt <- 0.001\n",
    "l96_two = L96_amip$L96TwoLevel(save_dt=dt, X_init=Newinit, integration_type='coupled') "
   ]
  },
  {
   "cell_type": "code",
   "execution_count": 6,
   "metadata": {},
   "outputs": [],
   "source": [
    "l96_two$iterate(n_iter)"
   ]
  },
  {
   "cell_type": "code",
   "execution_count": 7,
   "metadata": {},
   "outputs": [],
   "source": [
    "X_hist <- l96_two$history$X$values"
   ]
  },
  {
   "cell_type": "code",
   "execution_count": 8,
   "metadata": {},
   "outputs": [
    {
     "data": {
      "text/plain": [
       "   user  system elapsed \n",
       " 15.103   7.963  23.091 "
      ]
     },
     "metadata": {},
     "output_type": "display_data"
    }
   ],
   "source": [
    "observations_amip <- l96_two$mean_stats(ax=as.integer(0))\n",
    "observations <- l96_two$mean_stats(ax=as.integer(0), amip_metrics=FALSE)"
   ]
  },
  {
   "cell_type": "code",
   "execution_count": 9,
   "metadata": {},
   "outputs": [],
   "source": [
    "NRMSE <- function(y, ychap) {sqrt((1/length(ychap))*sum((ychap-y)**2/ychap))}"
   ]
  },
  {
   "cell_type": "code",
   "execution_count": 10,
   "metadata": {},
   "outputs": [],
   "source": [
    "plan(multicore)"
   ]
  },
  {
   "cell_type": "code",
   "execution_count": 11,
   "metadata": {},
   "outputs": [],
   "source": [
    "mses_amip <- c()\n",
    "mses <- c()\n",
    "l96_two = L96_amip$L96TwoLevel(save_dt=dt, X_init=Newinit, integration_type='coupled')\n",
    "\n",
    "for(i in seq(1000)){\n",
    "    l96_two$iterate(1)\n",
    "    obs_amip <- l96_two$mean_stats(ax=as.integer(0))\n",
    "    obs <- l96_two$mean_stats(ax=as.integer(0), amip_metrics=FALSE)\n",
    "\n",
    "    mses <- NRMSE(observations, obs)\n",
    "    mses_amip <- NRMSE(observations_amip, obs_amip)\n",
    "}"
   ]
  },
  {
   "cell_type": "code",
   "execution_count": 20,
   "metadata": {},
   "outputs": [],
   "source": [
    "df_mse <- as.data.frame(list(mses, iters))\n",
    "names(df_mse) <- c('NRMSE', 'Iters')\n",
    "ggplot(df_mse, aes(x=Iters, y=NRMSE)) + geom_point() + \n",
    "  labs(\n",
    "    title = \"NRMSE(obs<sub>100</sub> - obs<sub>n</sub>) \"\n",
    "  ) +\n",
    "  theme_bw() +\n",
    "  theme(\n",
    "    plot.title.position = \"plot\",\n",
    "    plot.title = element_markdown(size = 11, lineheight = 1.2)\n",
    "  )"
   ]
  },
  {
   "cell_type": "code",
   "execution_count": 22,
   "metadata": {},
   "outputs": [
    {
     "data": {
      "image/png": "[encoded data removed]",
      "text/plain": [
       "plot without title"
      ]
     },
     "metadata": {
      "image/png": {
       "height": 420,
       "width": 420
      }
     },
     "output_type": "display_data"
    }
   ],
   "source": [
    "df_mse_amip <- as.data.frame(list(mses_amip, iters))\n",
    "names(df_mse_amip) <- c('NRMSE', 'Iters')\n",
    "ggplot(df_mse_amip, aes(x=Iters, y=NRMSE)) + geom_point() + \n",
    "  labs(\n",
    "    title = \"NRMSE(obs<sub>100</sub> - obs<sub>n</sub>) \"\n",
    "  ) +\n",
    "  theme_bw() +\n",
    "  theme(\n",
    "    plot.title.position = \"plot\",\n",
    "    plot.title = element_markdown(size = 11, lineheight = 1.2)\n",
    "  )"
   ]
  },
  {
   "cell_type": "code",
   "execution_count": null,
   "metadata": {},
   "outputs": [],
   "source": []
  }
 ],
 "metadata": {
  "kernelspec": {
   "display_name": "R",
   "language": "R",
   "name": "ir"
  },
  "language_info": {
   "codemirror_mode": "r",
   "file_extension": ".r",
   "mimetype": "text/x-r-source",
   "name": "R",
   "pygments_lexer": "r",
   "version": "3.6.3"
  }
 },
 "nbformat": 4,
 "nbformat_minor": 4
}
