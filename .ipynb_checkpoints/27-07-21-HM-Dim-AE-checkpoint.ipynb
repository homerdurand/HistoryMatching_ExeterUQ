{
 "cells": [
  {
   "cell_type": "markdown",
   "metadata": {},
   "source": [
    "# History Matching for L96\n",
    "Author : Redaoune Lguensat, Homer Durand\n",
    "\n",
    "Date : 04-08-2021"
   ]
  },
  {
   "cell_type": "markdown",
   "metadata": {},
   "source": [
    "### Loading libs"
   ]
  },
  {
   "cell_type": "code",
   "execution_count": 1,
   "metadata": {
    "scrolled": true
   },
   "outputs": [
    {
     "name": "stderr",
     "output_type": "stream",
     "text": [
      "far library : Modelization for Functional AutoRegressive processes\n",
      "\n",
      "\n",
      "version 0.6-4 (2014-12-07)\n",
      "\n",
      "\n",
      "Spam version 2.6-0 (2020-12-14) is loaded.\n",
      "Type 'help( Spam)' or 'demo( spam)' for a short introduction \n",
      "and overview of this package.\n",
      "Help for individual functions is also obtained by adding the\n",
      "suffix '.spam' to the function name, e.g. 'help( chol.spam)'.\n",
      "\n",
      "\n",
      "Attaching package: ‘spam’\n",
      "\n",
      "\n",
      "The following objects are masked from ‘package:base’:\n",
      "\n",
      "    backsolve, forwardsolve\n",
      "\n",
      "\n",
      "See https://github.com/NCAR/Fields for\n",
      " an extensive vignette, other supplements and source code \n",
      "\n",
      "This is loo version 2.4.1\n",
      "\n",
      "- Online documentation and vignettes at mc-stan.org/loo\n",
      "\n",
      "- As of v2.0.0 loo defaults to 1 core but we recommend using as many as possible. Use the 'cores' argument or set options(mc.cores = NUM_CORES) for an entire session. \n",
      "\n",
      "Loading required package: future\n",
      "\n",
      "\n",
      "Attaching package: ‘MLmetrics’\n",
      "\n",
      "\n",
      "The following object is masked from ‘package:base’:\n",
      "\n",
      "    Recall\n",
      "\n",
      "\n",
      "\n",
      "Attaching package: ‘keras’\n",
      "\n",
      "\n",
      "The following object is masked from ‘package:future’:\n",
      "\n",
      "    %<-%\n",
      "\n",
      "\n"
     ]
    }
   ],
   "source": [
    "current_dir <- getwd()\n",
    "mogp_dir <- paste0(current_dir, \"/mogp-emulator\") #mogp_emulator lib : https://github.com/alan-turing-institute/mogp-emulator\n",
    "\n",
    "setwd(paste0(current_dir, '/dev_ExeterUQ_MOGP/')) #devel version og ExeterUQ_MOGP : https://github.com/BayesExeter/ExeterUQ_MOGP/tree/devel\n",
    "\n",
    "source(\"BuildEmulator/BuildEmulator.R\")\n",
    "source(\"HistoryMatching/HistoryMatching.R\")\n",
    "source(\"HistoryMatching/impLayoutplot.R\")\n",
    "\n",
    "setwd(current_dir)\n",
    "\n",
    "r_packages <- c(\"future.apply\", 'tgp', 'ANN2', 'MLmetrics', 'keras')\n",
    "invisible(lapply(r_packages, library, character.only = TRUE))\n",
    "\n",
    "python_pkg <- c(\"L96_amip\", \"numpy\", \"sklearn\", \"skopt.sampler\", \"skopt.space\")\n",
    "python_pkg_names <- c(\"L96_amip\", \"np\", \"sklearn\", \"sampler\", \"skSpace\")\n",
    "for(i in seq(length(python_pkg))){assign(python_pkg_names[i], import(python_pkg[i]))}"
   ]
  },
  {
   "cell_type": "markdown",
   "metadata": {},
   "source": [
    "# History Matching\n",
    "\n",
    "1. Space filling design of parameters space\n",
    "2. Data simulation\n",
    "3. Training of statistical emulator\n",
    "4. Computation of implausibility\n",
    "5. Refocussing\n",
    "    * If stoping criterion is reached stop HM\n",
    "    * Else, redefining parameters space and go to 1.\n",
    "\n",
    "## Observations generation\n",
    "\n",
    "As our model is a toy model we need to generate *observations* based on the ground truth parameters in order to use them to tune our model. In a realistic model (e.g. an ocean model), observations are metrics based on real observations of the state of the ocean threw time.\n",
    "\n",
    "$\\frac{d X_{k}}{d t}=\\underbrace{-X_{k-1}\\left(X_{k-2}-X_{k+1}\\right)}_{\\text {Advection}} \\underbrace{-X_{k}}_{\\text {Diffusion}}+\\underbrace{F}_{\\text {Forcing}} \\underbrace{-h c \\bar{Y}_{k}}_{\\text {Coupling}}$\n",
    "\n",
    "$\\frac{1}{c} \\frac{d Y_{j, k}}{d t}=\\underbrace{-b Y_{j+1, k}\\left(Y_{j+2, k}-Y_{j-1, k}\\right)}_{\\text {Advection }} \\underbrace{-Y_{j, k}}_{\\text {Diffusion }} \\underbrace{+\\frac{h}{J} X_{k}}_{\\text {Coupling }}$\n",
    "\n",
    "We consider the correct parameters to be h=1, F=10, c=10, b=10 and we will first generate our metrics based on those inputs using the 65 terms depicted here as in Schneider et al. 2017. \n",
    "\n",
    "$$\n",
    "\\boldsymbol{f}_k(Y)=\\left(\\begin{array}{c}\n",
    "Y_{j,k} \\\\\n",
    "Y_{j,k}Y_{j',k}\n",
    "\\end{array}\\right), \\forall j, j' \\in J \\text{ and } k \\in K\n",
    "$$"
   ]
  },
  {
   "cell_type": "code",
   "execution_count": 2,
   "metadata": {},
   "outputs": [],
   "source": [
    "np$random$seed(as.integer(42))\n",
    "\n",
    "X_init = 10*np$ones(as.integer(36))\n",
    "X_init[19]=1.0001 #ATtention X_init[19] !!!\n",
    "\n",
    "l96_two = L96_amip$L96TwoLevel(save_dt=0.001, X_init=X_init, integration_type='coupled') # True params J=10, h=1, F=10, c=10, b=10"
   ]
  },
  {
   "cell_type": "markdown",
   "metadata": {},
   "source": [
    "We first iterate 10 iterations in order to access to the steady state of the L96 model"
   ]
  },
  {
   "cell_type": "code",
   "execution_count": 3,
   "metadata": {},
   "outputs": [],
   "source": [
    "l96_two$iterate(10)"
   ]
  },
  {
   "cell_type": "code",
   "execution_count": 4,
   "metadata": {},
   "outputs": [],
   "source": [
    "X_init = l96_two$X"
   ]
  },
  {
   "cell_type": "markdown",
   "metadata": {},
   "source": [
    "We can use *Newinit* to be sure to start from the attractor of the L96."
   ]
  },
  {
   "cell_type": "code",
   "execution_count": 5,
   "metadata": {},
   "outputs": [],
   "source": [
    "np$random$seed(as.integer(42))\n",
    "\n",
    "n_iter <- 20\n",
    "\n",
    "X_init = 10*np$ones(as.integer(36))\n",
    "X_init[19]=1.0001 #ATtention X_init[19] !!!\n",
    "\n",
    "l96_two = L96_amip$L96TwoLevel(save_dt=0.001, X_init=X_init, integration_type='coupled') # True params J=10, h=1, F=10, c=10, b=10"
   ]
  },
  {
   "cell_type": "code",
   "execution_count": 6,
   "metadata": {},
   "outputs": [],
   "source": [
    "l96_two$iterate(n_iter)"
   ]
  },
  {
   "cell_type": "markdown",
   "metadata": {},
   "source": [
    "We save the history of X in order to reinject it during the Y integration."
   ]
  },
  {
   "cell_type": "code",
   "execution_count": 7,
   "metadata": {},
   "outputs": [],
   "source": [
    "X_hist <- l96_two$history$X$values"
   ]
  },
  {
   "cell_type": "markdown",
   "metadata": {},
   "source": [
    "We save the metrics generate with the ground truth parameters (observations)."
   ]
  },
  {
   "cell_type": "code",
   "execution_count": 8,
   "metadata": {},
   "outputs": [
    {
     "data": {
      "text/plain": [
       "   user  system elapsed \n",
       "  0.279   0.028   0.307 "
      ]
     },
     "metadata": {},
     "output_type": "display_data"
    }
   ],
   "source": [
    "system.time(observations <- l96_two$mean_stats(ax=as.integer(0), amip_metrics=FALSE))"
   ]
  },
  {
   "cell_type": "markdown",
   "metadata": {},
   "source": [
    "We now have our ground truth metrics and history of X wo we can tune our model."
   ]
  },
  {
   "cell_type": "markdown",
   "metadata": {},
   "source": [
    "### Generation of metrics for the first wave\n",
    "\n",
    "We first sample the parameters space (input space) using a space filling design (latin hypercube sampling with maximin criterion) and then will generate our metrics for each of those points of the parameter space."
   ]
  },
  {
   "cell_type": "code",
   "execution_count": 9,
   "metadata": {},
   "outputs": [],
   "source": [
    "n_samples <- 40"
   ]
  },
  {
   "cell_type": "code",
   "execution_count": 10,
   "metadata": {},
   "outputs": [],
   "source": [
    "space <- skSpace$Space(list(c(-2, 2), c(-20,20), c(0, 20), c(-20, 20))) ##only h,F,c,b\n",
    "lhs <- sampler$Lhs()\n",
    "inputs_wave1 <- np$array(lhs$generate(space$dimensions, as.integer(n_samples), random_state=as.integer(42)))"
   ]
  },
  {
   "cell_type": "code",
   "execution_count": null,
   "metadata": {
    "scrolled": true
   },
   "outputs": [],
   "source": [
    "par(mfrow=c(2,3))\n",
    "plot(inputs_wave1[,1], inputs_wave1[,2], xlab=\"h\", ylab=\"F\", xlim=c(-2,2), ylim=c(-20,20))\n",
    "points(1, 10, col='red', pch=18, cex=2)\n",
    "plot(inputs_wave1[,1], inputs_wave1[,3], xlab=\"h\", ylab=\"c\", xlim=c(-2,2), ylim=c(0,20))\n",
    "points(1, 10, col='red', pch=18, cex=2)\n",
    "plot(inputs_wave1[,1], inputs_wave1[,4], xlab=\"c\", ylab=\"b\", xlim=c(-2,2), ylim=c(-20,20))\n",
    "points(10, 10, col='red', pch=18, cex=2)\n",
    "plot(inputs_wave1[,2], inputs_wave1[,3], xlab=\"F\", ylab=\"c\", xlim=c(-20,20), ylim=c(0,20))\n",
    "points(1, 10, col='red', pch=18, cex=2)\n",
    "plot(inputs_wave1[,2], inputs_wave1[,4], xlab=\"F\", ylab=\"b\", xlim=c(-20,20), ylim=c(-20,20))\n",
    "points(1, 10, col='red', pch=18, cex=2)\n",
    "plot(inputs_wave1[,3], inputs_wave1[,4], xlab=\"c\", ylab=\"b\", xlim=c(0,20), ylim=c(-20,20))\n",
    "points(10, 10, col='red', pch=18, cex=2)"
   ]
  },
  {
   "cell_type": "code",
   "execution_count": 12,
   "metadata": {},
   "outputs": [],
   "source": [
    "extract_metrics_AMIP <- function(p, n_iter, dt, initX) {\n",
    "    l96_mip = L96_amip$L96TwoLevel(X_init=initX, save_dt=dt, dt=dt, noYhist=FALSE, h=p[[1]], F=p[[2]], c=p[[3]], b=p[[4]])\n",
    "    l96_mip$iterate(n_iter)\n",
    "    return(l96_mip$mean_stats(ax=as.integer(0), amip_metrics=FALSE))\n",
    "}"
   ]
  },
  {
   "cell_type": "code",
   "execution_count": 13,
   "metadata": {},
   "outputs": [],
   "source": [
    "plan(multicore, workers = 8, gc = TRUE)"
   ]
  },
  {
   "cell_type": "code",
   "execution_count": 14,
   "metadata": {},
   "outputs": [],
   "source": [
    "metrics_wave1 = future_sapply(1:nrow(inputs_wave1), function(r) extract_metrics_AMIP(inputs_wave1[r,], n_iter, 0.001, X_init), future.seed=NULL)\n",
    "metrics_wave1 <- t(metrics_wave1)"
   ]
  },
  {
   "cell_type": "markdown",
   "metadata": {},
   "source": [
    "## Principal Component Analysis for dimensionality reduction"
   ]
  },
  {
   "cell_type": "code",
   "execution_count": 15,
   "metadata": {},
   "outputs": [],
   "source": [
    "# Generate data for testing PCA\n",
    "n_samples_test <- 40\n",
    "inputs_test <- np$array(lhs$generate(space$dimensions, as.integer(n_samples_test), random_state=as.integer(21)))\n",
    "metrics_test = future_sapply(1:nrow(inputs_test), function(r) extract_metrics_AMIP(inputs_test[r,], n_iter, 0.001, X_init), future.seed=NULL)\n",
    "metrics_test <- t(metrics_test)"
   ]
  },
  {
   "cell_type": "code",
   "execution_count": 16,
   "metadata": {},
   "outputs": [],
   "source": [
    "# Scale metrics\n",
    "my.scaler <- sklearn$preprocessing$StandardScaler()\n",
    "X <- my.scaler$fit_transform(metrics_wave1)\n",
    "X_test <- my.scaler$fit_transform(metrics_test)\n",
    "input_size = dim(X)[[2]]"
   ]
  },
  {
   "cell_type": "code",
   "execution_count": 107,
   "metadata": {},
   "outputs": [
    {
     "data": {
      "text/html": [
       "0.402522141431094"
      ],
      "text/latex": [
       "0.402522141431094"
      ],
      "text/markdown": [
       "0.402522141431094"
      ],
      "text/plain": [
       "[1] 0.4025221"
      ]
     },
     "metadata": {},
     "output_type": "display_data"
    },
    {
     "data": {
      "text/html": [
       "0.423468169498255"
      ],
      "text/latex": [
       "0.423468169498255"
      ],
      "text/markdown": [
       "0.423468169498255"
      ],
      "text/plain": [
       "[1] 0.4234682"
      ]
     },
     "metadata": {},
     "output_type": "display_data"
    },
    {
     "data": {
      "image/png": "[encoded data removed]",
      "text/plain": [
       "plot without title"
      ]
     },
     "metadata": {
      "image/png": {
       "height": 420,
       "width": 420
      }
     },
     "output_type": "display_data"
    }
   ],
   "source": [
    "pca_dim <- 2\n",
    "pca <- sklearn$decomposition$PCA(n_components=as.integer(pca_dim))\n",
    "X_pca <- pca$fit_transform(X)\n",
    "plot(np$cumsum(pca$explained_variance_ratio_))\n",
    "X_pca_test <- pca$transform(X_test)\n",
    "X_inverse_transform <- pca$inverse_transform(X_pca)\n",
    "X_test_inverse_transform <- pca$inverse_transform(X_pca_test)\n",
    "mse <- MSE(X_inverse_transform, X)\n",
    "val_mse <- MSE(X_test_inverse_transform, X_test)\n",
    "mse\n",
    "val_mse"
   ]
  },
  {
   "cell_type": "markdown",
   "metadata": {},
   "source": [
    "### Create the data matrix\n",
    "We create a data frame with correct format to train an emulator as it is describe in https://bayesexeter.github.io/ExeterUQ_MOGP/Testing_ExeterUQ_mogp.html\n",
    "\n",
    "We select 65 metrics for a given k (here $k=0$) in order to fit the emulators in a reasonable amount of time. Here we select the metrics \n",
    "\n",
    "$$\n",
    "\\boldsymbol{f}_0(Y)=\\left(\\begin{array}{c}\n",
    "Y_{j,0} \\\\\n",
    "Y_{j,0}Y_{j',0}\n",
    "\\end{array}\\right), \\forall j, j' \\in J\n",
    "$$"
   ]
  },
  {
   "cell_type": "markdown",
   "metadata": {},
   "source": [
    "#### Scaling and Unscaling functions"
   ]
  },
  {
   "cell_type": "code",
   "execution_count": 108,
   "metadata": {},
   "outputs": [],
   "source": [
    "rangeScale <- function(df, scaler, range = c(-1, 1)){\n",
    "    for (i in 1:ncol(df)){\n",
    "        min <- scaler[[i]][1]\n",
    "        max <- scaler[[i]][2]\n",
    "        df[,i] = (range[2] - range[1])*(df[,i] - min)/(max - min) + range[1]\n",
    "    }\n",
    "    return(df)\n",
    "}\n",
    "                                        \n",
    "rangeUnscale <- function(df, scaler, range = c(-1, 1)){\n",
    "    for (i in 1:ncol(df)){\n",
    "        min <- scaler[[i]][1]\n",
    "        max <- scaler[[i]][2]\n",
    "        df[,i] = (max - min)*(df[,i] - range[1])/(range[2] - range[1]) + min\n",
    "    }\n",
    "    return(df)\n",
    "}"
   ]
  },
  {
   "cell_type": "code",
   "execution_count": 109,
   "metadata": {
    "scrolled": false
   },
   "outputs": [
    {
     "data": {
      "text/html": [
       "<table class=\"dataframe\">\n",
       "<caption>A data.frame: 6 × 7</caption>\n",
       "<thead>\n",
       "\t<tr><th></th><th scope=col>h</th><th scope=col>F</th><th scope=col>c</th><th scope=col>b</th><th scope=col>Noise</th><th scope=col>X1</th><th scope=col>X2</th></tr>\n",
       "\t<tr><th></th><th scope=col>&lt;dbl&gt;</th><th scope=col>&lt;dbl&gt;</th><th scope=col>&lt;dbl&gt;</th><th scope=col>&lt;dbl&gt;</th><th scope=col>&lt;dbl&gt;</th><th scope=col>&lt;dbl&gt;</th><th scope=col>&lt;dbl&gt;</th></tr>\n",
       "</thead>\n",
       "<tbody>\n",
       "\t<tr><th scope=row>1</th><td> 0.24272128</td><td>-0.0589672</td><td>-0.1036056</td><td>-0.93729158</td><td>0.5</td><td>-7.862772</td><td>-1.8086686</td></tr>\n",
       "\t<tr><th scope=row>2</th><td> 0.74974022</td><td>-0.4890278</td><td>-0.4040966</td><td> 0.75287034</td><td>0.5</td><td>-4.425088</td><td> 0.8850593</td></tr>\n",
       "\t<tr><th scope=row>3</th><td>-0.63048968</td><td> 0.4890101</td><td>-0.2089569</td><td>-0.87576325</td><td>0.5</td><td> 5.364938</td><td>-7.2092808</td></tr>\n",
       "\t<tr><th scope=row>4</th><td>-0.88941915</td><td> 0.5723452</td><td> 0.6221371</td><td>-0.98601571</td><td>0.5</td><td> 5.223678</td><td>-7.0040841</td></tr>\n",
       "\t<tr><th scope=row>5</th><td>-0.56311389</td><td>-0.3067018</td><td>-0.1841641</td><td> 0.01920742</td><td>0.5</td><td>-6.687528</td><td> 0.5833787</td></tr>\n",
       "\t<tr><th scope=row>6</th><td>-0.05324286</td><td>-0.1601800</td><td> 0.4320671</td><td> 0.65591650</td><td>0.5</td><td>-8.229416</td><td>-1.2286845</td></tr>\n",
       "</tbody>\n",
       "</table>\n"
      ],
      "text/latex": [
       "A data.frame: 6 × 7\n",
       "\\begin{tabular}{r|lllllll}\n",
       "  & h & F & c & b & Noise & X1 & X2\\\\\n",
       "  & <dbl> & <dbl> & <dbl> & <dbl> & <dbl> & <dbl> & <dbl>\\\\\n",
       "\\hline\n",
       "\t1 &  0.24272128 & -0.0589672 & -0.1036056 & -0.93729158 & 0.5 & -7.862772 & -1.8086686\\\\\n",
       "\t2 &  0.74974022 & -0.4890278 & -0.4040966 &  0.75287034 & 0.5 & -4.425088 &  0.8850593\\\\\n",
       "\t3 & -0.63048968 &  0.4890101 & -0.2089569 & -0.87576325 & 0.5 &  5.364938 & -7.2092808\\\\\n",
       "\t4 & -0.88941915 &  0.5723452 &  0.6221371 & -0.98601571 & 0.5 &  5.223678 & -7.0040841\\\\\n",
       "\t5 & -0.56311389 & -0.3067018 & -0.1841641 &  0.01920742 & 0.5 & -6.687528 &  0.5833787\\\\\n",
       "\t6 & -0.05324286 & -0.1601800 &  0.4320671 &  0.65591650 & 0.5 & -8.229416 & -1.2286845\\\\\n",
       "\\end{tabular}\n"
      ],
      "text/markdown": [
       "\n",
       "A data.frame: 6 × 7\n",
       "\n",
       "| <!--/--> | h &lt;dbl&gt; | F &lt;dbl&gt; | c &lt;dbl&gt; | b &lt;dbl&gt; | Noise &lt;dbl&gt; | X1 &lt;dbl&gt; | X2 &lt;dbl&gt; |\n",
       "|---|---|---|---|---|---|---|---|\n",
       "| 1 |  0.24272128 | -0.0589672 | -0.1036056 | -0.93729158 | 0.5 | -7.862772 | -1.8086686 |\n",
       "| 2 |  0.74974022 | -0.4890278 | -0.4040966 |  0.75287034 | 0.5 | -4.425088 |  0.8850593 |\n",
       "| 3 | -0.63048968 |  0.4890101 | -0.2089569 | -0.87576325 | 0.5 |  5.364938 | -7.2092808 |\n",
       "| 4 | -0.88941915 |  0.5723452 |  0.6221371 | -0.98601571 | 0.5 |  5.223678 | -7.0040841 |\n",
       "| 5 | -0.56311389 | -0.3067018 | -0.1841641 |  0.01920742 | 0.5 | -6.687528 |  0.5833787 |\n",
       "| 6 | -0.05324286 | -0.1601800 |  0.4320671 |  0.65591650 | 0.5 | -8.229416 | -1.2286845 |\n",
       "\n"
      ],
      "text/plain": [
       "  h           F          c          b           Noise X1        X2        \n",
       "1  0.24272128 -0.0589672 -0.1036056 -0.93729158 0.5   -7.862772 -1.8086686\n",
       "2  0.74974022 -0.4890278 -0.4040966  0.75287034 0.5   -4.425088  0.8850593\n",
       "3 -0.63048968  0.4890101 -0.2089569 -0.87576325 0.5    5.364938 -7.2092808\n",
       "4 -0.88941915  0.5723452  0.6221371 -0.98601571 0.5    5.223678 -7.0040841\n",
       "5 -0.56311389 -0.3067018 -0.1841641  0.01920742 0.5   -6.687528  0.5833787\n",
       "6 -0.05324286 -0.1601800  0.4320671  0.65591650 0.5   -8.229416 -1.2286845"
      ]
     },
     "metadata": {},
     "output_type": "display_data"
    }
   ],
   "source": [
    "# Arrange inputs (parameters) \n",
    "inputs_wave1 <- data.frame(inputs_wave1)\n",
    "my_bounds <- data.frame(list(c(-2, 2), c(-20,20), c(0, 20), c(-20, 20)))\n",
    "inputs_wave1_scaled <- rangeScale(inputs_wave1, my_bounds, range = c(-1, 1))\n",
    "names(inputs_wave1_scaled) <- c('h', 'F', 'c', 'b')\n",
    "\n",
    "\n",
    "X_pca_wave1 <- data.frame(X_pca)\n",
    "N = nrow(inputs_wave1) \n",
    "noise <- rnorm(N, 0.5, 0)\n",
    "tData <- data.frame(cbind(inputs_wave1_scaled, noise, X_pca_wave1))\n",
    "names(tData)[names(tData) == \"noise\"] <- \"Noise\"\n",
    "         \n",
    "head(tData)"
   ]
  },
  {
   "cell_type": "markdown",
   "metadata": {},
   "source": [
    "### Training emulator"
   ]
  },
  {
   "cell_type": "code",
   "execution_count": 110,
   "metadata": {
    "scrolled": true
   },
   "outputs": [
    {
     "name": "stdout",
     "output_type": "stream",
     "text": [
      "[1] \"Max reduction is 2.25373173053158 using F\"\n",
      "[1] \"Max reduction is 2.90462259452223 using F\"\n",
      "[1] \"Max reduction is 0.176539161696851 using h\"\n",
      "[1] \"Max reduction is 0.480707212506185 using h\"\n",
      "[1] \"Max reduction is 0.0778958855748979 using h\"\n",
      "[1] \"Max reduction is 0.0545168357074992 using b\"\n",
      "[1] \"Max reduction is 0.119038459411432 using c\"\n",
      "[1] \"Max reduction is 0.241741258656709 using Three Way Interactions with F\"\n",
      "[1] \"No further terms permitted with the given degrees of freedom\"\n",
      "\n",
      "Call:\n",
      "lm(formula = X1 ~ F + I(F^2) + h + I(h^2) + I(h^3) + b + c + \n",
      "    I(h * F) + I(b * F) + I(c * F) + I(b * h) + I(c * h) + I(c * \n",
      "    b) + I(F * h * F) + I(F * b * F) + I(F * c * F) + I(F * b * \n",
      "    h) + I(F * c * h) + I(F * c * b), data = tData)\n",
      "\n",
      "Residuals:\n",
      "    Min      1Q  Median      3Q     Max \n",
      "-3.8540 -0.7619 -0.0956  0.7441  2.5999 \n",
      "\n",
      "Coefficients:\n",
      "             Estimate Std. Error t value Pr(>|t|)    \n",
      "(Intercept)  -6.58082    0.62199 -10.580 1.22e-09 ***\n",
      "F             9.14153    0.65135  14.035 8.15e-12 ***\n",
      "I(F^2)       15.12342    1.25312  12.069 1.23e-10 ***\n",
      "h            -3.22340    1.80524  -1.786  0.08934 .  \n",
      "I(h^2)        5.14700    1.39747   3.683  0.00147 ** \n",
      "I(h^3)        5.82191    2.57526   2.261  0.03508 *  \n",
      "b            -0.16559    0.88828  -0.186  0.85400    \n",
      "c            -0.82909    1.05792  -0.784  0.44240    \n",
      "I(h * F)     -3.92194    1.16514  -3.366  0.00307 ** \n",
      "I(b * F)     -1.47770    1.42672  -1.036  0.31269    \n",
      "I(c * F)     -0.02092    1.16971  -0.018  0.98591    \n",
      "I(b * h)     -1.95271    1.17654  -1.660  0.11257    \n",
      "I(c * h)      1.85623    1.55354   1.195  0.24613    \n",
      "I(c * b)      0.10598    1.29879   0.082  0.93578    \n",
      "I(F * h * F)  0.71815    2.35297   0.305  0.76336    \n",
      "I(F * b * F)  1.43440    2.97329   0.482  0.63474    \n",
      "I(F * c * F) -0.02287    2.28775  -0.010  0.99212    \n",
      "I(F * b * h)  0.24201    2.49107   0.097  0.92357    \n",
      "I(F * c * h)  0.86513    2.34694   0.369  0.71628    \n",
      "I(F * c * b)  2.19082    2.55579   0.857  0.40149    \n",
      "---\n",
      "Signif. codes:  0 ‘***’ 0.001 ‘**’ 0.01 ‘*’ 0.05 ‘.’ 0.1 ‘ ’ 1\n",
      "\n",
      "Residual standard error: 1.839 on 20 degrees of freedom\n",
      "Multiple R-squared:  0.971,\tAdjusted R-squared:  0.9434 \n",
      "F-statistic:  35.2 on 19 and 20 DF,  p-value: 2.172e-11\n",
      "\n",
      "[1] \"1 I(F * c * F)\"\n",
      "[1] \"2 I(c * F)\"\n",
      "[1] \"3 I(F * b * h)\"\n",
      "[1] \"4 I(F * h * F)\"\n",
      "[1] \"5 I(F * b * F)\"\n",
      "[1] \"6 I(F * c * h)\"\n",
      "[1] \"7 I(F * c * b)\"\n",
      "[1] \"8 I(c * b)\"\n",
      "[1] \"9 I(b * F)\"\n",
      "[1] \"10 I(b * h)\"\n",
      "[1] \"11 b\"\n",
      "[1] \"12 I(c * h)\"\n",
      "[1] \"13 c\"\n",
      "[1] \"14 I(h^3)\"\n",
      "\n",
      "Call:\n",
      "lm(formula = X1 ~ F + I(F^2) + h + I(h^2) + I(h * F), data = tData)\n",
      "\n",
      "Residuals:\n",
      "    Min      1Q  Median      3Q     Max \n",
      "-3.2020 -1.1660 -0.0583  1.4142  3.3995 \n",
      "\n",
      "Coefficients:\n",
      "            Estimate Std. Error t value Pr(>|t|)    \n",
      "(Intercept)  -6.7682     0.5735 -11.801 1.43e-13 ***\n",
      "F             8.8917     0.5437  16.355  < 2e-16 ***\n",
      "I(F^2)       15.2228     1.0198  14.927  < 2e-16 ***\n",
      "h             0.5906     0.5433   1.087  0.28469    \n",
      "I(h^2)        4.8541     1.0647   4.559 6.35e-05 ***\n",
      "I(h * F)     -2.7260     0.9490  -2.873  0.00697 ** \n",
      "---\n",
      "Signif. codes:  0 ‘***’ 0.001 ‘**’ 0.01 ‘*’ 0.05 ‘.’ 0.1 ‘ ’ 1\n",
      "\n",
      "Residual standard error: 1.914 on 34 degrees of freedom\n",
      "Multiple R-squared:  0.9465,\tAdjusted R-squared:  0.9387 \n",
      "F-statistic: 120.4 on 5 and 34 DF,  p-value: < 2.2e-16\n",
      "\n",
      "[1] \"Max reduction is 2.11272283109874 using h\"\n",
      "[1] \"Max reduction is 1.05615571283048 using F\"\n",
      "[1] \"Max reduction is 0.266258813183832 using h\"\n",
      "[1] \"No permitted terms improve the fit\"\n",
      "\n",
      "Call:\n",
      "lm(formula = X2 ~ h + I(h^2) + F + I(F * h), data = tData)\n",
      "\n",
      "Residuals:\n",
      "    Min      1Q  Median      3Q     Max \n",
      "-7.1930 -2.3238 -0.4078  2.5706  8.8556 \n",
      "\n",
      "Coefficients:\n",
      "            Estimate Std. Error t value Pr(>|t|)    \n",
      "(Intercept)  -1.5562     0.8888  -1.751   0.0887 .  \n",
      "h             7.3875     1.0414   7.094 2.89e-08 ***\n",
      "I(h^2)        5.1735     2.0442   2.531   0.0160 *  \n",
      "F            -0.5797     1.0438  -0.555   0.5822    \n",
      "I(F * h)     10.1264     1.8015   5.621 2.44e-06 ***\n",
      "---\n",
      "Signif. codes:  0 ‘***’ 0.001 ‘**’ 0.01 ‘*’ 0.05 ‘.’ 0.1 ‘ ’ 1\n",
      "\n",
      "Residual standard error: 3.675 on 35 degrees of freedom\n",
      "Multiple R-squared:  0.7602,\tAdjusted R-squared:  0.7328 \n",
      "F-statistic: 27.75 on 4 and 35 DF,  p-value: 2.002e-10\n",
      "\n"
     ]
    }
   ],
   "source": [
    "cands <- names(tData)[1:4]\n",
    "em_wave1 <- BuildNewEmulators(tData, HowManyEmulators = ncol(X_pca), meanFun = \"fitted\", additionalVariables = cands) # "
   ]
  },
  {
   "cell_type": "markdown",
   "metadata": {},
   "source": [
    "We can use Leave One Out to verify if our GPs fit our metrics correctly."
   ]
  },
  {
   "cell_type": "code",
   "execution_count": 111,
   "metadata": {},
   "outputs": [],
   "source": [
    "#tLOOs <- LOO.plot(Emulators = em_wave1, which.emulator = 4, ParamNames = cands)"
   ]
  },
  {
   "cell_type": "markdown",
   "metadata": {},
   "source": [
    "### Compute implausibility\n",
    "\n",
    "We will compute implausibility as it is described in *Williamson & al. (2017)*.\n",
    "\n",
    "$$\n",
    "I_i(x_0) = \\frac{|z_i - \\mathbf{E}[f_i(x_0)]|}{|Var[z_i - \\mathbf{E}[f_i(x_0)]]|} \\\\\n",
    "I(x_0) = max_i(I_i(x_0))\n",
    "$$\n",
    "\n",
    "We consider that $Var[z_i - \\mathbf{E}[f_i(x_0)]] = Var[e] +\n",
    "Var[g] + Var[f(x_0)]$  like it is describe in *Williamson & al. (2017)*. \n",
    "\n",
    "With $Var[e]$ the observational\n",
    "error variance, $Var[g]$ the model discrepancy variance\n",
    "and $Var[f(x)]$ the variance of the emulator."
   ]
  },
  {
   "cell_type": "code",
   "execution_count": 112,
   "metadata": {},
   "outputs": [],
   "source": [
    "tDisc <- rep(0, ncol(metrics_wave1)) # model discrepancy variance Var[g] \n",
    "tObsErr <- rep(0, ncol(metrics_wave1)) # observational error variance Var[e]\n",
    "tObs <-  as.vector(observations) # Observations"
   ]
  },
  {
   "cell_type": "markdown",
   "metadata": {},
   "source": [
    "We generate a large sampling of the parameter space (that we have scaled) and will compute implausibility for each point of this parameters space."
   ]
  },
  {
   "cell_type": "code",
   "execution_count": 113,
   "metadata": {},
   "outputs": [
    {
     "data": {
      "text/plain": [
       "   user  system elapsed \n",
       "  0.950   0.983   1.057 "
      ]
     },
     "metadata": {},
     "output_type": "display_data"
    }
   ],
   "source": [
    "sample_size <- 100000\n",
    "nparam <- length(names(em_wave1$fitting.elements$Design))\n",
    "Xp <- as.data.frame(2*randomLHS(sample_size, nparam)-1)\n",
    "names(Xp) <- names(em_wave1$fitting.elements$Design)\n",
    "system.time(Timps <- ImplausibilityMOGP(NewData=Xp, Emulator=em_wave1, Discrepancy=tDisc, Obs=tObs, ObsErr=tObsErr))"
   ]
  },
  {
   "cell_type": "code",
   "execution_count": 114,
   "metadata": {},
   "outputs": [
    {
     "name": "stdout",
     "output_type": "stream",
     "text": [
      "    h   F c   b\n",
      "1 0.5 0.5 0 0.5\n"
     ]
    }
   ],
   "source": [
    "VarNames <- names(Xp)\n",
    "valmax = 0 #how many outputs can be above the implausibility cut off\n",
    "cutoff <- 3 #the implausibility cut off\n",
    "param.def = data.frame(h=c(1),F=c(10),c=c(10),b=c(10)) #the default parameters of the model (on [-1,1])\n",
    "param.defaults.norm = rangeScale(param.def, my_bounds, range(-1,1))\n",
    "print(param.defaults.norm)"
   ]
  },
  {
   "cell_type": "code",
   "execution_count": 115,
   "metadata": {},
   "outputs": [
    {
     "data": {
      "text/html": [
       "0.206"
      ],
      "text/latex": [
       "0.206"
      ],
      "text/markdown": [
       "0.206"
      ],
      "text/plain": [
       "[1] 0.206"
      ]
     },
     "metadata": {},
     "output_type": "display_data"
    }
   ],
   "source": [
    "NROY1 <- which(rowSums(Timps <= cutoff) >= em_wave1$mogp$n_emulators -valmax)\n",
    "scoreNROY1 <- length(NROY1)/dim(Xp)[1]\n",
    "scoreNROY1"
   ]
  },
  {
   "cell_type": "markdown",
   "metadata": {},
   "source": [
    "The first wave of tuning allowed us to reject approximately 70% of the parameters space."
   ]
  },
  {
   "cell_type": "markdown",
   "metadata": {},
   "source": [
    "### Layout of NROY space"
   ]
  },
  {
   "cell_type": "code",
   "execution_count": 116,
   "metadata": {},
   "outputs": [
    {
     "data": {
      "image/png": "[encoded data removed]",
      "text/plain": [
       "plot without title"
      ]
     },
     "metadata": {
      "image/png": {
       "height": 420,
       "width": 420
      }
     },
     "output_type": "display_data"
    }
   ],
   "source": [
    "ImpData_wave1 = cbind(Xp, Timps)\n",
    "ImpListM1 = CreateImpList(whichVars = 1:nparam, VarNames=VarNames, ImpData=ImpData_wave1, nEms=em_wave1$mogp$n_emulators, whichMax=valmax+1)\n",
    "imp.layoutm11(ImpListM1,VarNames,VariableDensity=FALSE,newPDF=FALSE,the.title=paste(\"InputSpace_wave\",WAVEN,\".pdf\",sep=\"\"),newPNG=FALSE,newJPEG=FALSE,newEPS=FALSE,Points=matrix(param.defaults.norm,ncol=nparam))\n",
    "mtext(paste(\"Remaining space:\",scoreNROY1,sep=\"\"), side=1)"
   ]
  },
  {
   "cell_type": "markdown",
   "metadata": {},
   "source": [
    "## Second Wave\n",
    "\n",
    "We will generate a large number of samples in the entire parameters space in order to obtain *n_samples* samples in the NROY space created with the emulator *em_wave1*."
   ]
  },
  {
   "cell_type": "code",
   "execution_count": 117,
   "metadata": {},
   "outputs": [],
   "source": [
    "n <- ceiling(n_samples*4/scoreNROY1)"
   ]
  },
  {
   "cell_type": "code",
   "execution_count": 118,
   "metadata": {},
   "outputs": [],
   "source": [
    "space <- skSpace$Space(list(c(-1, 1), c(-1,1), c(-1, 1), c(-1, 1))) ## we use a scaled space\n",
    "inputs_wave2_scaled_temp <- np$array(lhs$generate(space$dimensions, as.integer(n), random_state=as.integer(42)))"
   ]
  },
  {
   "cell_type": "markdown",
   "metadata": {},
   "source": [
    "We find the points of NewData wich fall in the NROY space of each emulator in *emulators*."
   ]
  },
  {
   "cell_type": "code",
   "execution_count": 119,
   "metadata": {},
   "outputs": [],
   "source": [
    "parameters_space <- function(emulators, NewData, n_samples=n_samples){\n",
    "    NROY_em <- 1:nrow(NewData)\n",
    "    for (em in emulators){\n",
    "        imp_em <- ImplausibilityMOGP(NewData=NewData, Emulator=em, Discrepancy=tDisc, Obs=tObs, ObsErr=tObsErr)\n",
    "        NROY_temp <- which(rowSums(imp_em <= cutoff) >= em$mogp$n_emulators - valmax)\n",
    "        NROY_em <- intersect(NROY_em, NROY_temp)\n",
    "    }\n",
    "    return(sample(NROY_em, n_samples))\n",
    "}"
   ]
  },
  {
   "cell_type": "code",
   "execution_count": 120,
   "metadata": {},
   "outputs": [],
   "source": [
    "emulators <- list(em_wave1)\n",
    "NROY_temp_wave2 <- parameters_space(emulators, inputs_wave2_scaled_temp, 30)"
   ]
  },
  {
   "cell_type": "markdown",
   "metadata": {},
   "source": [
    "We now have our new inputs for wave 2.\n",
    "\n",
    "We need to unscale those inputs for metrics simulations."
   ]
  },
  {
   "cell_type": "code",
   "execution_count": 124,
   "metadata": {},
   "outputs": [],
   "source": [
    "inputs_wave2_scaled <- inputs_wave2_scaled_temp[NROY_temp_wave2,]\n",
    "inputs_wave2 <- rangeUnscale(input_wave2_scaled, my_bounds, range = c(-1, 1))"
   ]
  },
  {
   "cell_type": "code",
   "execution_count": 125,
   "metadata": {},
   "outputs": [
    {
     "data": {
      "image/png": "[encoded data removed]",
      "text/plain": [
       "plot without title"
      ]
     },
     "metadata": {
      "image/png": {
       "height": 420,
       "width": 420
      }
     },
     "output_type": "display_data"
    }
   ],
   "source": [
    "par(mfrow=c(2,3))\n",
    "plot(inputs_wave2[,1], inputs_wave2[,2], xlab=\"h\", ylab=\"F\", xlim=c(-2,2), ylim=c(-20,20))\n",
    "points(1, 10, col='red', pch=18, cex=2)\n",
    "plot(inputs_wave2[,1], inputs_wave2[,3], xlab=\"h\", ylab=\"c\", xlim=c(-2,2), ylim=c(0,20))\n",
    "points(1, 10, col='red', pch=18, cex=2)\n",
    "plot(inputs_wave2[,1], inputs_wave2[,4], xlab=\"c\", ylab=\"b\", xlim=c(-2,2), ylim=c(-20,20))\n",
    "points(10, 10, col='red', pch=18, cex=2)\n",
    "plot(inputs_wave2[,2], inputs_wave2[,3], xlab=\"F\", ylab=\"c\", xlim=c(-20,20), ylim=c(0,20))\n",
    "points(1, 10, col='red', pch=18, cex=2)\n",
    "plot(inputs_wave2[,2], inputs_wave2[,4], xlab=\"F\", ylab=\"b\", xlim=c(-20,20), ylim=c(-20,20))\n",
    "points(1, 10, col='red', pch=18, cex=2)\n",
    "plot(inputs_wave2[,3], inputs_wave2[,4], xlab=\"c\", ylab=\"b\", xlim=c(0,20), ylim=c(-20,20))\n",
    "points(10, 10, col='red', pch=18, cex=2)"
   ]
  },
  {
   "cell_type": "code",
   "execution_count": null,
   "metadata": {},
   "outputs": [],
   "source": [
    "metrics_wave2 <- future_sapply(1:nrow(input_wave2), function(r) extract_metrics_AMIP(input_wave2[r,], n_iter, 0.001, X_hist), future.seed=NULL) \n",
    "metrics_wave2 <- t(metrics_wave2) "
   ]
  },
  {
   "cell_type": "markdown",
   "metadata": {},
   "source": [
    "## Principal Component Analysis for dimensionality reduction"
   ]
  },
  {
   "cell_type": "code",
   "execution_count": null,
   "metadata": {},
   "outputs": [],
   "source": [
    "# Generate data for testing PCA\n",
    "n_samples_test <- 40\n",
    "inputs_test <- np$array(lhs$generate(space$dimensions, as.integer(n_samples_test), random_state=as.integer(21)))\n",
    "metrics_test = future_sapply(1:nrow(inputs_test), function(r) extract_metrics_AMIP(inputs_test[r,], n_iter, 0.001, X_init), future.seed=NULL)\n",
    "metrics_test <- t(metrics_test)"
   ]
  },
  {
   "cell_type": "code",
   "execution_count": null,
   "metadata": {},
   "outputs": [],
   "source": [
    "# Scale metrics\n",
    "my.scaler <- sklearn$preprocessing$StandardScaler()\n",
    "X_wave2 <- my.scaler$fit_transform(metrics_wave2)"
   ]
  },
  {
   "cell_type": "code",
   "execution_count": null,
   "metadata": {},
   "outputs": [],
   "source": [
    "X_pca <- pca$fit_transform(X)\n",
    "plot(np$cumsum(pca$explained_variance_ratio_))\n",
    "X_pca_test <- pca$transform(X_test)\n",
    "X_inverse_transform <- pca$inverse_transform(X_pca)\n",
    "X_test_inverse_transform <- pca$inverse_transform(X_pca_test)\n",
    "mse <- MSE(X_inverse_transform, X)\n",
    "val_mse <- MSE(X_test_inverse_transform, X_test)\n",
    "mse\n",
    "val_mse"
   ]
  },
  {
   "cell_type": "markdown",
   "metadata": {},
   "source": [
    "### Create the data matrix"
   ]
  },
  {
   "cell_type": "code",
   "execution_count": null,
   "metadata": {
    "scrolled": true
   },
   "outputs": [],
   "source": [
    "# Arrange inputs (parameters) \n",
    "inputs_wave2 <- data.frame(inputs_wave2)\n",
    "my_bounds <- data.frame(list(c(-2, 2), c(-20,20), c(0, 20), c(-20, 20)))\n",
    "inputs_wave2_scaled <- rangeScale(inputs_wave2, my_bounds, range = c(-1, 1))\n",
    "names(inputs_wave1_scaled) <- c('h', 'F', 'c', 'b')\n",
    "\n",
    "\n",
    "X_pca_wave1 <- data.frame(X_pca)\n",
    "N = nrow(inputs_wave1) \n",
    "noise <- rnorm(N, 0.5, 0)\n",
    "tData <- data.frame(cbind(inputs_wave1_scaled, noise, X_pca_wave1))\n",
    "names(tData)[names(tData) == \"noise\"] <- \"Noise\"\n",
    "         \n",
    "head(tData)"
   ]
  },
  {
   "cell_type": "markdown",
   "metadata": {},
   "source": [
    "### Training emulator"
   ]
  },
  {
   "cell_type": "code",
   "execution_count": null,
   "metadata": {},
   "outputs": [],
   "source": [
    "em_wave2 <- BuildNewEmulators(tData_wave2, HowManyEmulators = ncol(metrics_wave2), meanFun = \"fitted\", additionalVariables = cands) # "
   ]
  },
  {
   "cell_type": "code",
   "execution_count": null,
   "metadata": {},
   "outputs": [],
   "source": [
    "tLOOs <- LOO.plot(Emulators = em_wave2, which.emulator = 4, ParamNames = cands)"
   ]
  },
  {
   "cell_type": "markdown",
   "metadata": {},
   "source": [
    "### Compute implausibility"
   ]
  },
  {
   "cell_type": "code",
   "execution_count": null,
   "metadata": {
    "scrolled": true
   },
   "outputs": [],
   "source": [
    "sample_size <- 100000\n",
    "nparam <- length(names(em_wave2$fitting.elements$Design))\n",
    "Xp_wave2 <- as.data.frame(2*randomLHS(sample_size, nparam)-1)\n",
    "names(Xp_wave2) <- names(em_wave2$fitting.elements$Design)\n",
    "system.time(Timps_wave2 <- ImplausibilityMOGP(NewData=Xp_wave2, Emulator=em_wave2, Discrepancy=tDisc, Obs=tObs, ObsErr=tObsErr))"
   ]
  },
  {
   "cell_type": "code",
   "execution_count": null,
   "metadata": {},
   "outputs": [],
   "source": [
    "valmax = 0 #Set to 2 in order to have a \"more steady\" NROY space\n",
    "cutoff <- 3 #the implausibility cut off"
   ]
  },
  {
   "cell_type": "code",
   "execution_count": null,
   "metadata": {},
   "outputs": [],
   "source": [
    "NROY2 <- which(rowSums(Timps_wave2 <= cutoff) >= em_wave2$mogp$n_emulators -valmax)\n",
    "scoreNROY2 <- length(NROY2)/dim(Xp_wave2)[1]"
   ]
  },
  {
   "cell_type": "markdown",
   "metadata": {},
   "source": [
    "### Layout of NROY space"
   ]
  },
  {
   "cell_type": "code",
   "execution_count": null,
   "metadata": {
    "scrolled": false
   },
   "outputs": [],
   "source": [
    "ImpData_wave2 = cbind(Xp_wave2, Timps_wave2)\n",
    "ImpListM2 = CreateImpList(whichVars = 1:nparam, VarNames=VarNames, ImpData=ImpData_wave2, nEms=em_wave2$mogp$n_emulators, whichMax=valmax+1)\n",
    "imp.layoutm11(ImpListM2,VarNames,VariableDensity=FALSE,newPDF=FALSE,the.title=paste(\"InputSpace_wave\",WAVEN,\".pdf\",sep=\"\"),newPNG=FALSE,newJPEG=FALSE,newEPS=FALSE,Points=matrix(param.defaults.norm,ncol=nparam))\n",
    "mtext(paste(\"Remaining space:\",scoreNROY2,sep=\"\"), side=1)"
   ]
  },
  {
   "cell_type": "markdown",
   "metadata": {},
   "source": [
    "## Third Wave"
   ]
  },
  {
   "cell_type": "code",
   "execution_count": null,
   "metadata": {},
   "outputs": [],
   "source": [
    "n <- ceiling(n_samples*3/scoreNROY2)"
   ]
  },
  {
   "cell_type": "code",
   "execution_count": null,
   "metadata": {},
   "outputs": [],
   "source": [
    "inputs_wave3_scaled_temp <- np$array(lhs$generate(space$dimensions, as.integer(n), random_state=as.integer(42)))"
   ]
  },
  {
   "cell_type": "code",
   "execution_count": null,
   "metadata": {},
   "outputs": [],
   "source": [
    "emulators <- list(em_wave1, em_wave2)\n",
    "NROY_temp_wave3 <- parameters_space(emulators, inputs_wave3_scaled_temp, n_samples=30)"
   ]
  },
  {
   "cell_type": "code",
   "execution_count": null,
   "metadata": {},
   "outputs": [],
   "source": [
    "length(NROY_temp_wave3)"
   ]
  },
  {
   "cell_type": "code",
   "execution_count": null,
   "metadata": {},
   "outputs": [],
   "source": [
    "input_wave3_scaled <- inputs_wave3_scaled_temp[sample(NROY_temp_wave3, n_samples),]\n",
    "input_wave3 <- rangeUnscale(input_wave3_scaled, my_bounds, range = c(-1, 1))"
   ]
  },
  {
   "cell_type": "code",
   "execution_count": null,
   "metadata": {},
   "outputs": [],
   "source": [
    "par(mfrow=c(2,2))\n",
    "plot(input_wave3[,1], input_wave3[,2], xlab=\"h\", ylab=\"c\", xlim=c(-2,2), ylim=c(0,20))\n",
    "points(1, 10, col='red', pch=18, cex=2)\n",
    "plot(input_wave3[,1], input_wave3[,3], xlab=\"h\", ylab=\"b\", xlim=c(-2,2), ylim=c(-20,20))\n",
    "points(1, 10, col='red', pch=18, cex=2)\n",
    "plot(input_wave3[,2], input_wave3[,3], xlab=\"c\", ylab=\"b\", xlim=c(0,20), ylim=c(-20,20))\n",
    "points(10, 10, col='red', pch=18, cex=2)"
   ]
  },
  {
   "cell_type": "code",
   "execution_count": null,
   "metadata": {},
   "outputs": [],
   "source": [
    "metrics_wave3 = future_sapply(1:nrow(input_wave3), function(r) extract_metrics_AMIP(input_wave3[r,], n_iter, 0.001, X_hist), future.seed=NULL) \n",
    "metrics_wave3 <- t(metrics_wave3)"
   ]
  },
  {
   "cell_type": "markdown",
   "metadata": {},
   "source": [
    "### Create the data matrix"
   ]
  },
  {
   "cell_type": "code",
   "execution_count": null,
   "metadata": {
    "scrolled": true
   },
   "outputs": [],
   "source": [
    "input_wave3_scaled <- data.frame(input_wave3_scaled)\n",
    "names(input_wave3_scaled) <- c('h', 'c', 'b')\n",
    "\n",
    "\n",
    "metrics_k_wave3 <- data.frame(metrics_wave3)\n",
    "N = nrow(metrics_k_wave3) \n",
    "noise <- rnorm(N, 0, 0) # Tester à 0.5\n",
    "tData_wave3 <- data.frame(cbind(input_wave3_scaled, noise, metrics_k_wave3))\n",
    "names(tData_wave3)[names(tData_wave3) == \"noise\"] <- \"Noise\"\n",
    "         \n",
    "head(tData_wave3)"
   ]
  },
  {
   "cell_type": "markdown",
   "metadata": {},
   "source": [
    "### Training emulator"
   ]
  },
  {
   "cell_type": "code",
   "execution_count": null,
   "metadata": {},
   "outputs": [],
   "source": [
    "em_wave3 <- BuildNewEmulators(tData_wave3, HowManyEmulators = ncol(metrics_wave3), meanFun = \"fitted\", additionalVariables = cands) # "
   ]
  },
  {
   "cell_type": "code",
   "execution_count": null,
   "metadata": {},
   "outputs": [],
   "source": [
    "tLOOs <- LOO.plot(Emulators = em_wave3, which.emulator = 12, ParamNames = cands)"
   ]
  },
  {
   "cell_type": "markdown",
   "metadata": {},
   "source": [
    "### Compute implausibility"
   ]
  },
  {
   "cell_type": "code",
   "execution_count": null,
   "metadata": {},
   "outputs": [],
   "source": [
    "sample_size <- 100000\n",
    "nparam <- length(names(em_wave3$fitting.elements$Design))\n",
    "Xp_wave3 <- as.data.frame(2*randomLHS(sample_size, nparam)-1)\n",
    "names(Xp_wave3) <- names(em_wave3$fitting.elements$Design)\n",
    "system.time(Timps_wave3 <- ImplausibilityMOGP(NewData=Xp_wave3, Emulator=em_wave3, Discrepancy=tDisc, Obs=tObs, ObsErr=tObsErr))"
   ]
  },
  {
   "cell_type": "code",
   "execution_count": null,
   "metadata": {},
   "outputs": [],
   "source": [
    "valmax = 0 #how many outputs can be above the implausibility cut off\n",
    "cutoff <- 3 #the implausibility cut off"
   ]
  },
  {
   "cell_type": "code",
   "execution_count": null,
   "metadata": {},
   "outputs": [],
   "source": [
    "NROY3 <- which(rowSums(Timps_wave3 <= cutoff) >= em_wave3$mogp$n_emulators -valmax)\n",
    "scoreNROY3 <- length(NROY3)/dim(Xp_wave3)[1]"
   ]
  },
  {
   "cell_type": "markdown",
   "metadata": {},
   "source": [
    "### Layout of NROY space"
   ]
  },
  {
   "cell_type": "code",
   "execution_count": null,
   "metadata": {
    "scrolled": true
   },
   "outputs": [],
   "source": [
    "ImpData_wave3 = cbind(Xp_wave3, Timps_wave3)\n",
    "ImpListM3 = CreateImpList(whichVars = 1:nparam, VarNames=VarNames, ImpData=ImpData_wave3, nEms=em_wave3$mogp$n_emulators, whichMax=valmax+1)\n",
    "imp.layoutm11(ImpListM3,VarNames,VariableDensity=FALSE,newPDF=FALSE,the.title=paste(\"InputSpace_wave\",WAVEN,\".pdf\",sep=\"\"),newPNG=FALSE,newJPEG=FALSE,newEPS=FALSE,Points=matrix(param.defaults.norm,ncol=nparam))\n",
    "mtext(paste(\"Remaining space:\",scoreNROY3,sep=\"\"), side=1)"
   ]
  },
  {
   "cell_type": "markdown",
   "metadata": {},
   "source": [
    "## Fourth Wave"
   ]
  },
  {
   "cell_type": "code",
   "execution_count": null,
   "metadata": {},
   "outputs": [],
   "source": [
    "n <- ceiling(n_samples*/scoreNROY3)"
   ]
  },
  {
   "cell_type": "code",
   "execution_count": null,
   "metadata": {},
   "outputs": [],
   "source": [
    "inputs_wave4_scaled_temp <- np$array(lhs$generate(space$dimensions, as.integer(n), random_state=as.integer(42)))"
   ]
  },
  {
   "cell_type": "code",
   "execution_count": null,
   "metadata": {},
   "outputs": [],
   "source": [
    "emulators <- list(em_wave1, em_wave2, em_wave3)\n",
    "NROY_temp_wave4 <- parameters_space(emulators, inputs_wave4_scaled_temp, 30)"
   ]
  },
  {
   "cell_type": "code",
   "execution_count": null,
   "metadata": {},
   "outputs": [],
   "source": [
    "input_wave4_scaled <- inputs_wave4_scaled_temp[sample(NROY_temp_wave4, n_samples),]\n",
    "input_wave4 <- rangeUnscale(input_wave4_scaled, my_bounds, range = c(-1, 1))"
   ]
  },
  {
   "cell_type": "code",
   "execution_count": null,
   "metadata": {},
   "outputs": [],
   "source": [
    "par(mfrow=c(2,2))\n",
    "plot(input_wave4[,1], input_wave4[,2], xlab=\"h\", ylab=\"c\", xlim=c(-2,2), ylim=c(0,20))\n",
    "points(1, 10, col='red', pch=18, cex=2)\n",
    "plot(input_wave4[,1], input_wave4[,3], xlab=\"h\", ylab=\"b\", xlim=c(-2,2), ylim=c(-20,20))\n",
    "points(1, 10, col='red', pch=18, cex=2)\n",
    "plot(input_wave4[,2], input_wave4[,3], xlab=\"c\", ylab=\"b\", xlim=c(0,20), ylim=c(-20,20))\n",
    "points(10, 10, col='red', pch=18, cex=2)"
   ]
  },
  {
   "cell_type": "code",
   "execution_count": null,
   "metadata": {},
   "outputs": [],
   "source": [
    "metrics_wave4 = future_sapply(1:nrow(input_wave4), function(r) extract_metrics_AMIP(input_wave4[r,], n_iter, 0.001, X_hist), future.seed=NULL) "
   ]
  },
  {
   "cell_type": "markdown",
   "metadata": {},
   "source": [
    "### Create the data matrix"
   ]
  },
  {
   "cell_type": "code",
   "execution_count": null,
   "metadata": {
    "scrolled": true
   },
   "outputs": [],
   "source": [
    "input_wave4_scaled <- data.frame(input_wave4_scaled)\n",
    "names(input_wave4_scaled) <- c('h', 'c', 'b')\n",
    "\n",
    "\n",
    "metrics_k_wave4 <- data.frame(t(metrics_wave4)[, metrics_index_k])\n",
    "N = nrow(metrics_k_wave4) \n",
    "noise <- rnorm(N, 0, 0)\n",
    "tData_wave4 <- data.frame(cbind(input_wave4_scaled, noise, metrics_k_wave4))\n",
    "names(tData_wave4)[names(tData_wave4) == \"noise\"] <- \"Noise\"\n",
    "         \n",
    "head(tData_wave4)"
   ]
  },
  {
   "cell_type": "markdown",
   "metadata": {},
   "source": [
    "### Training emulator"
   ]
  },
  {
   "cell_type": "code",
   "execution_count": null,
   "metadata": {},
   "outputs": [],
   "source": [
    "em_wave4 <- BuildNewEmulators(tData_wave4, HowManyEmulators = ncol(metrics_wave4), meanFun = \"fitted\", additionalVariables = cands) # "
   ]
  },
  {
   "cell_type": "markdown",
   "metadata": {},
   "source": [
    "We can use Leave One Out to verify if our GPs fit our metrics correctly."
   ]
  },
  {
   "cell_type": "code",
   "execution_count": null,
   "metadata": {},
   "outputs": [],
   "source": [
    "tLOOs <- LOO.plot(Emulators = em_wave4, which.emulator = 12, ParamNames = cands)"
   ]
  },
  {
   "cell_type": "markdown",
   "metadata": {},
   "source": [
    "### Compute implausibility"
   ]
  },
  {
   "cell_type": "code",
   "execution_count": null,
   "metadata": {},
   "outputs": [],
   "source": [
    "sample_size <- 100000\n",
    "nparam <- length(names(em_wave4$fitting.elements$Design))\n",
    "Xp_wave4 <- as.data.frame(2*randomLHS(sample_size, nparam)-1)\n",
    "names(Xp_wave4) <- names(em_wave4$fitting.elements$Design)\n",
    "system.time(Timps_wave4 <- ImplausibilityMOGP(NewData=Xp_wave4, Emulator=em_wave4, Discrepancy=tDisc, Obs=tObs, ObsErr=tObsErr))"
   ]
  },
  {
   "cell_type": "code",
   "execution_count": null,
   "metadata": {},
   "outputs": [],
   "source": [
    "valmax = 0 #how many outputs can be above the implausibility cut off\n",
    "cutoff <- 3 #the implausibility cut off"
   ]
  },
  {
   "cell_type": "code",
   "execution_count": null,
   "metadata": {},
   "outputs": [],
   "source": [
    "NROY4 <- which(rowSums(Timps_wave4 <= cutoff) >= em_wave4$mogp$n_emulators -valmax)\n",
    "scoreNROY4 <- length(NROY4)/dim(Xp_wave4)[1]"
   ]
  },
  {
   "cell_type": "markdown",
   "metadata": {},
   "source": [
    "### Layout of NROY space"
   ]
  },
  {
   "cell_type": "code",
   "execution_count": null,
   "metadata": {
    "scrolled": true
   },
   "outputs": [],
   "source": [
    "ImpData_wave4 = cbind(Xp_wave4, Timps_wave4)\n",
    "ImpListM4 = CreateImpList(whichVars = 1:nparam, VarNames=VarNames, ImpData=ImpData_wave4, nEms=em_wave4$mogp$n_emulators, whichMax=valmax+1)\n",
    "imp.layoutm11(ImpListM4,VarNames,VariableDensity=FALSE,newPDF=FALSE,the.title=paste(\"InputSpace_wave\",WAVEN,\".pdf\",sep=\"\"),newPNG=FALSE,newJPEG=FALSE,newEPS=FALSE,Points=matrix(param.defaults.norm,ncol=nparam))\n",
    "mtext(paste(\"Remaining space:\",scoreNROY4,sep=\"\"), side=1)"
   ]
  },
  {
   "cell_type": "code",
   "execution_count": null,
   "metadata": {},
   "outputs": [],
   "source": []
  }
 ],
 "metadata": {
  "kernelspec": {
   "display_name": "R",
   "language": "R",
   "name": "ir"
  },
  "language_info": {
   "codemirror_mode": "r",
   "file_extension": ".r",
   "mimetype": "text/x-r-source",
   "name": "R",
   "pygments_lexer": "r",
   "version": "3.6.3"
  }
 },
 "nbformat": 4,
 "nbformat_minor": 4
}
