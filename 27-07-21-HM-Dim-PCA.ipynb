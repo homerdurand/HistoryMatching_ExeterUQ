{
 "cells": [
  {
   "cell_type": "markdown",
   "metadata": {},
   "source": [
    "# History Matching for L96\n",
    "Author : Redaoune Lguensat, Homer Durand\n",
    "\n",
    "Date : 04-08-2021"
   ]
  },
  {
   "cell_type": "markdown",
   "metadata": {},
   "source": [
    "### Loading libs"
   ]
  },
  {
   "cell_type": "code",
   "execution_count": 1,
   "metadata": {
    "scrolled": true
   },
   "outputs": [
    {
     "name": "stderr",
     "output_type": "stream",
     "text": [
      "far library : Modelization for Functional AutoRegressive processes\n",
      "\n",
      "version 0.6-4 (2014-12-07)\n",
      "\n",
      "Spam version 2.7-0 (2021-06-25) is loaded.\n",
      "Type 'help( Spam)' or 'demo( spam)' for a short introduction \n",
      "and overview of this package.\n",
      "Help for individual functions is also obtained by adding the\n",
      "suffix '.spam' to the function name, e.g. 'help( chol.spam)'.\n",
      "\n",
      "Attaching package: ‘spam’\n",
      "\n",
      "The following objects are masked from ‘package:base’:\n",
      "\n",
      "    backsolve, forwardsolve\n",
      "\n",
      "See https://github.com/NCAR/Fields for\n",
      " an extensive vignette, other supplements and source code \n",
      "\n",
      "Attaching package: ‘maps’\n",
      "\n",
      "The following object is masked from ‘package:viridis’:\n",
      "\n",
      "    unemp\n",
      "\n",
      "\n",
      "Attaching package: ‘mvtnorm’\n",
      "\n",
      "The following object is masked from ‘package:spam’:\n",
      "\n",
      "    rmvnorm\n",
      "\n",
      "Warning message in library(package, lib.loc = lib.loc, character.only = TRUE, logical.return = TRUE, :\n",
      "“there is no package called ‘ncdf4’”This is loo version 2.4.1\n",
      "- Online documentation and vignettes at mc-stan.org/loo\n",
      "- As of v2.0.0 loo defaults to 1 core but we recommend using as many as possible. Use the 'cores' argument or set options(mc.cores = NUM_CORES) for an entire session. \n",
      "Loading required package: future\n",
      "\n",
      "Attaching package: ‘MLmetrics’\n",
      "\n",
      "The following object is masked from ‘package:base’:\n",
      "\n",
      "    Recall\n",
      "\n",
      "\n",
      "Attaching package: ‘keras’\n",
      "\n",
      "The following object is masked from ‘package:future’:\n",
      "\n",
      "    %<-%\n",
      "\n"
     ]
    }
   ],
   "source": [
    "PATH = '/home/homer/anaconda3/envs/HM-env/bin/python'\n",
    "Sys.setenv(RETICULATE_PYTHON = PATH)\n",
    "\n",
    "current_dir <- getwd()\n",
    "mogp_dir <- paste0(current_dir, \"/mogp-emulator\") #mogp_emulator lib : https://github.com/alan-turing-institute/mogp-emulator\n",
    "\n",
    "setwd(paste0(current_dir, '/dev_ExeterUQ_MOGP/')) #devel version og ExeterUQ_MOGP : https://github.com/BayesExeter/ExeterUQ_MOGP/tree/devel\n",
    "\n",
    "source(\"BuildEmulator/BuildEmulator.R\")\n",
    "source(\"HistoryMatching/HistoryMatching.R\")\n",
    "source(\"HistoryMatching/impLayoutplot.R\")\n",
    "\n",
    "setwd(current_dir)\n",
    "\n",
    "r_packages <- c(\"future.apply\", 'tgp', 'ANN2', 'MLmetrics', 'keras')\n",
    "invisible(lapply(r_packages, library, character.only = TRUE))\n",
    "\n",
    "python_pkg <- c(\"L96_amip\", \"numpy\", \"sklearn\", \"skopt.sampler\", \"skopt.space\")\n",
    "python_pkg_names <- c(\"L96_amip\", \"np\", \"sklearn\", \"sampler\", \"skSpace\")\n",
    "for(i in seq(length(python_pkg))){assign(python_pkg_names[i], import(python_pkg[i]))}"
   ]
  },
  {
   "cell_type": "markdown",
   "metadata": {},
   "source": [
    "# History Matching\n",
    "\n",
    "1. Space filling design of parameters space\n",
    "2. Data simulation\n",
    "3. Training of statistical emulator\n",
    "4. Computation of implausibility\n",
    "5. Refocussing\n",
    "    * If stoping criterion is reached stop HM\n",
    "    * Else, redefining parameters space and go to 1.\n",
    "\n",
    "## Observations generation\n",
    "\n",
    "As our model is a toy model we need to generate *observations* based on the ground truth parameters in order to use them to tune our model. In a realistic model (e.g. an ocean model), observations are metrics based on real observations of the state of the ocean threw time.\n",
    "\n",
    "$\\frac{d X_{k}}{d t}=\\underbrace{-X_{k-1}\\left(X_{k-2}-X_{k+1}\\right)}_{\\text {Advection}} \\underbrace{-X_{k}}_{\\text {Diffusion}}+\\underbrace{F}_{\\text {Forcing}} \\underbrace{-h c \\bar{Y}_{k}}_{\\text {Coupling}}$\n",
    "\n",
    "$\\frac{1}{c} \\frac{d Y_{j, k}}{d t}=\\underbrace{-b Y_{j+1, k}\\left(Y_{j+2, k}-Y_{j-1, k}\\right)}_{\\text {Advection }} \\underbrace{-Y_{j, k}}_{\\text {Diffusion }} \\underbrace{+\\frac{h}{J} X_{k}}_{\\text {Coupling }}$\n",
    "\n",
    "We consider the correct parameters to be h=1, F=10, c=10, b=10 and we will first generate our metrics based on those inputs using the 65 terms depicted here as in Schneider et al. 2017. \n",
    "\n",
    "$$\n",
    "\\boldsymbol{f}_k(Y)=\\left(\\begin{array}{c}\n",
    "Y_{j,k} \\\\\n",
    "Y_{j,k}Y_{j',k}\n",
    "\\end{array}\\right), \\forall j, j' \\in J \\text{ and } k \\in K\n",
    "$$"
   ]
  },
  {
   "cell_type": "code",
   "execution_count": 2,
   "metadata": {},
   "outputs": [],
   "source": [
    "np$random$seed(as.integer(42))\n",
    "\n",
    "X_init = 10*np$ones(as.integer(36))\n",
    "X_init[19]=1.0001 #ATtention X_init[19] !!!\n",
    "\n",
    "l96_two = L96_amip$L96TwoLevel(save_dt=0.001, X_init=X_init, integration_type='coupled') # True params J=10, h=1, F=10, c=10, b=10"
   ]
  },
  {
   "cell_type": "markdown",
   "metadata": {},
   "source": [
    "We first iterate 10 iterations in order to access to the steady state of the L96 model"
   ]
  },
  {
   "cell_type": "code",
   "execution_count": 3,
   "metadata": {},
   "outputs": [],
   "source": [
    "l96_two$iterate(10)"
   ]
  },
  {
   "cell_type": "code",
   "execution_count": 4,
   "metadata": {},
   "outputs": [],
   "source": [
    "X_init = l96_two$X"
   ]
  },
  {
   "cell_type": "markdown",
   "metadata": {},
   "source": [
    "We can use *Newinit* to be sure to start from the attractor of the L96."
   ]
  },
  {
   "cell_type": "code",
   "execution_count": 5,
   "metadata": {},
   "outputs": [],
   "source": [
    "np$random$seed(as.integer(42))\n",
    "\n",
    "n_iter <- 20\n",
    "\n",
    "X_init = 10*np$ones(as.integer(36))\n",
    "X_init[19]=1.0001 #ATtention X_init[19] !!!\n",
    "\n",
    "l96_two = L96_amip$L96TwoLevel(save_dt=0.001, X_init=X_init, integration_type='coupled') # True params J=10, h=1, F=10, c=10, b=10"
   ]
  },
  {
   "cell_type": "code",
   "execution_count": 6,
   "metadata": {},
   "outputs": [],
   "source": [
    "l96_two$iterate(n_iter)"
   ]
  },
  {
   "cell_type": "markdown",
   "metadata": {},
   "source": [
    "We save the history of X in order to reinject it during the Y integration."
   ]
  },
  {
   "cell_type": "code",
   "execution_count": 7,
   "metadata": {},
   "outputs": [],
   "source": [
    "X_hist <- l96_two$history$X$values"
   ]
  },
  {
   "cell_type": "markdown",
   "metadata": {},
   "source": [
    "We save the metrics generate with the ground truth parameters (observations)."
   ]
  },
  {
   "cell_type": "code",
   "execution_count": 8,
   "metadata": {},
   "outputs": [
    {
     "data": {
      "text/plain": [
       "   user  system elapsed \n",
       "  0.306   0.040   0.346 "
      ]
     },
     "metadata": {},
     "output_type": "display_data"
    }
   ],
   "source": [
    "system.time(observations <- l96_two$mean_stats(ax=as.integer(0), amip_metrics=FALSE))"
   ]
  },
  {
   "cell_type": "markdown",
   "metadata": {},
   "source": [
    "We now have our ground truth metrics and history of X wo we can tune our model."
   ]
  },
  {
   "cell_type": "markdown",
   "metadata": {},
   "source": [
    "### Generation of metrics for the first wave\n",
    "\n",
    "We first sample the parameters space (input space) using a space filling design (latin hypercube sampling with maximin criterion) and then will generate our metrics for each of those points of the parameter space."
   ]
  },
  {
   "cell_type": "code",
   "execution_count": 9,
   "metadata": {},
   "outputs": [],
   "source": [
    "n_samples <- 40"
   ]
  },
  {
   "cell_type": "code",
   "execution_count": 10,
   "metadata": {},
   "outputs": [],
   "source": [
    "space <- skSpace$Space(list(c(-2, 2), c(-20,20), c(0, 20), c(-20, 20))) ##only h,F,c,b\n",
    "lhs <- sampler$Sobol()\n",
    "inputs_wave1 <- np$array(lhs$generate(space$dimensions, as.integer(n_samples), random_state=as.integer(42)))"
   ]
  },
  {
   "cell_type": "code",
   "execution_count": 11,
   "metadata": {
    "scrolled": true
   },
   "outputs": [
    {
     "data": {
      "image/png": "[encoded data removed]",
      "text/plain": [
       "plot without title"
      ]
     },
     "metadata": {
      "image/png": {
       "height": 420,
       "width": 420
      }
     },
     "output_type": "display_data"
    }
   ],
   "source": [
    "par(mfrow=c(2,3))\n",
    "plot(inputs_wave1[,1], inputs_wave1[,2], xlab=\"h\", ylab=\"F\", xlim=c(-2,2), ylim=c(-20,20))\n",
    "points(1, 10, col='red', pch=18, cex=2)\n",
    "plot(inputs_wave1[,1], inputs_wave1[,3], xlab=\"h\", ylab=\"c\", xlim=c(-2,2), ylim=c(0,20))\n",
    "points(1, 10, col='red', pch=18, cex=2)\n",
    "plot(inputs_wave1[,1], inputs_wave1[,4], xlab=\"c\", ylab=\"b\", xlim=c(-2,2), ylim=c(-20,20))\n",
    "points(10, 10, col='red', pch=18, cex=2)\n",
    "plot(inputs_wave1[,2], inputs_wave1[,3], xlab=\"F\", ylab=\"c\", xlim=c(-20,20), ylim=c(0,20))\n",
    "points(1, 10, col='red', pch=18, cex=2)\n",
    "plot(inputs_wave1[,2], inputs_wave1[,4], xlab=\"F\", ylab=\"b\", xlim=c(-20,20), ylim=c(-20,20))\n",
    "points(1, 10, col='red', pch=18, cex=2)\n",
    "plot(inputs_wave1[,3], inputs_wave1[,4], xlab=\"c\", ylab=\"b\", xlim=c(0,20), ylim=c(-20,20))\n",
    "points(10, 10, col='red', pch=18, cex=2)"
   ]
  },
  {
   "cell_type": "code",
   "execution_count": 12,
   "metadata": {},
   "outputs": [],
   "source": [
    "extract_metrics_AMIP <- function(p, n_iter, dt, initX) {\n",
    "    l96_mip = L96_amip$L96TwoLevel(X_init=initX, save_dt=dt, dt=dt, noYhist=FALSE, h=p[[1]], F=p[[2]], c=p[[3]], b=p[[4]])\n",
    "    l96_mip$iterate(n_iter)\n",
    "    return(l96_mip$mean_stats(ax=as.integer(0), amip_metrics=FALSE))\n",
    "}"
   ]
  },
  {
   "cell_type": "code",
   "execution_count": 13,
   "metadata": {},
   "outputs": [],
   "source": [
    "plan(multicore, workers = 8, gc = TRUE)"
   ]
  },
  {
   "cell_type": "code",
   "execution_count": 14,
   "metadata": {},
   "outputs": [],
   "source": [
    "metrics_wave1 = future_sapply(1:nrow(inputs_wave1), function(r) extract_metrics_AMIP(inputs_wave1[r,], n_iter, 0.001, X_init), future.seed=NULL)\n",
    "metrics_wave1 <- t(metrics_wave1)"
   ]
  },
  {
   "cell_type": "markdown",
   "metadata": {},
   "source": [
    "## Principal Component Analysis for dimensionality reduction"
   ]
  },
  {
   "cell_type": "code",
   "execution_count": 15,
   "metadata": {},
   "outputs": [],
   "source": [
    "# Generate data for testing PCA\n",
    "n_samples_test <- 40\n",
    "inputs_test <- np$array(lhs$generate(space$dimensions, as.integer(n_samples_test), random_state=as.integer(21)))\n",
    "metrics_test = future_sapply(1:nrow(inputs_test), function(r) extract_metrics_AMIP(inputs_test[r,], n_iter, 0.001, X_init), future.seed=NULL)\n",
    "metrics_test <- t(metrics_test)"
   ]
  },
  {
   "cell_type": "code",
   "execution_count": 16,
   "metadata": {},
   "outputs": [],
   "source": [
    "# Scale metrics\n",
    "my.scaler <- sklearn$preprocessing$StandardScaler()\n",
    "X <- my.scaler$fit_transform(metrics_wave1)\n",
    "X_test <- my.scaler$fit_transform(metrics_test)\n",
    "input_size = dim(X)[[2]]"
   ]
  },
  {
   "cell_type": "code",
   "execution_count": 17,
   "metadata": {},
   "outputs": [
    {
     "data": {
      "text/html": [
       "0.000203064157697142"
      ],
      "text/latex": [
       "0.000203064157697142"
      ],
      "text/markdown": [
       "0.000203064157697142"
      ],
      "text/plain": [
       "[1] 0.0002030642"
      ]
     },
     "metadata": {},
     "output_type": "display_data"
    },
    {
     "data": {
      "text/html": [
       "0.0413476299767874"
      ],
      "text/latex": [
       "0.0413476299767874"
      ],
      "text/markdown": [
       "0.0413476299767874"
      ],
      "text/plain": [
       "[1] 0.04134763"
      ]
     },
     "metadata": {},
     "output_type": "display_data"
    },
    {
     "data": {
      "image/png": "[encoded data removed]",
      "text/plain": [
       "plot without title"
      ]
     },
     "metadata": {
      "image/png": {
       "height": 420,
       "width": 420
      }
     },
     "output_type": "display_data"
    }
   ],
   "source": [
    "pca_dim <- 32\n",
    "pca <- sklearn$decomposition$PCA(n_components=as.integer(pca_dim))\n",
    "X_pca <- pca$fit_transform(X)\n",
    "plot(np$cumsum(pca$explained_variance_ratio_))\n",
    "X_pca_test <- pca$transform(X_test)\n",
    "X_inverse_transform <- pca$inverse_transform(X_pca)\n",
    "X_test_inverse_transform <- pca$inverse_transform(X_pca_test)\n",
    "mse <- MSE(X_inverse_transform, X)\n",
    "val_mse <- MSE(X_test_inverse_transform, X_test)\n",
    "mse\n",
    "val_mse"
   ]
  },
  {
   "cell_type": "markdown",
   "metadata": {},
   "source": [
    "### Create the data matrix\n",
    "We create a data frame with correct format to train an emulator as it is describe in https://bayesexeter.github.io/ExeterUQ_MOGP/Testing_ExeterUQ_mogp.html\n",
    "\n",
    "We select 65 metrics for a given k (here $k=0$) in order to fit the emulators in a reasonable amount of time. Here we select the metrics \n",
    "\n",
    "$$\n",
    "\\boldsymbol{f}_0(Y)=\\left(\\begin{array}{c}\n",
    "Y_{j,0} \\\\\n",
    "Y_{j,0}Y_{j',0}\n",
    "\\end{array}\\right), \\forall j, j' \\in J\n",
    "$$"
   ]
  },
  {
   "cell_type": "markdown",
   "metadata": {},
   "source": [
    "#### Scaling and Unscaling functions"
   ]
  },
  {
   "cell_type": "code",
   "execution_count": 18,
   "metadata": {},
   "outputs": [],
   "source": [
    "rangeScale <- function(df, scaler, range = c(-1, 1)){\n",
    "    for (i in 1:ncol(df)){\n",
    "        min <- scaler[[i]][1]\n",
    "        max <- scaler[[i]][2]\n",
    "        df[,i] = (range[2] - range[1])*(df[,i] - min)/(max - min) + range[1]\n",
    "    }\n",
    "    return(df)\n",
    "}\n",
    "                                        \n",
    "rangeUnscale <- function(df, scaler, range = c(-1, 1)){\n",
    "    for (i in 1:ncol(df)){\n",
    "        min <- scaler[[i]][1]\n",
    "        max <- scaler[[i]][2]\n",
    "        df[,i] = (max - min)*(df[,i] - range[1])/(range[2] - range[1]) + min\n",
    "    }\n",
    "    return(df)\n",
    "}"
   ]
  },
  {
   "cell_type": "code",
   "execution_count": 19,
   "metadata": {
    "scrolled": false
   },
   "outputs": [
    {
     "data": {
      "text/html": [
       "<table class=\"dataframe\">\n",
       "<caption>A data.frame: 6 × 37</caption>\n",
       "<thead>\n",
       "\t<tr><th></th><th scope=col>h</th><th scope=col>F</th><th scope=col>c</th><th scope=col>b</th><th scope=col>Noise</th><th scope=col>X1</th><th scope=col>X2</th><th scope=col>X3</th><th scope=col>X4</th><th scope=col>X5</th><th scope=col>⋯</th><th scope=col>X23</th><th scope=col>X24</th><th scope=col>X25</th><th scope=col>X26</th><th scope=col>X27</th><th scope=col>X28</th><th scope=col>X29</th><th scope=col>X30</th><th scope=col>X31</th><th scope=col>X32</th></tr>\n",
       "\t<tr><th></th><th scope=col>&lt;dbl&gt;</th><th scope=col>&lt;dbl&gt;</th><th scope=col>&lt;dbl&gt;</th><th scope=col>&lt;dbl&gt;</th><th scope=col>&lt;dbl&gt;</th><th scope=col>&lt;dbl&gt;</th><th scope=col>&lt;dbl&gt;</th><th scope=col>&lt;dbl&gt;</th><th scope=col>&lt;dbl&gt;</th><th scope=col>&lt;dbl&gt;</th><th scope=col>⋯</th><th scope=col>&lt;dbl&gt;</th><th scope=col>&lt;dbl&gt;</th><th scope=col>&lt;dbl&gt;</th><th scope=col>&lt;dbl&gt;</th><th scope=col>&lt;dbl&gt;</th><th scope=col>&lt;dbl&gt;</th><th scope=col>&lt;dbl&gt;</th><th scope=col>&lt;dbl&gt;</th><th scope=col>&lt;dbl&gt;</th><th scope=col>&lt;dbl&gt;</th></tr>\n",
       "</thead>\n",
       "<tbody>\n",
       "\t<tr><th scope=row>1</th><td> 0.328125</td><td>-0.984375</td><td> 0.109375</td><td>-0.546875</td><td>0.5</td><td> 1.15341578</td><td> -4.45168019</td><td>-1.13899649</td><td>11.045067</td><td>-2.3726357</td><td>⋯</td><td> 0.010910766</td><td> 0.34388901</td><td> 0.11210391</td><td>-0.18815227</td><td>-0.02413054</td><td> 0.03171167</td><td>-0.002322672</td><td> 0.04796724</td><td>-0.02084579</td><td>-0.059970823</td></tr>\n",
       "\t<tr><th scope=row>2</th><td>-0.671875</td><td> 0.015625</td><td>-0.890625</td><td> 0.453125</td><td>0.5</td><td>-6.43498488</td><td>  0.07810346</td><td>-2.15636376</td><td>-2.761142</td><td> 1.9984677</td><td>⋯</td><td> 0.025329000</td><td>-0.08630868</td><td> 0.13628493</td><td>-0.20227411</td><td> 0.05324829</td><td>-0.07325839</td><td>-0.285754410</td><td>-0.19775854</td><td> 0.50598520</td><td> 0.166994224</td></tr>\n",
       "\t<tr><th scope=row>3</th><td>-0.546875</td><td>-0.109375</td><td> 0.484375</td><td> 0.828125</td><td>0.5</td><td>-7.20056061</td><td> -2.46532717</td><td> 1.36438222</td><td>-2.857891</td><td>-1.3915134</td><td>⋯</td><td>-0.143451016</td><td>-0.11901580</td><td>-0.34899371</td><td>-0.24274017</td><td> 0.29978461</td><td>-0.57027053</td><td> 0.364349455</td><td>-0.14003720</td><td>-0.08062549</td><td>-0.358746299</td></tr>\n",
       "\t<tr><th scope=row>4</th><td> 0.453125</td><td> 0.890625</td><td>-0.515625</td><td>-0.171875</td><td>0.5</td><td>20.21521407</td><td>-10.03167571</td><td>-0.03997278</td><td> 1.942366</td><td>-0.3478843</td><td>⋯</td><td>-0.120450162</td><td>-0.02046847</td><td>-0.01282915</td><td>-0.07200019</td><td>-0.03146050</td><td>-0.03711670</td><td>-0.014591629</td><td>-0.03528399</td><td> 0.02240109</td><td>-0.007264726</td></tr>\n",
       "\t<tr><th scope=row>5</th><td> 0.953125</td><td>-0.609375</td><td>-0.015625</td><td> 0.328125</td><td>0.5</td><td>-2.70708955</td><td> -5.67151981</td><td> 2.39076737</td><td> 4.581861</td><td> 4.8686193</td><td>⋯</td><td>-0.005844915</td><td> 0.46216496</td><td> 0.22208804</td><td> 0.12747715</td><td> 0.29365288</td><td>-0.11464248</td><td>-0.386101235</td><td> 0.21807503</td><td>-0.01165557</td><td>-0.106365897</td></tr>\n",
       "\t<tr><th scope=row>6</th><td>-0.046875</td><td> 0.390625</td><td> 0.984375</td><td>-0.671875</td><td>0.5</td><td> 0.09125743</td><td>  2.15712468</td><td>-5.64513741</td><td>-4.318621</td><td>-0.8138214</td><td>⋯</td><td>-0.392715439</td><td>-0.20430940</td><td> 0.90053577</td><td> 0.29594621</td><td> 0.48863634</td><td>-0.04554376</td><td> 0.135621630</td><td>-0.02016813</td><td>-0.05324581</td><td>-0.004687244</td></tr>\n",
       "</tbody>\n",
       "</table>\n"
      ],
      "text/latex": [
       "A data.frame: 6 × 37\n",
       "\\begin{tabular}{r|lllllllllllllllllllll}\n",
       "  & h & F & c & b & Noise & X1 & X2 & X3 & X4 & X5 & ⋯ & X23 & X24 & X25 & X26 & X27 & X28 & X29 & X30 & X31 & X32\\\\\n",
       "  & <dbl> & <dbl> & <dbl> & <dbl> & <dbl> & <dbl> & <dbl> & <dbl> & <dbl> & <dbl> & ⋯ & <dbl> & <dbl> & <dbl> & <dbl> & <dbl> & <dbl> & <dbl> & <dbl> & <dbl> & <dbl>\\\\\n",
       "\\hline\n",
       "\t1 &  0.328125 & -0.984375 &  0.109375 & -0.546875 & 0.5 &  1.15341578 &  -4.45168019 & -1.13899649 & 11.045067 & -2.3726357 & ⋯ &  0.010910766 &  0.34388901 &  0.11210391 & -0.18815227 & -0.02413054 &  0.03171167 & -0.002322672 &  0.04796724 & -0.02084579 & -0.059970823\\\\\n",
       "\t2 & -0.671875 &  0.015625 & -0.890625 &  0.453125 & 0.5 & -6.43498488 &   0.07810346 & -2.15636376 & -2.761142 &  1.9984677 & ⋯ &  0.025329000 & -0.08630868 &  0.13628493 & -0.20227411 &  0.05324829 & -0.07325839 & -0.285754410 & -0.19775854 &  0.50598520 &  0.166994224\\\\\n",
       "\t3 & -0.546875 & -0.109375 &  0.484375 &  0.828125 & 0.5 & -7.20056061 &  -2.46532717 &  1.36438222 & -2.857891 & -1.3915134 & ⋯ & -0.143451016 & -0.11901580 & -0.34899371 & -0.24274017 &  0.29978461 & -0.57027053 &  0.364349455 & -0.14003720 & -0.08062549 & -0.358746299\\\\\n",
       "\t4 &  0.453125 &  0.890625 & -0.515625 & -0.171875 & 0.5 & 20.21521407 & -10.03167571 & -0.03997278 &  1.942366 & -0.3478843 & ⋯ & -0.120450162 & -0.02046847 & -0.01282915 & -0.07200019 & -0.03146050 & -0.03711670 & -0.014591629 & -0.03528399 &  0.02240109 & -0.007264726\\\\\n",
       "\t5 &  0.953125 & -0.609375 & -0.015625 &  0.328125 & 0.5 & -2.70708955 &  -5.67151981 &  2.39076737 &  4.581861 &  4.8686193 & ⋯ & -0.005844915 &  0.46216496 &  0.22208804 &  0.12747715 &  0.29365288 & -0.11464248 & -0.386101235 &  0.21807503 & -0.01165557 & -0.106365897\\\\\n",
       "\t6 & -0.046875 &  0.390625 &  0.984375 & -0.671875 & 0.5 &  0.09125743 &   2.15712468 & -5.64513741 & -4.318621 & -0.8138214 & ⋯ & -0.392715439 & -0.20430940 &  0.90053577 &  0.29594621 &  0.48863634 & -0.04554376 &  0.135621630 & -0.02016813 & -0.05324581 & -0.004687244\\\\\n",
       "\\end{tabular}\n"
      ],
      "text/markdown": [
       "\n",
       "A data.frame: 6 × 37\n",
       "\n",
       "| <!--/--> | h &lt;dbl&gt; | F &lt;dbl&gt; | c &lt;dbl&gt; | b &lt;dbl&gt; | Noise &lt;dbl&gt; | X1 &lt;dbl&gt; | X2 &lt;dbl&gt; | X3 &lt;dbl&gt; | X4 &lt;dbl&gt; | X5 &lt;dbl&gt; | ⋯ ⋯ | X23 &lt;dbl&gt; | X24 &lt;dbl&gt; | X25 &lt;dbl&gt; | X26 &lt;dbl&gt; | X27 &lt;dbl&gt; | X28 &lt;dbl&gt; | X29 &lt;dbl&gt; | X30 &lt;dbl&gt; | X31 &lt;dbl&gt; | X32 &lt;dbl&gt; |\n",
       "|---|---|---|---|---|---|---|---|---|---|---|---|---|---|---|---|---|---|---|---|---|---|\n",
       "| 1 |  0.328125 | -0.984375 |  0.109375 | -0.546875 | 0.5 |  1.15341578 |  -4.45168019 | -1.13899649 | 11.045067 | -2.3726357 | ⋯ |  0.010910766 |  0.34388901 |  0.11210391 | -0.18815227 | -0.02413054 |  0.03171167 | -0.002322672 |  0.04796724 | -0.02084579 | -0.059970823 |\n",
       "| 2 | -0.671875 |  0.015625 | -0.890625 |  0.453125 | 0.5 | -6.43498488 |   0.07810346 | -2.15636376 | -2.761142 |  1.9984677 | ⋯ |  0.025329000 | -0.08630868 |  0.13628493 | -0.20227411 |  0.05324829 | -0.07325839 | -0.285754410 | -0.19775854 |  0.50598520 |  0.166994224 |\n",
       "| 3 | -0.546875 | -0.109375 |  0.484375 |  0.828125 | 0.5 | -7.20056061 |  -2.46532717 |  1.36438222 | -2.857891 | -1.3915134 | ⋯ | -0.143451016 | -0.11901580 | -0.34899371 | -0.24274017 |  0.29978461 | -0.57027053 |  0.364349455 | -0.14003720 | -0.08062549 | -0.358746299 |\n",
       "| 4 |  0.453125 |  0.890625 | -0.515625 | -0.171875 | 0.5 | 20.21521407 | -10.03167571 | -0.03997278 |  1.942366 | -0.3478843 | ⋯ | -0.120450162 | -0.02046847 | -0.01282915 | -0.07200019 | -0.03146050 | -0.03711670 | -0.014591629 | -0.03528399 |  0.02240109 | -0.007264726 |\n",
       "| 5 |  0.953125 | -0.609375 | -0.015625 |  0.328125 | 0.5 | -2.70708955 |  -5.67151981 |  2.39076737 |  4.581861 |  4.8686193 | ⋯ | -0.005844915 |  0.46216496 |  0.22208804 |  0.12747715 |  0.29365288 | -0.11464248 | -0.386101235 |  0.21807503 | -0.01165557 | -0.106365897 |\n",
       "| 6 | -0.046875 |  0.390625 |  0.984375 | -0.671875 | 0.5 |  0.09125743 |   2.15712468 | -5.64513741 | -4.318621 | -0.8138214 | ⋯ | -0.392715439 | -0.20430940 |  0.90053577 |  0.29594621 |  0.48863634 | -0.04554376 |  0.135621630 | -0.02016813 | -0.05324581 | -0.004687244 |\n",
       "\n"
      ],
      "text/plain": [
       "  h         F         c         b         Noise X1          X2          \n",
       "1  0.328125 -0.984375  0.109375 -0.546875 0.5    1.15341578  -4.45168019\n",
       "2 -0.671875  0.015625 -0.890625  0.453125 0.5   -6.43498488   0.07810346\n",
       "3 -0.546875 -0.109375  0.484375  0.828125 0.5   -7.20056061  -2.46532717\n",
       "4  0.453125  0.890625 -0.515625 -0.171875 0.5   20.21521407 -10.03167571\n",
       "5  0.953125 -0.609375 -0.015625  0.328125 0.5   -2.70708955  -5.67151981\n",
       "6 -0.046875  0.390625  0.984375 -0.671875 0.5    0.09125743   2.15712468\n",
       "  X3          X4        X5         ⋯ X23          X24         X25        \n",
       "1 -1.13899649 11.045067 -2.3726357 ⋯  0.010910766  0.34388901  0.11210391\n",
       "2 -2.15636376 -2.761142  1.9984677 ⋯  0.025329000 -0.08630868  0.13628493\n",
       "3  1.36438222 -2.857891 -1.3915134 ⋯ -0.143451016 -0.11901580 -0.34899371\n",
       "4 -0.03997278  1.942366 -0.3478843 ⋯ -0.120450162 -0.02046847 -0.01282915\n",
       "5  2.39076737  4.581861  4.8686193 ⋯ -0.005844915  0.46216496  0.22208804\n",
       "6 -5.64513741 -4.318621 -0.8138214 ⋯ -0.392715439 -0.20430940  0.90053577\n",
       "  X26         X27         X28         X29          X30         X31        \n",
       "1 -0.18815227 -0.02413054  0.03171167 -0.002322672  0.04796724 -0.02084579\n",
       "2 -0.20227411  0.05324829 -0.07325839 -0.285754410 -0.19775854  0.50598520\n",
       "3 -0.24274017  0.29978461 -0.57027053  0.364349455 -0.14003720 -0.08062549\n",
       "4 -0.07200019 -0.03146050 -0.03711670 -0.014591629 -0.03528399  0.02240109\n",
       "5  0.12747715  0.29365288 -0.11464248 -0.386101235  0.21807503 -0.01165557\n",
       "6  0.29594621  0.48863634 -0.04554376  0.135621630 -0.02016813 -0.05324581\n",
       "  X32         \n",
       "1 -0.059970823\n",
       "2  0.166994224\n",
       "3 -0.358746299\n",
       "4 -0.007264726\n",
       "5 -0.106365897\n",
       "6 -0.004687244"
      ]
     },
     "metadata": {},
     "output_type": "display_data"
    }
   ],
   "source": [
    "# Arrange inputs (parameters) \n",
    "inputs_wave1 <- data.frame(inputs_wave1)\n",
    "my_bounds <- data.frame(list(c(-2, 2), c(-20,20), c(0, 20), c(-20, 20)))\n",
    "inputs_wave1_scaled <- rangeScale(inputs_wave1, my_bounds, range = c(-1, 1))\n",
    "names(inputs_wave1_scaled) <- c('h', 'F', 'c', 'b')\n",
    "\n",
    "\n",
    "X_pca_wave1 <- data.frame(X_pca)\n",
    "N = nrow(inputs_wave1) \n",
    "noise <- rnorm(N, 0.5, 0)\n",
    "tData <- data.frame(cbind(inputs_wave1_scaled, noise, X_pca_wave1))\n",
    "names(tData)[names(tData) == \"noise\"] <- \"Noise\"\n",
    "         \n",
    "head(tData)"
   ]
  },
  {
   "cell_type": "markdown",
   "metadata": {},
   "source": [
    "### Training emulator"
   ]
  },
  {
   "cell_type": "code",
   "execution_count": 20,
   "metadata": {
    "scrolled": true
   },
   "outputs": [
    {
     "name": "stdout",
     "output_type": "stream",
     "text": [
      "[1] \"Max reduction is 1.88299834902342 using F\"\n",
      "[1] \"Max reduction is 2.73973198576139 using F\"\n",
      "[1] \"Max reduction is 0.515104558727508 using h\"\n",
      "[1] \"Max reduction is 0.283113698534588 using h\"\n",
      "[1] \"Max reduction is 0.260266057194618 using c\"\n",
      "[1] \"Max reduction is 0.445744445268473 using Three Way Interactions with F\"\n",
      "[1] \"Max reduction is 0.510664300888902 using Three Way Interactions with h\"\n",
      "[1] \"Max reduction is 0.212593155644302 using b\"\n",
      "[1] \"No further terms permitted with the given degrees of freedom\"\n",
      "\n",
      "Call:\n",
      "lm(formula = X1 ~ F + I(F^2) + h + I(h^2) + c + b + I(h * F) + \n",
      "    I(c * F) + I(b * F) + I(c * h) + I(b * h) + I(b * c) + I(F * \n",
      "    h * F) + I(F * c * F) + I(F * b * F) + I(F * c * h) + I(F * \n",
      "    b * h) + I(F * b * c) + I(h * h * F) + I(h * c * h) + I(h * \n",
      "    b * h) + I(h * b * c), data = tData)\n",
      "\n",
      "Residuals:\n",
      "    Min      1Q  Median      3Q     Max \n",
      "-1.9640 -0.5764 -0.1457  0.5244  1.8056 \n",
      "\n",
      "Coefficients:\n",
      "             Estimate Std. Error t value Pr(>|t|)    \n",
      "(Intercept)   -6.7320     0.4313 -15.608 1.64e-11 ***\n",
      "F              7.9223     0.7651  10.354 9.28e-09 ***\n",
      "I(F^2)        17.4918     1.3751  12.721 4.10e-10 ***\n",
      "h              2.2396     0.5904   3.793 0.001453 ** \n",
      "I(h^2)         3.1807     0.9037   3.520 0.002630 ** \n",
      "c              1.1248     0.8040   1.399 0.179796    \n",
      "b              0.5943     0.7809   0.761 0.457045    \n",
      "I(h * F)       3.2751     0.7945   4.122 0.000712 ***\n",
      "I(c * F)      -1.9722     1.3604  -1.450 0.165335    \n",
      "I(b * F)       0.1317     1.3044   0.101 0.920737    \n",
      "I(c * h)      -1.7199     0.8493  -2.025 0.058860 .  \n",
      "I(b * h)       0.9082     0.7880   1.153 0.265057    \n",
      "I(b * c)      -1.1925     0.9898  -1.205 0.244778    \n",
      "I(F * h * F)   1.5658     1.3108   1.195 0.248680    \n",
      "I(F * c * F)  -2.0874     2.4068  -0.867 0.397852    \n",
      "I(F * b * F)   1.6833     2.4194   0.696 0.495989    \n",
      "I(F * c * h)  -0.6654     2.2551  -0.295 0.771507    \n",
      "I(F * b * h)   1.6867     1.4742   1.144 0.268418    \n",
      "I(F * b * c)  -4.4060     3.0349  -1.452 0.164762    \n",
      "I(h * h * F)   4.1637     2.0063   2.075 0.053445 .  \n",
      "I(h * c * h)  -7.1153     1.8976  -3.750 0.001597 ** \n",
      "I(h * b * h)   0.2175     1.5433   0.141 0.889588    \n",
      "I(h * b * c)  -3.6807     1.5935  -2.310 0.033719 *  \n",
      "---\n",
      "Signif. codes:  0 ‘***’ 0.001 ‘**’ 0.01 ‘*’ 0.05 ‘.’ 0.1 ‘ ’ 1\n",
      "\n",
      "Residual standard error: 1.268 on 17 degrees of freedom\n",
      "Multiple R-squared:  0.988,\tAdjusted R-squared:  0.9724 \n",
      "F-statistic: 63.57 on 22 and 17 DF,  p-value: 2.726e-12\n",
      "\n",
      "[1] \"1 I(F * b * F)\"\n",
      "[1] \"2 I(b * F)\"\n",
      "[1] \"3 I(h * b * h)\"\n",
      "[1] \"4 I(F * h * F)\"\n",
      "[1] \"5 I(F * c * h)\"\n",
      "[1] \"6 I(F * c * F)\"\n",
      "[1] \"7 I(F * b * c)\"\n",
      "[1] \"8 I(h * h * F)\"\n",
      "[1] \"9 I(c * F)\"\n",
      "[1] \"10 I(F * b * h)\"\n",
      "[1] \"11 I(h * b * c)\"\n",
      "[1] \"12 I(b * c)\"\n",
      "[1] \"13 I(b * h)\"\n",
      "[1] \"14 b\"\n",
      "[1] \"15 I(h^2)\"\n",
      "[1] \"16 I(h * F)\"\n",
      "[1] \"17 I(h * c * h)\"\n",
      "\n",
      "Call:\n",
      "lm(formula = X1 ~ F + I(F^2) + h + c + I(c * h), data = tData)\n",
      "\n",
      "Residuals:\n",
      "    Min      1Q  Median      3Q     Max \n",
      "-4.4141 -1.5237 -0.0349  0.8554  9.5244 \n",
      "\n",
      "Coefficients:\n",
      "            Estimate Std. Error t value Pr(>|t|)    \n",
      "(Intercept)  -4.9737     0.5801  -8.574 5.13e-10 ***\n",
      "F             9.2136     0.6700  13.752 1.89e-15 ***\n",
      "I(F^2)       15.0560     1.2632  11.919 1.08e-13 ***\n",
      "h             2.3914     0.6831   3.501  0.00132 ** \n",
      "c            -1.4642     0.6891  -2.125  0.04095 *  \n",
      "I(c * h)     -2.4149     1.2862  -1.878  0.06904 .  \n",
      "---\n",
      "Signif. codes:  0 ‘***’ 0.001 ‘**’ 0.01 ‘*’ 0.05 ‘.’ 0.1 ‘ ’ 1\n",
      "\n",
      "Residual standard error: 2.465 on 34 degrees of freedom\n",
      "Multiple R-squared:  0.9093,\tAdjusted R-squared:  0.896 \n",
      "F-statistic: 68.18 on 5 and 34 DF,  p-value: < 2.2e-16\n",
      "\n",
      "[1] \"Max reduction is 1.74443584354744 using h\"\n",
      "[1] \"Max reduction is 0.275568119612989 using F\"\n",
      "[1] \"Max reduction is 0.305979706115091 using F\"\n",
      "[1] \"Max reduction is 1.09124210078071 using Three Way Interactions with F\"\n",
      "[1] \"Max reduction is 0.0996310248318384 using c\"\n",
      "[1] \"Max reduction is 0.0438843419094845 using F\"\n",
      "[1] \"Max reduction is 0.0460204345518638 using c\"\n",
      "[1] \"Max reduction is 0.116189056917036 using c\"\n",
      "[1] \"Max reduction is 0.0012716134398012 using F\"\n",
      "[1] \"No permitted terms improve the fit\"\n",
      "\n",
      "Call:\n",
      "lm(formula = X2 ~ h + F + I(F^2) + I(F^3) + I(F^4) + c + I(c^2) + \n",
      "    I(c^3) + I(F * h) + I(c * h) + I(c * F) + I(F * F * h) + \n",
      "    I(F * c * h) + I(F * c * F), data = tData)\n",
      "\n",
      "Residuals:\n",
      "    Min      1Q  Median      3Q     Max \n",
      "-5.2717 -1.2922 -0.2943  1.2806  4.4977 \n",
      "\n",
      "Coefficients:\n",
      "             Estimate Std. Error t value Pr(>|t|)    \n",
      "(Intercept)   -0.9978     0.9437  -1.057 0.300480    \n",
      "h             -2.7918     1.1110  -2.513 0.018786 *  \n",
      "F              3.4301     1.9982   1.717 0.098416 .  \n",
      "I(F^2)         8.3450     5.5052   1.516 0.142100    \n",
      "I(F^3)        -4.2883     2.9483  -1.454 0.158250    \n",
      "I(F^4)        -6.2712     6.1952  -1.012 0.321105    \n",
      "c             -2.8177     2.4160  -1.166 0.254511    \n",
      "I(c^2)        -2.2082     1.5479  -1.427 0.166062    \n",
      "I(c^3)         5.7068     3.3667   1.695 0.102480    \n",
      "I(F * h)      -5.5735     1.3851  -4.024 0.000466 ***\n",
      "I(c * h)       1.7173     1.5118   1.136 0.266759    \n",
      "I(c * F)       2.8478     1.4238   2.000 0.056465 .  \n",
      "I(F * F * h) -14.9701     2.5962  -5.766 5.22e-06 ***\n",
      "I(F * c * h)   3.1872     3.0429   1.047 0.304924    \n",
      "I(F * c * F)  -1.9652     2.9664  -0.663 0.513708    \n",
      "---\n",
      "Signif. codes:  0 ‘***’ 0.001 ‘**’ 0.01 ‘*’ 0.05 ‘.’ 0.1 ‘ ’ 1\n",
      "\n",
      "Residual standard error: 2.678 on 25 degrees of freedom\n",
      "Multiple R-squared:  0.8878,\tAdjusted R-squared:  0.825 \n",
      "F-statistic: 14.13 on 14 and 25 DF,  p-value: 1.551e-08\n",
      "\n",
      "[1] \"1 I(F^4)\"\n",
      "[1] \"2 I(F * c * F)\"\n",
      "[1] \"3 I(F^3)\"\n",
      "[1] \"4 I(c^3)\"\n",
      "[1] \"5 I(c^2)\"\n",
      "[1] \"6 I(F * c * h)\"\n",
      "[1] \"7 I(c * h)\"\n",
      "[1] \"8 I(c * F)\"\n",
      "[1] \"9 c\"\n",
      "\n",
      "Call:\n",
      "lm(formula = X2 ~ h + F + I(F^2) + I(F * h) + I(F * F * h), data = tData)\n",
      "\n",
      "Residuals:\n",
      "   Min     1Q Median     3Q    Max \n",
      "-7.482 -1.843 -0.181  2.094  6.103 \n",
      "\n",
      "Coefficients:\n",
      "             Estimate Std. Error t value Pr(>|t|)    \n",
      "(Intercept)   -1.2309     0.7110  -1.731 0.092482 .  \n",
      "h             -2.6863     1.2290  -2.186 0.035819 *  \n",
      "F              0.8493     0.8105   1.048 0.302104    \n",
      "I(F^2)         3.2816     1.5606   2.103 0.042967 *  \n",
      "I(F * h)      -5.2741     1.4399  -3.663 0.000841 ***\n",
      "I(F * F * h) -15.5797     2.7863  -5.592 2.92e-06 ***\n",
      "---\n",
      "Signif. codes:  0 ‘***’ 0.001 ‘**’ 0.01 ‘*’ 0.05 ‘.’ 0.1 ‘ ’ 1\n",
      "\n",
      "Residual standard error: 2.985 on 34 degrees of freedom\n",
      "Multiple R-squared:  0.8105,\tAdjusted R-squared:  0.7826 \n",
      "F-statistic: 29.08 on 5 and 34 DF,  p-value: 2.291e-11\n",
      "\n",
      "[1] \"Max reduction is 0.452676765468681 using F\"\n",
      "[1] \"Max reduction is 0.566169242415794 using h\"\n",
      "[1] \"Max reduction is 0.807517755747744 using h\"\n",
      "[1] \"Max reduction is 0.138741889446683 using h\"\n",
      "[1] \"Max reduction is 0.110579855287599 using F\"\n",
      "[1] \"Max reduction is 0.260522261929133 using Three Way Interactions with h\"\n",
      "[1] \"Max reduction is 0.250609095110681 using Three Way Interactions with F\"\n",
      "[1] \"Max reduction is 0.090105283025872 using c\"\n",
      "[1] \"Max reduction is 0.0413315681909103 using h\"\n",
      "[1] \"Max reduction is 0.0887623520598519 using b\"\n",
      "[1] \"No further terms permitted with the given degrees of freedom\"\n",
      "\n",
      "Call:\n",
      "lm(formula = X3 ~ F + I(F^2) + h + I(h^2) + I(h^3) + I(h^4) + \n",
      "    c + b + I(h * F) + I(c * F) + I(b * F) + I(c * h) + I(b * \n",
      "    h) + I(b * c) + I(h * h * F) + I(h * c * F) + I(h * b * F) + \n",
      "    I(h * c * h) + I(h * b * h) + I(h * b * c) + I(F * h * F) + \n",
      "    I(F * c * F) + I(F * b * F) + I(F * b * c), data = tData)\n",
      "\n",
      "Residuals:\n",
      "    Min      1Q  Median      3Q     Max \n",
      "-4.8163 -0.8042  0.0669  0.7561  6.5756 \n",
      "\n",
      "Coefficients:\n",
      "             Estimate Std. Error t value Pr(>|t|)   \n",
      "(Intercept)   -4.3610     1.1578  -3.767  0.00187 **\n",
      "F             -4.0711     1.8237  -2.232  0.04127 * \n",
      "I(F^2)         2.4374     3.2741   0.744  0.46810   \n",
      "h              1.0600     2.7806   0.381  0.70840   \n",
      "I(h^2)        18.4403     6.9236   2.663  0.01771 * \n",
      "I(h^3)         2.9451     3.6564   0.805  0.43314   \n",
      "I(h^4)       -12.9445     7.5531  -1.714  0.10715   \n",
      "c              1.6920     1.8918   0.894  0.38523   \n",
      "b              0.1366     1.8489   0.074  0.94209   \n",
      "I(h * F)       7.2751     1.9145   3.800  0.00174 **\n",
      "I(c * F)      -1.0692     3.2055  -0.334  0.74332   \n",
      "I(b * F)       1.0103     3.0692   0.329  0.74657   \n",
      "I(c * h)      -1.8774     2.0837  -0.901  0.38183   \n",
      "I(b * h)       1.2753     1.8660   0.683  0.50474   \n",
      "I(b * c)       0.3414     2.3697   0.144  0.88738   \n",
      "I(h * h * F)   0.5821     4.8302   0.121  0.90567   \n",
      "I(h * c * F)  -6.5341     5.3650  -1.218  0.24207   \n",
      "I(h * b * F)   6.3176     3.6092   1.750  0.10046   \n",
      "I(h * c * h)  -5.6207     4.6009  -1.222  0.24069   \n",
      "I(h * b * h)   3.7264     3.6515   1.021  0.32367   \n",
      "I(h * b * c)  -3.9843     3.8441  -1.036  0.31640   \n",
      "I(F * h * F)  -9.0857     3.2775  -2.772  0.01424 * \n",
      "I(F * c * F)  -5.3927     5.7172  -0.943  0.36051   \n",
      "I(F * b * F)   1.9754     5.6772   0.348  0.73271   \n",
      "I(F * b * c)  -5.4623     7.1220  -0.767  0.45501   \n",
      "---\n",
      "Signif. codes:  0 ‘***’ 0.001 ‘**’ 0.01 ‘*’ 0.05 ‘.’ 0.1 ‘ ’ 1\n",
      "\n",
      "Residual standard error: 2.975 on 15 degrees of freedom\n",
      "Multiple R-squared:  0.8872,\tAdjusted R-squared:  0.7068 \n",
      "F-statistic: 4.918 on 24 and 15 DF,  p-value: 0.001228\n",
      "\n",
      "[1] \"1 I(F * b * F)\"\n",
      "[1] \"2 I(h * h * F)\"\n",
      "[1] \"3 I(F * b * c)\"\n",
      "[1] \"4 I(h * b * h)\"\n",
      "[1] \"5 I(F * c * F)\"\n",
      "[1] \"6 I(h * c * F)\"\n",
      "[1] \"7 I(c * F)\"\n",
      "[1] \"8 I(b * h)\"\n",
      "[1] \"9 I(h * b * F)\"\n",
      "[1] \"10 I(b * F)\"\n",
      "[1] \"11 I(F^2)\"\n",
      "[1] \"12 I(h * b * c)\"\n",
      "[1] \"13 I(b * c)\"\n",
      "[1] \"14 b\"\n",
      "[1] \"15 I(h * c * h)\"\n",
      "[1] \"16 I(c * h)\"\n",
      "[1] \"17 c\"\n",
      "[1] \"18 I(h^4)\"\n",
      "[1] \"19 I(h^3)\"\n",
      "\n",
      "Call:\n",
      "lm(formula = X3 ~ F + h + I(h^2) + I(h * F) + I(F * h * F), data = tData)\n",
      "\n",
      "Residuals:\n",
      "    Min      1Q  Median      3Q     Max \n",
      "-6.5369 -1.4277 -0.3026  1.5211  9.2516 \n",
      "\n",
      "Coefficients:\n",
      "             Estimate Std. Error t value Pr(>|t|)    \n",
      "(Intercept)   -2.8178     0.7657  -3.680 0.000801 ***\n",
      "F             -3.7877     0.8682  -4.363 0.000113 ***\n",
      "h              2.9959     1.2995   2.306 0.027368 *  \n",
      "I(h^2)         8.6068     1.7499   4.919 2.19e-05 ***\n",
      "I(h * F)       8.3388     1.5549   5.363 5.80e-06 ***\n",
      "I(F * h * F) -10.0310     2.9065  -3.451 0.001510 ** \n",
      "---\n",
      "Signif. codes:  0 ‘***’ 0.001 ‘**’ 0.01 ‘*’ 0.05 ‘.’ 0.1 ‘ ’ 1\n",
      "\n",
      "Residual standard error: 3.203 on 34 degrees of freedom\n",
      "Multiple R-squared:  0.7038,\tAdjusted R-squared:  0.6602 \n",
      "F-statistic: 16.16 on 5 and 34 DF,  p-value: 3.733e-08\n",
      "\n",
      "[1] \"Max reduction is 0.676375025344283 using F\"\n",
      "[1] \"Max reduction is 1.14925914389426 using F\"\n",
      "[1] \"Max reduction is 0.619169805851236 using h\"\n",
      "[1] \"Max reduction is 0.388891475992339 using Three Way Interactions with F\"\n",
      "[1] \"Max reduction is 0.0321565956124741 using F\"\n",
      "[1] \"Max reduction is 0.0805212684242544 using b\"\n",
      "[1] \"Max reduction is 0.00128315460589312 using b\"\n",
      "[1] \"Max reduction is 0.0134153072492014 using b\"\n",
      "[1] \"No permitted terms improve the fit\"\n",
      "\n",
      "Call:\n",
      "lm(formula = X4 ~ F + I(F^2) + I(F^3) + h + b + I(b^2) + I(b^3) + \n",
      "    I(h * F) + I(b * F) + I(b * h) + I(F * h * F) + I(F * b * \n",
      "    F) + I(F * b * h), data = tData)\n",
      "\n",
      "Residuals:\n",
      "    Min      1Q  Median      3Q     Max \n",
      "-3.9341 -0.5405  0.0090  0.4841  2.7876 \n",
      "\n",
      "Coefficients:\n",
      "             Estimate Std. Error t value Pr(>|t|)    \n",
      "(Intercept)  -2.97994    0.46024  -6.475 7.32e-07 ***\n",
      "F            -6.87941    1.15933  -5.934 2.92e-06 ***\n",
      "I(F^2)        9.23846    0.77430  11.931 4.76e-12 ***\n",
      "I(F^3)        4.64226    1.71351   2.709 0.011775 *  \n",
      "h            -1.32693    0.66023  -2.010 0.054938 .  \n",
      "b            -1.55633    1.32565  -1.174 0.251029    \n",
      "I(b^2)       -0.67647    0.97820  -0.692 0.495352    \n",
      "I(b^3)        2.30865    1.87964   1.228 0.230359    \n",
      "I(h * F)     -4.50382    0.76644  -5.876 3.39e-06 ***\n",
      "I(b * F)     -0.34303    0.73810  -0.465 0.645983    \n",
      "I(b * h)      1.13943    0.74793   1.523 0.139718    \n",
      "I(F * h * F)  6.37973    1.41376   4.513 0.000122 ***\n",
      "I(F * b * F) -1.58048    1.42478  -1.109 0.277464    \n",
      "I(F * b * h) -0.04446    1.39147  -0.032 0.974754    \n",
      "---\n",
      "Signif. codes:  0 ‘***’ 0.001 ‘**’ 0.01 ‘*’ 0.05 ‘.’ 0.1 ‘ ’ 1\n",
      "\n",
      "Residual standard error: 1.431 on 26 degrees of freedom\n",
      "Multiple R-squared:  0.9292,\tAdjusted R-squared:  0.8938 \n",
      "F-statistic: 26.26 on 13 and 26 DF,  p-value: 1.19e-11\n",
      "\n",
      "[1] \"1 I(F * b * h)\"\n",
      "[1] \"2 I(b^3)\"\n",
      "[1] \"3 I(b * h)\"\n",
      "[1] \"4 I(b^2)\"\n",
      "[1] \"5 I(F * b * F)\"\n",
      "[1] \"6 I(b * F)\"\n",
      "[1] \"7 b\"\n",
      "[1] \"8 I(F^3)\"\n",
      "\n",
      "Call:\n",
      "lm(formula = X4 ~ F + I(F^2) + h + I(h * F) + I(F * h * F), data = tData)\n",
      "\n",
      "Residuals:\n",
      "    Min      1Q  Median      3Q     Max \n",
      "-4.3268 -0.8916 -0.2471  0.9337  3.2893 \n",
      "\n",
      "Coefficients:\n",
      "             Estimate Std. Error t value Pr(>|t|)    \n",
      "(Intercept)   -3.2697     0.3712  -8.808 2.71e-10 ***\n",
      "F             -3.8010     0.4231  -8.983 1.69e-10 ***\n",
      "I(F^2)         9.3270     0.8148  11.448 3.28e-13 ***\n",
      "h             -1.5833     0.6416  -2.468   0.0188 *  \n",
      "I(h * F)      -4.9333     0.7517  -6.563 1.62e-07 ***\n",
      "I(F * h * F)   6.6097     1.4546   4.544 6.65e-05 ***\n",
      "---\n",
      "Signif. codes:  0 ‘***’ 0.001 ‘**’ 0.01 ‘*’ 0.05 ‘.’ 0.1 ‘ ’ 1\n",
      "\n",
      "Residual standard error: 1.558 on 34 degrees of freedom\n",
      "Multiple R-squared:  0.8902,\tAdjusted R-squared:  0.8741 \n",
      "F-statistic: 55.15 on 5 and 34 DF,  p-value: 2.424e-15\n",
      "\n",
      "[1] \"Max reduction is 0.0236078655891965 using c\"\n",
      "[1] \"Max reduction is 0.222250191845067 using F\"\n",
      "[1] \"Max reduction is 0.276333495303028 using h\"\n",
      "[1] \"Max reduction is 0.661396743441519 using h\"\n",
      "[1] \"Max reduction is 0.134281744380491 using b\"\n",
      "[1] \"Max reduction is 0.0979928693359549 using b\"\n",
      "[1] \"Max reduction is 0.0205422654463931 using F\"\n",
      "[1] \"Max reduction is 0.0630542835740067 using Three Way Interactions with b\"\n",
      "[1] \"No further terms permitted with the given degrees of freedom\"\n",
      "\n",
      "Call:\n",
      "lm(formula = X5 ~ c + F + I(F^2) + h + I(h^2) + b + I(b^2) + \n",
      "    I(F * c) + I(h * c) + I(b * c) + I(h * F) + I(b * F) + I(b * \n",
      "    h) + I(b * F * c) + I(b * h * c) + I(b * b * c) + I(b * h * \n",
      "    F) + I(b * b * F) + I(b * b * h), data = tData)\n",
      "\n",
      "Residuals:\n",
      "    Min      1Q  Median      3Q     Max \n",
      "-4.2093 -0.9690 -0.0613  1.0905  3.8370 \n",
      "\n",
      "Coefficients:\n",
      "             Estimate Std. Error t value Pr(>|t|)    \n",
      "(Intercept)  -0.20906    0.98451  -0.212  0.83399    \n",
      "c             1.21326    1.16930   1.038  0.31184    \n",
      "F            -0.91415    1.23792  -0.738  0.46882    \n",
      "I(F^2)       -3.78649    2.09696  -1.806  0.08604 .  \n",
      "h            -0.37581    1.24209  -0.303  0.76535    \n",
      "I(h^2)        8.27665    1.62861   5.082 5.69e-05 ***\n",
      "b            -0.34624    0.97181  -0.356  0.72536    \n",
      "I(b^2)       -3.92327    1.75988  -2.229  0.03742 *  \n",
      "I(F * c)     -3.89720    1.55624  -2.504  0.02104 *  \n",
      "I(h * c)     -0.28752    1.56152  -0.184  0.85577    \n",
      "I(b * c)     -4.28093    1.75813  -2.435  0.02438 *  \n",
      "I(h * F)     -3.99311    1.36691  -2.921  0.00844 ** \n",
      "I(b * F)      2.14055    1.57690   1.357  0.18976    \n",
      "I(b * h)     -0.53782    1.52095  -0.354  0.72733    \n",
      "I(b * F * c)  3.51094    4.95055   0.709  0.48638    \n",
      "I(b * h * c)  2.96129    3.72361   0.795  0.43579    \n",
      "I(b * b * c)  0.05376    3.20312   0.017  0.98677    \n",
      "I(b * h * F)  2.05499    2.42028   0.849  0.40589    \n",
      "I(b * b * F)  7.39205    3.37269   2.192  0.04040 *  \n",
      "I(b * b * h)  0.40694    3.48150   0.117  0.90812    \n",
      "---\n",
      "Signif. codes:  0 ‘***’ 0.001 ‘**’ 0.01 ‘*’ 0.05 ‘.’ 0.1 ‘ ’ 1\n",
      "\n",
      "Residual standard error: 2.401 on 20 degrees of freedom\n",
      "Multiple R-squared:  0.8057,\tAdjusted R-squared:  0.6211 \n",
      "F-statistic: 4.365 on 19 and 20 DF,  p-value: 0.0009538\n",
      "\n",
      "[1] \"1 I(b * b * h)\"\n",
      "[1] \"2 I(b * b * c)\"\n",
      "[1] \"3 I(b * h)\"\n",
      "[1] \"4 I(b * h * F)\"\n",
      "[1] \"5 I(b * F * c)\"\n",
      "[1] \"6 I(b * h * c)\"\n",
      "[1] \"7 I(h * c)\"\n",
      "[1] \"8 I(F^2)\"\n",
      "[1] \"9 I(b * b * F)\"\n",
      "[1] \"10 I(b * F)\"\n",
      "[1] \"11 I(b^2)\"\n",
      "[1] \"12 I(b * c)\"\n",
      "[1] \"13 b\"\n",
      "[1] \"14 I(F * c)\"\n",
      "\n",
      "Call:\n",
      "lm(formula = X5 ~ c + F + h + I(h^2) + I(h * F), data = tData)\n",
      "\n",
      "Residuals:\n",
      "    Min      1Q  Median      3Q     Max \n",
      "-4.5000 -1.7910 -0.7718  1.6912  8.2786 \n",
      "\n",
      "Coefficients:\n",
      "            Estimate Std. Error t value Pr(>|t|)    \n",
      "(Intercept)  -2.2865     0.7008  -3.263 0.002515 ** \n",
      "c             1.2652     0.8090   1.564 0.127124    \n",
      "F             0.9924     0.7956   1.247 0.220822    \n",
      "h             0.6630     0.8113   0.817 0.419506    \n",
      "I(h^2)        6.9872     1.6026   4.360 0.000114 ***\n",
      "I(h * F)     -4.0817     1.4238  -2.867 0.007068 ** \n",
      "---\n",
      "Signif. codes:  0 ‘***’ 0.001 ‘**’ 0.01 ‘*’ 0.05 ‘.’ 0.1 ‘ ’ 1\n",
      "\n",
      "Residual standard error: 2.932 on 34 degrees of freedom\n",
      "Multiple R-squared:  0.5074,\tAdjusted R-squared:  0.435 \n",
      "F-statistic: 7.005 on 5 and 34 DF,  p-value: 0.0001357\n",
      "\n",
      "[1] \"Max reduction is 0.0141978641426834 using h\"\n",
      "[1] \"Max reduction is 0.0334878796424234 using b\"\n",
      "[1] \"No permitted terms improve the fit\"\n",
      "\n",
      "Call:\n",
      "lm(formula = X6 ~ h + b + I(b * h), data = tData)\n",
      "\n",
      "Residuals:\n",
      "   Min     1Q Median     3Q    Max \n",
      "-5.338 -2.116 -0.206  1.550  6.987 \n",
      "\n",
      "Coefficients:\n",
      "            Estimate Std. Error t value Pr(>|t|)\n",
      "(Intercept) -0.04688    0.45307  -0.103    0.918\n",
      "h            0.78462    0.79160   0.991    0.328\n",
      "b           -0.69869    0.80099  -0.872    0.389\n",
      "I(b * h)    -2.16152    1.35220  -1.599    0.119\n",
      "\n",
      "Residual standard error: 2.854 on 36 degrees of freedom\n",
      "Multiple R-squared:  0.107,\tAdjusted R-squared:  0.0326 \n",
      "F-statistic: 1.438 on 3 and 36 DF,  p-value: 0.2478\n",
      "\n",
      "[1] \"Max reduction is 0.128147698070994 using c\"\n",
      "[1] \"Max reduction is 0.016950361208862 using b\"\n",
      "[1] \"Max reduction is 0.106232585900454 using b\"\n",
      "[1] \"Max reduction is 0.0118707383716004 using b\"\n",
      "[1] \"No permitted terms improve the fit\"\n",
      "\n",
      "Call:\n",
      "lm(formula = X7 ~ c + b + I(b^2) + I(b^3) + I(b * c), data = tData)\n",
      "\n",
      "Residuals:\n",
      "    Min      1Q  Median      3Q     Max \n",
      "-5.6374 -1.0958  0.1213  0.8196  4.6690 \n",
      "\n",
      "Coefficients:\n",
      "            Estimate Std. Error t value Pr(>|t|)  \n",
      "(Intercept)  -0.8208     0.5667  -1.448   0.1567  \n",
      "c            -1.5258     0.6447  -2.367   0.0238 *\n",
      "b             1.1025     1.6190   0.681   0.5005  \n",
      "I(b^2)        2.1448     1.3478   1.591   0.1208  \n",
      "I(b^3)       -2.9893     2.5655  -1.165   0.2521  \n",
      "I(b * c)      1.1954     1.1773   1.015   0.3171  \n",
      "---\n",
      "Signif. codes:  0 ‘***’ 0.001 ‘**’ 0.01 ‘*’ 0.05 ‘.’ 0.1 ‘ ’ 1\n",
      "\n",
      "Residual standard error: 2.329 on 34 degrees of freedom\n",
      "Multiple R-squared:  0.2962,\tAdjusted R-squared:  0.1927 \n",
      "F-statistic: 2.862 on 5 and 34 DF,  p-value: 0.02915\n",
      "\n",
      "[1] \"No permitted terms improve the fit\"\n",
      "[1] \"No permitted terms improve the fit\"\n",
      "\n",
      "Call:\n",
      "lm(formula = X8 ~ 1, data = tData)\n",
      "\n",
      "Residuals:\n",
      "     Min       1Q   Median       3Q      Max \n",
      "-2.37966 -0.24591  0.04474  0.32994  2.71346 \n",
      "\n",
      "Coefficients:\n",
      "              Estimate Std. Error t value Pr(>|t|)\n",
      "(Intercept) -5.617e-16  1.476e-01       0        1\n",
      "\n",
      "Residual standard error: 0.9335 on 39 degrees of freedom\n",
      "\n",
      "[1] \"No permitted terms improve the fit\"\n",
      "[1] \"No permitted terms improve the fit\"\n",
      "\n",
      "Call:\n",
      "lm(formula = X9 ~ 1, data = tData)\n",
      "\n",
      "Residuals:\n",
      "     Min       1Q   Median       3Q      Max \n",
      "-2.45362 -0.27391 -0.02269  0.34828  3.05221 \n",
      "\n",
      "Coefficients:\n",
      "              Estimate Std. Error t value Pr(>|t|)\n",
      "(Intercept) -3.511e-17  1.327e-01       0        1\n",
      "\n",
      "Residual standard error: 0.8391 on 39 degrees of freedom\n",
      "\n",
      "[1] \"Max reduction is 0.0259151271238496 using c\"\n",
      "[1] \"No permitted terms improve the fit\"\n",
      "\n",
      "Call:\n",
      "lm(formula = X10 ~ c, data = tData)\n",
      "\n",
      "Residuals:\n",
      "     Min       1Q   Median       3Q      Max \n",
      "-1.65594 -0.30247 -0.04849  0.29719  2.48353 \n",
      "\n",
      "Coefficients:\n",
      "            Estimate Std. Error t value Pr(>|t|)  \n",
      "(Intercept) -0.00902    0.11521  -0.078   0.9380  \n",
      "c           -0.39139    0.20010  -1.956   0.0578 .\n",
      "---\n",
      "Signif. codes:  0 ‘***’ 0.001 ‘**’ 0.01 ‘*’ 0.05 ‘.’ 0.1 ‘ ’ 1\n",
      "\n",
      "Residual standard error: 0.728 on 38 degrees of freedom\n",
      "Multiple R-squared:  0.09147,\tAdjusted R-squared:  0.06756 \n",
      "F-statistic: 3.826 on 1 and 38 DF,  p-value: 0.05785\n",
      "\n",
      "[1] \"No permitted terms improve the fit\"\n",
      "[1] \"No permitted terms improve the fit\"\n",
      "\n",
      "Call:\n",
      "lm(formula = X11 ~ 1, data = tData)\n",
      "\n",
      "Residuals:\n",
      "     Min       1Q   Median       3Q      Max \n",
      "-2.01147 -0.23645 -0.05295  0.16090  2.13363 \n",
      "\n",
      "Coefficients:\n",
      "             Estimate Std. Error t value Pr(>|t|)\n",
      "(Intercept) 1.580e-16  1.134e-01       0        1\n",
      "\n",
      "Residual standard error: 0.7175 on 39 degrees of freedom\n",
      "\n",
      "[1] \"Max reduction is 0.0231814775028667 using b\"\n",
      "[1] \"No permitted terms improve the fit\"\n",
      "\n",
      "Call:\n",
      "lm(formula = X12 ~ b, data = tData)\n",
      "\n",
      "Residuals:\n",
      "     Min       1Q   Median       3Q      Max \n",
      "-1.37598 -0.25792 -0.06549  0.13715  1.75690 \n",
      "\n",
      "Coefficients:\n",
      "            Estimate Std. Error t value Pr(>|t|)  \n",
      "(Intercept) -0.01339    0.09479  -0.141   0.8884  \n",
      "b           -0.33290    0.16477  -2.020   0.0504 .\n",
      "---\n",
      "Signif. codes:  0 ‘***’ 0.001 ‘**’ 0.01 ‘*’ 0.05 ‘.’ 0.1 ‘ ’ 1\n",
      "\n",
      "Residual standard error: 0.598 on 38 degrees of freedom\n",
      "Multiple R-squared:  0.09701,\tAdjusted R-squared:  0.07324 \n",
      "F-statistic: 4.082 on 1 and 38 DF,  p-value: 0.05043\n",
      "\n",
      "[1] \"Max reduction is 0.000331527771604723 using c\"\n",
      "[1] \"No permitted terms improve the fit\"\n",
      "\n",
      "Call:\n",
      "lm(formula = X13 ~ c, data = tData)\n",
      "\n",
      "Residuals:\n",
      "     Min       1Q   Median       3Q      Max \n",
      "-1.48803 -0.19306  0.01723  0.32593  1.67371 \n",
      "\n",
      "Coefficients:\n",
      "            Estimate Std. Error t value Pr(>|t|)\n",
      "(Intercept) 0.003734   0.091253   0.041    0.968\n",
      "c           0.162011   0.158496   1.022    0.313\n",
      "\n",
      "Residual standard error: 0.5767 on 38 degrees of freedom\n",
      "Multiple R-squared:  0.02676,\tAdjusted R-squared:  0.001149 \n",
      "F-statistic: 1.045 on 1 and 38 DF,  p-value: 0.3132\n",
      "\n",
      "[1] \"Max reduction is 0.00030501053445009 using b\"\n",
      "[1] \"No permitted terms improve the fit\"\n",
      "\n",
      "Call:\n",
      "lm(formula = X14 ~ b, data = tData)\n",
      "\n",
      "Residuals:\n",
      "     Min       1Q   Median       3Q      Max \n",
      "-1.33819 -0.18564  0.01871  0.17867  2.03630 \n",
      "\n",
      "Coefficients:\n",
      "             Estimate Std. Error t value Pr(>|t|)\n",
      "(Intercept) -0.006087   0.085163  -0.071    0.943\n",
      "b           -0.151281   0.148039  -1.022    0.313\n",
      "\n",
      "Residual standard error: 0.5373 on 38 degrees of freedom\n",
      "Multiple R-squared:  0.02675,\tAdjusted R-squared:  0.001134 \n",
      "F-statistic: 1.044 on 1 and 38 DF,  p-value: 0.3133\n",
      "\n",
      "[1] \"Max reduction is 0.0180426961319041 using c\"\n",
      "[1] \"Max reduction is 0.016355685492534 using c\"\n",
      "[1] \"No permitted terms improve the fit\"\n",
      "\n",
      "Call:\n",
      "lm(formula = X15 ~ c + I(c^2), data = tData)\n",
      "\n",
      "Residuals:\n",
      "     Min       1Q   Median       3Q      Max \n",
      "-1.45041 -0.27412  0.04904  0.25027  1.45996 \n",
      "\n",
      "Coefficients:\n",
      "            Estimate Std. Error t value Pr(>|t|)  \n",
      "(Intercept)  -0.1662     0.1113  -1.494   0.1437  \n",
      "c            -0.2465     0.1288  -1.914   0.0634 .\n",
      "I(c^2)        0.4843     0.2515   1.925   0.0619 .\n",
      "---\n",
      "Signif. codes:  0 ‘***’ 0.001 ‘**’ 0.01 ‘*’ 0.05 ‘.’ 0.1 ‘ ’ 1\n",
      "\n",
      "Residual standard error: 0.4672 on 37 degrees of freedom\n",
      "Multiple R-squared:  0.1769,\tAdjusted R-squared:  0.1324 \n",
      "F-statistic: 3.977 on 2 and 37 DF,  p-value: 0.02726\n",
      "\n",
      "[1] \"Max reduction is 0.00473875454376438 using b\"\n",
      "[1] \"Max reduction is 0.000590373677883727 using F\"\n",
      "[1] \"Max reduction is 0.00171927759897317 using c\"\n",
      "[1] \"Max reduction is 0.0186452782875451 using c\"\n",
      "[1] \"Max reduction is 0.00792162424094633 using c\"\n",
      "[1] \"Max reduction is 0.00817753807625315 using c\"\n",
      "[1] \"Max reduction is 0.00292862079119016 using b\"\n",
      "[1] \"No permitted terms improve the fit\"\n",
      "\n",
      "Call:\n",
      "lm(formula = X16 ~ b + I(b^2) + F + c + I(c^2) + I(c^3) + I(c^4) + \n",
      "    I(F * b) + I(c * b) + I(c * F), data = tData)\n",
      "\n",
      "Residuals:\n",
      "     Min       1Q   Median       3Q      Max \n",
      "-1.03354 -0.31192  0.04224  0.21940  0.74642 \n",
      "\n",
      "Coefficients:\n",
      "            Estimate Std. Error t value Pr(>|t|)  \n",
      "(Intercept)  0.20675    0.15271   1.354   0.1862  \n",
      "b            0.19672    0.14242   1.381   0.1777  \n",
      "I(b^2)      -0.27206    0.22698  -1.199   0.2404  \n",
      "F           -0.01163    0.12666  -0.092   0.9275  \n",
      "c           -0.45770    0.34536  -1.325   0.1954  \n",
      "I(c^2)       0.62066    0.91711   0.677   0.5039  \n",
      "I(c^3)       0.84521    0.53930   1.567   0.1279  \n",
      "I(c^4)      -1.59255    1.14083  -1.396   0.1733  \n",
      "I(F * b)     0.10048    0.22424   0.448   0.6574  \n",
      "I(c * b)    -0.13215    0.31837  -0.415   0.6811  \n",
      "I(c * F)     0.50608    0.22907   2.209   0.0352 *\n",
      "---\n",
      "Signif. codes:  0 ‘***’ 0.001 ‘**’ 0.01 ‘*’ 0.05 ‘.’ 0.1 ‘ ’ 1\n",
      "\n",
      "Residual standard error: 0.4038 on 29 degrees of freedom\n",
      "Multiple R-squared:  0.3973,\tAdjusted R-squared:  0.1895 \n",
      "F-statistic: 1.912 on 10 and 29 DF,  p-value: 0.08463\n",
      "\n",
      "[1] \"1 I(F * b)\"\n",
      "[1] \"2 I(c^4)\"\n",
      "[1] \"3 I(c * b)\"\n",
      "[1] \"4 I(c^3)\"\n",
      "[1] \"5 I(b^2)\"\n",
      "\n",
      "Call:\n",
      "lm(formula = X16 ~ b + F + c + I(c^2) + I(c * F), data = tData)\n",
      "\n",
      "Residuals:\n",
      "     Min       1Q   Median       3Q      Max \n",
      "-0.97175 -0.29196 -0.02975  0.26025  0.76121 \n",
      "\n",
      "Coefficients:\n",
      "            Estimate Std. Error t value Pr(>|t|)   \n",
      "(Intercept)  0.20957    0.09977   2.101  0.04316 * \n",
      "b            0.13899    0.12087   1.150  0.25819   \n",
      "F            0.05089    0.11402   0.446  0.65820   \n",
      "c            0.05166    0.11380   0.454  0.65277   \n",
      "I(c^2)      -0.63072    0.22814  -2.765  0.00914 **\n",
      "I(c * F)     0.39978    0.21186   1.887  0.06773 . \n",
      "---\n",
      "Signif. codes:  0 ‘***’ 0.001 ‘**’ 0.01 ‘*’ 0.05 ‘.’ 0.1 ‘ ’ 1\n",
      "\n",
      "Residual standard error: 0.4121 on 34 degrees of freedom\n",
      "Multiple R-squared:  0.2641,\tAdjusted R-squared:  0.1559 \n",
      "F-statistic:  2.44 on 5 and 34 DF,  p-value: 0.05408\n",
      "\n",
      "[1] \"Max reduction is 0.0119847445563176 using b\"\n",
      "[1] \"Max reduction is 0.00997214826556886 using b\"\n",
      "[1] \"Max reduction is 0.0126066427011811 using c\"\n",
      "[1] \"Max reduction is 0.0188317319999444 using F\"\n",
      "[1] \"Max reduction is 0.0300205436774529 using Three Way Interactions with b\"\n",
      "[1] \"Max reduction is 0.0699575295421366 using h\"\n",
      "[1] \"No permitted terms improve the fit\"\n",
      "\n",
      "Call:\n",
      "lm(formula = X17 ~ b + I(b^2) + c + F + h + I(c * b) + I(F * \n",
      "    b) + I(h * b) + I(F * c) + I(h * c) + I(h * F) + I(b * c * \n",
      "    b) + I(b * F * b) + I(b * h * b) + I(b * F * c) + I(b * h * \n",
      "    c) + I(b * h * F), data = tData)\n",
      "\n",
      "Residuals:\n",
      "     Min       1Q   Median       3Q      Max \n",
      "-0.44794 -0.14926  0.02677  0.13586  0.38892 \n",
      "\n",
      "Coefficients:\n",
      "              Estimate Std. Error t value Pr(>|t|)   \n",
      "(Intercept)   0.107647   0.067647   1.591  0.12581   \n",
      "b            -0.218238   0.095935  -2.275  0.03301 * \n",
      "I(b^2)       -0.199712   0.179307  -1.114  0.27739   \n",
      "c            -0.192603   0.124451  -1.548  0.13598   \n",
      "F             0.126334   0.123358   1.024  0.31691   \n",
      "h            -0.167329   0.132371  -1.264  0.21943   \n",
      "I(c * b)      0.469917   0.178254   2.636  0.01508 * \n",
      "I(F * b)     -0.486710   0.165263  -2.945  0.00749 **\n",
      "I(h * b)     -0.113277   0.162077  -0.699  0.49193   \n",
      "I(F * c)     -0.545268   0.167557  -3.254  0.00364 **\n",
      "I(h * c)     -0.101619   0.165779  -0.613  0.54618   \n",
      "I(h * F)     -0.108928   0.142262  -0.766  0.45200   \n",
      "I(b * c * b)  0.573374   0.341975   1.677  0.10776   \n",
      "I(b * F * b) -0.707389   0.356076  -1.987  0.05956 . \n",
      "I(b * h * b) -0.001295   0.369074  -0.004  0.99723   \n",
      "I(b * F * c)  0.038132   0.330562   0.115  0.90921   \n",
      "I(b * h * c)  0.968781   0.387253   2.502  0.02029 * \n",
      "I(b * h * F) -0.879298   0.259605  -3.387  0.00265 **\n",
      "---\n",
      "Signif. codes:  0 ‘***’ 0.001 ‘**’ 0.01 ‘*’ 0.05 ‘.’ 0.1 ‘ ’ 1\n",
      "\n",
      "Residual standard error: 0.259 on 22 degrees of freedom\n",
      "Multiple R-squared:  0.7775,\tAdjusted R-squared:  0.6055 \n",
      "F-statistic: 4.521 on 17 and 22 DF,  p-value: 0.0005996\n",
      "\n",
      "[1] \"1 I(b * F * c)\"\n",
      "[1] \"2 I(b * c * b)\"\n",
      "[1] \"3 I(b * h * b)\"\n",
      "[1] \"4 I(b * F * b)\"\n",
      "[1] \"5 I(F * b)\"\n",
      "[1] \"6 I(b * h * c)\"\n",
      "[1] \"7 I(h * c)\"\n",
      "[1] \"8 I(c * b)\"\n",
      "[1] \"9 I(b^2)\"\n",
      "[1] \"10 I(h * b)\"\n",
      "[1] \"11 I(b * h * F)\"\n",
      "[1] \"12 I(h * F)\"\n",
      "\n",
      "Call:\n",
      "lm(formula = X17 ~ b + c + F + h + I(F * c), data = tData)\n",
      "\n",
      "Residuals:\n",
      "     Min       1Q   Median       3Q      Max \n",
      "-0.98857 -0.17535 -0.03398  0.25492  0.71847 \n",
      "\n",
      "Coefficients:\n",
      "             Estimate Std. Error t value Pr(>|t|)   \n",
      "(Intercept)  0.002784   0.057901   0.048  0.96193   \n",
      "b           -0.098791   0.106481  -0.928  0.36006   \n",
      "c           -0.111990   0.100295  -1.117  0.27199   \n",
      "F           -0.030949   0.100384  -0.308  0.75973   \n",
      "h           -0.055428   0.100556  -0.551  0.58509   \n",
      "I(F * c)    -0.590420   0.183617  -3.215  0.00285 **\n",
      "---\n",
      "Signif. codes:  0 ‘***’ 0.001 ‘**’ 0.01 ‘*’ 0.05 ‘.’ 0.1 ‘ ’ 1\n",
      "\n",
      "Residual standard error: 0.3637 on 34 degrees of freedom\n",
      "Multiple R-squared:  0.3219,\tAdjusted R-squared:  0.2221 \n",
      "F-statistic: 3.228 on 5 and 34 DF,  p-value: 0.01721\n",
      "\n",
      "[1] \"No permitted terms improve the fit\"\n",
      "[1] \"No permitted terms improve the fit\"\n",
      "\n",
      "Call:\n",
      "lm(formula = X18 ~ 1, data = tData)\n",
      "\n",
      "Residuals:\n",
      "     Min       1Q   Median       3Q      Max \n",
      "-1.12172 -0.24241  0.06677  0.19808  1.37134 \n",
      "\n",
      "Coefficients:\n",
      "              Estimate Std. Error t value Pr(>|t|)\n",
      "(Intercept) -5.080e-16  6.279e-02       0        1\n",
      "\n",
      "Residual standard error: 0.3971 on 39 degrees of freedom\n",
      "\n",
      "[1] \"No permitted terms improve the fit\"\n",
      "[1] \"No permitted terms improve the fit\"\n",
      "\n",
      "Call:\n",
      "lm(formula = X19 ~ 1, data = tData)\n",
      "\n",
      "Residuals:\n",
      "     Min       1Q   Median       3Q      Max \n",
      "-1.00468 -0.12529 -0.00468  0.05967  1.07133 \n",
      "\n",
      "Coefficients:\n",
      "              Estimate Std. Error t value Pr(>|t|)\n",
      "(Intercept) -2.052e-16  6.052e-02       0        1\n",
      "\n",
      "Residual standard error: 0.3828 on 39 degrees of freedom\n",
      "\n",
      "[1] \"Max reduction is 0.00346877650931438 using b\"\n",
      "[1] \"Max reduction is 0.0127071086731996 using c\"\n",
      "[1] \"Max reduction is 0.00136100743909734 using h\"\n",
      "[1] \"No permitted terms improve the fit\"\n",
      "\n",
      "Call:\n",
      "lm(formula = X20 ~ b + c + h + I(c * b) + I(h * b) + I(h * c), \n",
      "    data = tData)\n",
      "\n",
      "Residuals:\n",
      "     Min       1Q   Median       3Q      Max \n",
      "-0.44444 -0.23911 -0.03956  0.13125  0.79385 \n",
      "\n",
      "Coefficients:\n",
      "            Estimate Std. Error t value Pr(>|t|)  \n",
      "(Intercept)  0.01046    0.05277   0.198   0.8440  \n",
      "b            0.17473    0.09480   1.843   0.0743 .\n",
      "c            0.06466    0.09510   0.680   0.5013  \n",
      "h            0.09292    0.09484   0.980   0.3343  \n",
      "I(c * b)     0.39472    0.17005   2.321   0.0266 *\n",
      "I(h * b)     0.19050    0.16875   1.129   0.2671  \n",
      "I(h * c)     0.14811    0.18837   0.786   0.4373  \n",
      "---\n",
      "Signif. codes:  0 ‘***’ 0.001 ‘**’ 0.01 ‘*’ 0.05 ‘.’ 0.1 ‘ ’ 1\n",
      "\n",
      "Residual standard error: 0.3311 on 33 degrees of freedom\n",
      "Multiple R-squared:  0.2368,\tAdjusted R-squared:  0.09808 \n",
      "F-statistic: 1.707 on 6 and 33 DF,  p-value: 0.1504\n",
      "\n",
      "[1] \"1 I(h * c)\"\n",
      "\n",
      "Call:\n",
      "lm(formula = X20 ~ b + c + h + I(c * b) + I(h * b), data = tData)\n",
      "\n",
      "Residuals:\n",
      "     Min       1Q   Median       3Q      Max \n",
      "-0.45331 -0.20949 -0.04675  0.19157  0.75235 \n",
      "\n",
      "Coefficients:\n",
      "            Estimate Std. Error t value Pr(>|t|)  \n",
      "(Intercept)  0.01342    0.05234   0.256   0.7992  \n",
      "b            0.16057    0.09255   1.735   0.0918 .\n",
      "c            0.07836    0.09296   0.843   0.4052  \n",
      "h            0.08540    0.09383   0.910   0.3692  \n",
      "I(c * b)     0.37530    0.16730   2.243   0.0315 *\n",
      "I(h * b)     0.23124    0.15969   1.448   0.1568  \n",
      "---\n",
      "Signif. codes:  0 ‘***’ 0.001 ‘**’ 0.01 ‘*’ 0.05 ‘.’ 0.1 ‘ ’ 1\n",
      "\n",
      "Residual standard error: 0.3292 on 34 degrees of freedom\n",
      "Multiple R-squared:  0.2225,\tAdjusted R-squared:  0.1082 \n",
      "F-statistic: 1.946 on 5 and 34 DF,  p-value: 0.1122\n",
      "\n",
      "[1] \"Max reduction is 0.00493637188808754 using c\"\n",
      "[1] \"No permitted terms improve the fit\"\n",
      "\n",
      "Call:\n",
      "lm(formula = X21 ~ c, data = tData)\n",
      "\n",
      "Residuals:\n",
      "     Min       1Q   Median       3Q      Max \n",
      "-0.97760 -0.17205  0.02625  0.13970  1.09820 \n",
      "\n",
      "Coefficients:\n",
      "            Estimate Std. Error t value Pr(>|t|)\n",
      "(Intercept) 0.003015   0.050628   0.060    0.953\n",
      "c           0.130805   0.087934   1.488    0.145\n",
      "\n",
      "Residual standard error: 0.3199 on 38 degrees of freedom\n",
      "Multiple R-squared:  0.05503,\tAdjusted R-squared:  0.03016 \n",
      "F-statistic: 2.213 on 1 and 38 DF,  p-value: 0.1451\n",
      "\n",
      "[1] \"No permitted terms improve the fit\"\n",
      "[1] \"No permitted terms improve the fit\"\n",
      "\n",
      "Call:\n",
      "lm(formula = X22 ~ 1, data = tData)\n",
      "\n",
      "Residuals:\n",
      "     Min       1Q   Median       3Q      Max \n",
      "-0.76865 -0.14753 -0.03205  0.08764  1.26488 \n",
      "\n",
      "Coefficients:\n",
      "              Estimate Std. Error t value Pr(>|t|)\n",
      "(Intercept) -5.829e-17  5.000e-02       0        1\n",
      "\n",
      "Residual standard error: 0.3162 on 39 degrees of freedom\n",
      "\n",
      "[1] \"Max reduction is 0.0035312726762784 using b\"\n",
      "[1] \"Max reduction is 0.0135764645764777 using F\"\n",
      "[1] \"Max reduction is 0.00528520891757128 using b\"\n",
      "[1] \"Max reduction is 0.00366572041487268 using c\"\n",
      "[1] \"Max reduction is 0.00253349686972876 using c\"\n",
      "[1] \"No permitted terms improve the fit\"\n",
      "\n",
      "Call:\n",
      "lm(formula = X23 ~ b + I(b^2) + F + c + I(c^2) + I(F * b) + I(c * \n",
      "    b) + I(c * F), data = tData)\n",
      "\n",
      "Residuals:\n",
      "     Min       1Q   Median       3Q      Max \n",
      "-0.65769 -0.11968 -0.05565  0.14015  0.69032 \n",
      "\n",
      "Coefficients:\n",
      "            Estimate Std. Error t value Pr(>|t|)   \n",
      "(Intercept) -0.14116    0.08675  -1.627  0.11382   \n",
      "b           -0.11752    0.08061  -1.458  0.15492   \n",
      "I(b^2)       0.24068    0.14645   1.643  0.11041   \n",
      "F           -0.01621    0.07959  -0.204  0.83992   \n",
      "c           -0.14705    0.07677  -1.915  0.06470 . \n",
      "I(c^2)       0.22309    0.17526   1.273  0.21252   \n",
      "I(F * b)     0.44848    0.14391   3.116  0.00393 **\n",
      "I(c * b)     0.19687    0.17569   1.121  0.27108   \n",
      "I(c * F)     0.01278    0.14769   0.087  0.93158   \n",
      "---\n",
      "Signif. codes:  0 ‘***’ 0.001 ‘**’ 0.01 ‘*’ 0.05 ‘.’ 0.1 ‘ ’ 1\n",
      "\n",
      "Residual standard error: 0.2627 on 31 degrees of freedom\n",
      "Multiple R-squared:  0.3535,\tAdjusted R-squared:  0.1867 \n",
      "F-statistic: 2.119 on 8 and 31 DF,  p-value: 0.06415\n",
      "\n",
      "[1] \"1 I(c^2)\"\n",
      "[1] \"2 I(c * F)\"\n",
      "[1] \"3 I(c * b)\"\n",
      "\n",
      "Call:\n",
      "lm(formula = X23 ~ b + I(b^2) + F + c + I(F * b), data = tData)\n",
      "\n",
      "Residuals:\n",
      "     Min       1Q   Median       3Q      Max \n",
      "-0.74458 -0.10058 -0.04606  0.14663  0.64416 \n",
      "\n",
      "Coefficients:\n",
      "            Estimate Std. Error t value Pr(>|t|)   \n",
      "(Intercept) -0.06756    0.06187  -1.092  0.28251   \n",
      "b           -0.09675    0.07288  -1.328  0.19315   \n",
      "I(b^2)       0.24076    0.14126   1.704  0.09744 . \n",
      "F            0.02317    0.07147   0.324  0.74777   \n",
      "c           -0.14775    0.07551  -1.957  0.05864 . \n",
      "I(F * b)     0.42360    0.13405   3.160  0.00331 **\n",
      "---\n",
      "Signif. codes:  0 ‘***’ 0.001 ‘**’ 0.01 ‘*’ 0.05 ‘.’ 0.1 ‘ ’ 1\n",
      "\n",
      "Residual standard error: 0.2586 on 34 degrees of freedom\n",
      "Multiple R-squared:  0.3127,\tAdjusted R-squared:  0.2116 \n",
      "F-statistic: 3.093 on 5 and 34 DF,  p-value: 0.02087\n",
      "\n",
      "[1] \"Max reduction is 0.00226007268513861 using c\"\n",
      "[1] \"No permitted terms improve the fit\"\n",
      "\n",
      "Call:\n",
      "lm(formula = X24 ~ c, data = tData)\n",
      "\n",
      "Residuals:\n",
      "     Min       1Q   Median       3Q      Max \n",
      "-0.47840 -0.14457 -0.05560  0.09104  0.82447 \n",
      "\n",
      "Coefficients:\n",
      "             Estimate Std. Error t value Pr(>|t|)\n",
      "(Intercept) -0.002217   0.043125  -0.051    0.959\n",
      "c           -0.096202   0.074904  -1.284    0.207\n",
      "\n",
      "Residual standard error: 0.2725 on 38 degrees of freedom\n",
      "Multiple R-squared:  0.0416,\tAdjusted R-squared:  0.01638 \n",
      "F-statistic:  1.65 on 1 and 38 DF,  p-value: 0.2068\n",
      "\n",
      "[1] \"Max reduction is 0.00136010219300867 using b\"\n",
      "[1] \"Max reduction is 0.00621923610483976 using c\"\n",
      "[1] \"Max reduction is 5.91488491057113e-05 using h\"\n",
      "[1] \"No permitted terms improve the fit\"\n",
      "\n",
      "Call:\n",
      "lm(formula = X25 ~ b + c + h + I(c * b) + I(h * b) + I(h * c), \n",
      "    data = tData)\n",
      "\n",
      "Residuals:\n",
      "     Min       1Q   Median       3Q      Max \n",
      "-0.66250 -0.09840 -0.01996  0.10774  0.64430 \n",
      "\n",
      "Coefficients:\n",
      "             Estimate Std. Error t value Pr(>|t|)  \n",
      "(Intercept) -0.002014   0.037062  -0.054   0.9570  \n",
      "b           -0.075789   0.066587  -1.138   0.2632  \n",
      "c            0.016633   0.066791   0.249   0.8049  \n",
      "h           -0.081820   0.066615  -1.228   0.2280  \n",
      "I(c * b)    -0.273293   0.119435  -2.288   0.0287 *\n",
      "I(h * b)     0.136003   0.118522   1.147   0.2594  \n",
      "I(h * c)    -0.045207   0.132304  -0.342   0.7348  \n",
      "---\n",
      "Signif. codes:  0 ‘***’ 0.001 ‘**’ 0.01 ‘*’ 0.05 ‘.’ 0.1 ‘ ’ 1\n",
      "\n",
      "Residual standard error: 0.2325 on 33 degrees of freedom\n",
      "Multiple R-squared:  0.2068,\tAdjusted R-squared:  0.0626 \n",
      "F-statistic: 1.434 on 6 and 33 DF,  p-value: 0.2315\n",
      "\n",
      "[1] \"1 I(h * c)\"\n",
      "\n",
      "Call:\n",
      "lm(formula = X25 ~ b + c + h + I(c * b) + I(h * b), data = tData)\n",
      "\n",
      "Residuals:\n",
      "     Min       1Q   Median       3Q      Max \n",
      "-0.65534 -0.09935 -0.02195  0.10012  0.65873 \n",
      "\n",
      "Coefficients:\n",
      "             Estimate Std. Error t value Pr(>|t|)  \n",
      "(Intercept) -0.002915   0.036485  -0.080   0.9368  \n",
      "b           -0.071465   0.064519  -1.108   0.2758  \n",
      "c            0.012451   0.064802   0.192   0.8488  \n",
      "h           -0.079523   0.065408  -1.216   0.2324  \n",
      "I(c * b)    -0.267363   0.116623  -2.293   0.0282 *\n",
      "I(h * b)     0.123567   0.111321   1.110   0.2748  \n",
      "---\n",
      "Signif. codes:  0 ‘***’ 0.001 ‘**’ 0.01 ‘*’ 0.05 ‘.’ 0.1 ‘ ’ 1\n",
      "\n",
      "Residual standard error: 0.2295 on 34 degrees of freedom\n",
      "Multiple R-squared:  0.204,\tAdjusted R-squared:  0.08695 \n",
      "F-statistic: 1.743 on 5 and 34 DF,  p-value: 0.1515\n",
      "\n",
      "[1] \"Max reduction is 0.00368736552295865 using h\"\n",
      "[1] \"Max reduction is 0.00223746010023501 using b\"\n",
      "[1] \"No permitted terms improve the fit\"\n",
      "\n",
      "Call:\n",
      "lm(formula = X26 ~ h + b + I(b * h), data = tData)\n",
      "\n",
      "Residuals:\n",
      "     Min       1Q   Median       3Q      Max \n",
      "-0.33565 -0.12576 -0.00982  0.07001  0.89913 \n",
      "\n",
      "Coefficients:\n",
      "            Estimate Std. Error t value Pr(>|t|)  \n",
      "(Intercept) 0.004166   0.033608   0.124   0.9020  \n",
      "h           0.101247   0.058719   1.724   0.0932 .\n",
      "b           0.028146   0.059415   0.474   0.6386  \n",
      "I(b * h)    0.167238   0.100304   1.667   0.1041  \n",
      "---\n",
      "Signif. codes:  0 ‘***’ 0.001 ‘**’ 0.01 ‘*’ 0.05 ‘.’ 0.1 ‘ ’ 1\n",
      "\n",
      "Residual standard error: 0.2117 on 36 degrees of freedom\n",
      "Multiple R-squared:  0.1265,\tAdjusted R-squared:  0.05371 \n",
      "F-statistic: 1.738 on 3 and 36 DF,  p-value: 0.1766\n",
      "\n",
      "[1] \"No permitted terms improve the fit\"\n",
      "[1] \"No permitted terms improve the fit\"\n",
      "\n",
      "Call:\n",
      "lm(formula = X27 ~ 1, data = tData)\n",
      "\n",
      "Residuals:\n",
      "     Min       1Q   Median       3Q      Max \n",
      "-0.36049 -0.11874 -0.02405  0.05109  0.76799 \n",
      "\n",
      "Coefficients:\n",
      "             Estimate Std. Error t value Pr(>|t|)\n",
      "(Intercept) 1.009e-16  3.257e-02       0        1\n",
      "\n",
      "Residual standard error: 0.206 on 39 degrees of freedom\n",
      "\n",
      "[1] \"Max reduction is 0.00658846264521545 using b\"\n",
      "[1] \"Max reduction is 0.00659540895871302 using b\"\n",
      "[1] \"Max reduction is 0.00727501385981122 using b\"\n",
      "[1] \"No permitted terms improve the fit\"\n",
      "\n",
      "Call:\n",
      "lm(formula = X28 ~ b + I(b^2) + I(b^3), data = tData)\n",
      "\n",
      "Residuals:\n",
      "     Min       1Q   Median       3Q      Max \n",
      "-0.33982 -0.09589 -0.00540  0.09459  0.54924 \n",
      "\n",
      "Coefficients:\n",
      "            Estimate Std. Error t value Pr(>|t|)  \n",
      "(Intercept)  0.07161    0.04100   1.747   0.0892 .\n",
      "b            0.10117    0.11552   0.876   0.3869  \n",
      "I(b^2)      -0.25154    0.09710  -2.591   0.0137 *\n",
      "I(b^3)      -0.37566    0.18246  -2.059   0.0468 *\n",
      "---\n",
      "Signif. codes:  0 ‘***’ 0.001 ‘**’ 0.01 ‘*’ 0.05 ‘.’ 0.1 ‘ ’ 1\n",
      "\n",
      "Residual standard error: 0.1698 on 36 degrees of freedom\n",
      "Multiple R-squared:  0.2648,\tAdjusted R-squared:  0.2035 \n",
      "F-statistic: 4.322 on 3 and 36 DF,  p-value: 0.01058\n",
      "\n",
      "[1] \"Max reduction is 0.00268894432765199 using c\"\n",
      "[1] \"Max reduction is 0.00243774917227024 using c\"\n",
      "[1] \"Max reduction is 0.00625051498107138 using b\"\n",
      "[1] \"No permitted terms improve the fit\"\n",
      "\n",
      "Call:\n",
      "lm(formula = X29 ~ c + I(c^2) + b + I(b * c), data = tData)\n",
      "\n",
      "Residuals:\n",
      "     Min       1Q   Median       3Q      Max \n",
      "-0.29335 -0.09432  0.00837  0.08689  0.34597 \n",
      "\n",
      "Coefficients:\n",
      "            Estimate Std. Error t value Pr(>|t|)  \n",
      "(Intercept) -0.07921    0.04133  -1.917   0.0635 .\n",
      "c            0.07293    0.04357   1.674   0.1031  \n",
      "I(c^2)       0.24208    0.09909   2.443   0.0198 *\n",
      "b           -0.03497    0.04397  -0.795   0.4319  \n",
      "I(b * c)     0.19184    0.09031   2.124   0.0408 *\n",
      "---\n",
      "Signif. codes:  0 ‘***’ 0.001 ‘**’ 0.01 ‘*’ 0.05 ‘.’ 0.1 ‘ ’ 1\n",
      "\n",
      "Residual standard error: 0.1581 on 35 degrees of freedom\n",
      "Multiple R-squared:  0.219,\tAdjusted R-squared:  0.1298 \n",
      "F-statistic: 2.454 on 4 and 35 DF,  p-value: 0.06389\n",
      "\n",
      "[1] \"Max reduction is 0.00657575001088873 using h\"\n",
      "[1] \"No permitted terms improve the fit\"\n",
      "\n",
      "Call:\n",
      "lm(formula = X30 ~ h, data = tData)\n",
      "\n",
      "Residuals:\n",
      "     Min       1Q   Median       3Q      Max \n",
      "-0.38694 -0.09668  0.01816  0.09675  0.44450 \n",
      "\n",
      "Coefficients:\n",
      "             Estimate Std. Error t value Pr(>|t|)  \n",
      "(Intercept) 0.0008858  0.0251059   0.035    0.972  \n",
      "h           0.0907031  0.0437531   2.073    0.045 *\n",
      "---\n",
      "Signif. codes:  0 ‘***’ 0.001 ‘**’ 0.01 ‘*’ 0.05 ‘.’ 0.1 ‘ ’ 1\n",
      "\n",
      "Residual standard error: 0.1588 on 38 degrees of freedom\n",
      "Multiple R-squared:  0.1016,\tAdjusted R-squared:  0.07796 \n",
      "F-statistic: 4.298 on 1 and 38 DF,  p-value: 0.045\n",
      "\n",
      "[1] \"No permitted terms improve the fit\"\n",
      "[1] \"No permitted terms improve the fit\"\n",
      "\n",
      "Call:\n",
      "lm(formula = X31 ~ 1, data = tData)\n",
      "\n",
      "Residuals:\n",
      "     Min       1Q   Median       3Q      Max \n",
      "-0.40156 -0.02966 -0.00551  0.02342  0.50599 \n",
      "\n",
      "Coefficients:\n",
      "              Estimate Std. Error t value Pr(>|t|)\n",
      "(Intercept) -6.528e-17  2.163e-02       0        1\n",
      "\n",
      "Residual standard error: 0.1368 on 39 degrees of freedom\n",
      "\n",
      "[1] \"No permitted terms improve the fit\"\n",
      "[1] \"No permitted terms improve the fit\"\n",
      "\n",
      "Call:\n",
      "lm(formula = X32 ~ 1, data = tData)\n",
      "\n",
      "Residuals:\n",
      "     Min       1Q   Median       3Q      Max \n",
      "-0.35875 -0.05092  0.00474  0.03864  0.47319 \n",
      "\n",
      "Coefficients:\n",
      "              Estimate Std. Error t value Pr(>|t|)\n",
      "(Intercept) -8.887e-17  1.909e-02       0        1\n",
      "\n",
      "Residual standard error: 0.1207 on 39 degrees of freedom\n",
      "\n"
     ]
    }
   ],
   "source": [
    "cands <- names(tData)[1:4]\n",
    "em_wave1 <- BuildNewEmulators(tData, HowManyEmulators = ncol(X_pca), meanFun = \"fitted\", additionalVariables = cands) # "
   ]
  },
  {
   "cell_type": "markdown",
   "metadata": {},
   "source": [
    "We can use Leave One Out to verify if our GPs fit our metrics correctly."
   ]
  },
  {
   "cell_type": "code",
   "execution_count": 21,
   "metadata": {},
   "outputs": [
    {
     "data": {
      "image/png": "[encoded data removed]",
      "text/plain": [
       "Plot with title “”"
      ]
     },
     "metadata": {
      "image/png": {
       "height": 420,
       "width": 420
      }
     },
     "output_type": "display_data"
    }
   ],
   "source": [
    "tLOOs <- LOO.plot(Emulators = em_wave1, which.emulator = 2, ParamNames = cands)"
   ]
  },
  {
   "cell_type": "markdown",
   "metadata": {},
   "source": [
    "### Compute implausibility\n",
    "\n",
    "We will compute implausibility as it is described in *Williamson & al. (2017)*.\n",
    "\n",
    "$$\n",
    "I_i(x_0) = \\frac{|z_i - \\mathbf{E}[f_i(x_0)]|}{|Var[z_i - \\mathbf{E}[f_i(x_0)]]|} \\\\\n",
    "I(x_0) = max_i(I_i(x_0))\n",
    "$$\n",
    "\n",
    "We consider that $Var[z_i - \\mathbf{E}[f_i(x_0)]] = Var[e] +\n",
    "Var[g] + Var[f(x_0)]$  like it is describe in *Williamson & al. (2017)*. \n",
    "\n",
    "With $Var[e]$ the observational\n",
    "error variance, $Var[g]$ the model discrepancy variance\n",
    "and $Var[f(x)]$ the variance of the emulator."
   ]
  },
  {
   "cell_type": "code",
   "execution_count": 22,
   "metadata": {},
   "outputs": [],
   "source": [
    "tDisc <- rep(0, ncol(metrics_wave1)) # model discrepancy variance Var[g] \n",
    "tObsErr <- rep(0, ncol(metrics_wave1)) # observational error variance Var[e]\n",
    "obs_scaled <- my.scaler$transform(t(observations))\n",
    "tObs <-  as.vector(pca$transform(obs_scaled)) # Observations"
   ]
  },
  {
   "cell_type": "markdown",
   "metadata": {},
   "source": [
    "We generate a large sampling of the parameter space (that we have scaled) and will compute implausibility for each point of this parameters space."
   ]
  },
  {
   "cell_type": "code",
   "execution_count": 23,
   "metadata": {},
   "outputs": [
    {
     "data": {
      "text/plain": [
       "   user  system elapsed \n",
       " 44.354  13.627   9.147 "
      ]
     },
     "metadata": {},
     "output_type": "display_data"
    }
   ],
   "source": [
    "sample_size <- 100000\n",
    "nparam <- length(names(em_wave1$fitting.elements$Design))\n",
    "Xp <- as.data.frame(2*randomLHS(sample_size, nparam)-1)\n",
    "names(Xp) <- names(em_wave1$fitting.elements$Design)\n",
    "system.time(Timps <- ImplausibilityMOGP(NewData=Xp, Emulator=em_wave1, Discrepancy=tDisc, Obs=tObs, ObsErr=tObsErr))"
   ]
  },
  {
   "cell_type": "code",
   "execution_count": 24,
   "metadata": {},
   "outputs": [
    {
     "name": "stdout",
     "output_type": "stream",
     "text": [
      "    h   F c   b\n",
      "1 0.5 0.5 0 0.5\n"
     ]
    }
   ],
   "source": [
    "VarNames <- names(Xp)\n",
    "valmax = 0 #how many outputs can be above the implausibility cut off\n",
    "cutoff <- 3 #the implausibility cut off\n",
    "param.def = data.frame(h=c(1),F=c(10),c=c(10),b=c(10)) #the default parameters of the model (on [-1,1])\n",
    "param.defaults.norm = rangeScale(param.def, my_bounds, range(-1,1))\n",
    "print(param.defaults.norm)"
   ]
  },
  {
   "cell_type": "code",
   "execution_count": 25,
   "metadata": {},
   "outputs": [
    {
     "data": {
      "text/html": [
       "0.01977"
      ],
      "text/latex": [
       "0.01977"
      ],
      "text/markdown": [
       "0.01977"
      ],
      "text/plain": [
       "[1] 0.01977"
      ]
     },
     "metadata": {},
     "output_type": "display_data"
    }
   ],
   "source": [
    "NROY1 <- which(rowSums(Timps <= cutoff) >= em_wave1$mogp$n_emulators -valmax)\n",
    "scoreNROY1 <- length(NROY1)/dim(Xp)[1]\n",
    "scoreNROY1"
   ]
  },
  {
   "cell_type": "markdown",
   "metadata": {},
   "source": [
    "### Layout of NROY space"
   ]
  },
  {
   "cell_type": "code",
   "execution_count": 26,
   "metadata": {},
   "outputs": [
    {
     "data": {
      "image/png": "[encoded data removed]",
      "text/plain": [
       "plot without title"
      ]
     },
     "metadata": {
      "image/png": {
       "height": 420,
       "width": 420
      }
     },
     "output_type": "display_data"
    }
   ],
   "source": [
    "ImpData_wave1 = cbind(Xp, Timps)\n",
    "ImpListM1 = CreateImpList(whichVars = 1:nparam, VarNames=VarNames, ImpData=ImpData_wave1, nEms=em_wave1$mogp$n_emulators, whichMax=valmax+1)\n",
    "imp.layoutm11(ImpListM1,VarNames,VariableDensity=FALSE,newPDF=FALSE,the.title=paste(\"InputSpace_wave\",WAVEN,\".pdf\",sep=\"\"),newPNG=FALSE,newJPEG=FALSE,newEPS=FALSE,Points=matrix(param.defaults.norm,ncol=nparam))\n",
    "mtext(paste(\"Remaining space:\",scoreNROY1,sep=\"\"), side=1)"
   ]
  },
  {
   "cell_type": "markdown",
   "metadata": {},
   "source": [
    "## Second Wave\n",
    "\n",
    "We will generate a large number of samples in the entire parameters space in order to obtain *n_samples* samples in the NROY space created with the emulator *em_wave1*."
   ]
  },
  {
   "cell_type": "code",
   "execution_count": 27,
   "metadata": {},
   "outputs": [],
   "source": [
    "n <- ceiling(n_samples*4/scoreNROY1)"
   ]
  },
  {
   "cell_type": "code",
   "execution_count": 28,
   "metadata": {},
   "outputs": [],
   "source": [
    "space <- skSpace$Space(list(c(-1, 1), c(-1,1), c(-1, 1), c(-1, 1))) ## we use a scaled space\n",
    "inputs_wave2_scaled_temp <- np$array(lhs$generate(space$dimensions, as.integer(n), random_state=as.integer(42)))"
   ]
  },
  {
   "cell_type": "markdown",
   "metadata": {},
   "source": [
    "We find the points of NewData wich fall in the NROY space of each emulator in *emulators*."
   ]
  },
  {
   "cell_type": "code",
   "execution_count": 29,
   "metadata": {},
   "outputs": [],
   "source": [
    "parameters_space <- function(emulators, NewData, n_samples=n_samples){\n",
    "    NROY_em <- 1:nrow(NewData)\n",
    "    for (em in emulators){\n",
    "        imp_em <- ImplausibilityMOGP(NewData=NewData, Emulator=em, Discrepancy=tDisc, Obs=tObs, ObsErr=tObsErr)\n",
    "        NROY_temp <- which(rowSums(imp_em <= cutoff) >= em$mogp$n_emulators - valmax)\n",
    "        NROY_em <- intersect(NROY_em, NROY_temp)\n",
    "    }\n",
    "    return(sample(NROY_em, n_samples))\n",
    "}"
   ]
  },
  {
   "cell_type": "code",
   "execution_count": 30,
   "metadata": {},
   "outputs": [],
   "source": [
    "emulators <- list(em_wave1)\n",
    "NROY_temp_wave2 <- parameters_space(emulators, inputs_wave2_scaled_temp, 30)"
   ]
  },
  {
   "cell_type": "markdown",
   "metadata": {},
   "source": [
    "We now have our new inputs for wave 2.\n",
    "\n",
    "We need to unscale those inputs for metrics simulations."
   ]
  },
  {
   "cell_type": "code",
   "execution_count": 31,
   "metadata": {},
   "outputs": [],
   "source": [
    "inputs_wave2_scaled <- inputs_wave2_scaled_temp[NROY_temp_wave2,]\n",
    "inputs_wave2 <- rangeUnscale(inputs_wave2_scaled, my_bounds, range = c(-1, 1))"
   ]
  },
  {
   "cell_type": "code",
   "execution_count": 32,
   "metadata": {},
   "outputs": [
    {
     "data": {
      "image/png": "[encoded data removed]",
      "text/plain": [
       "plot without title"
      ]
     },
     "metadata": {
      "image/png": {
       "height": 420,
       "width": 420
      }
     },
     "output_type": "display_data"
    }
   ],
   "source": [
    "par(mfrow=c(2,3))\n",
    "plot(inputs_wave2[,1], inputs_wave2[,2], xlab=\"h\", ylab=\"F\", xlim=c(-2,2), ylim=c(-20,20))\n",
    "points(1, 10, col='red', pch=18, cex=2)\n",
    "plot(inputs_wave2[,1], inputs_wave2[,3], xlab=\"h\", ylab=\"c\", xlim=c(-2,2), ylim=c(0,20))\n",
    "points(1, 10, col='red', pch=18, cex=2)\n",
    "plot(inputs_wave2[,1], inputs_wave2[,4], xlab=\"c\", ylab=\"b\", xlim=c(-2,2), ylim=c(-20,20))\n",
    "points(10, 10, col='red', pch=18, cex=2)\n",
    "plot(inputs_wave2[,2], inputs_wave2[,3], xlab=\"F\", ylab=\"c\", xlim=c(-20,20), ylim=c(0,20))\n",
    "points(1, 10, col='red', pch=18, cex=2)\n",
    "plot(inputs_wave2[,2], inputs_wave2[,4], xlab=\"F\", ylab=\"b\", xlim=c(-20,20), ylim=c(-20,20))\n",
    "points(1, 10, col='red', pch=18, cex=2)\n",
    "plot(inputs_wave2[,3], inputs_wave2[,4], xlab=\"c\", ylab=\"b\", xlim=c(0,20), ylim=c(-20,20))\n",
    "points(10, 10, col='red', pch=18, cex=2)"
   ]
  },
  {
   "cell_type": "code",
   "execution_count": 33,
   "metadata": {},
   "outputs": [
    {
     "ename": "ERROR",
     "evalue": "Error in py_call_impl(callable, dots$args, dots$keywords): ValueError: operands could not be broadcast together with shapes (360,) (7200360,) \n\nDetailed traceback: \n  File \"/home/homer/Documents/Locean/HistoryMatching_ExeterUQ/L96_amip.py\", line 235, in iterate\n    self.step()\n  File \"/home/homer/Documents/Locean/HistoryMatching_ExeterUQ/L96_amip.py\", line 149, in step\n    k1_Y = self._rhs_Y_dt(self.X, self.Y)\n  File \"/home/homer/Documents/Locean/HistoryMatching_ExeterUQ/L96_amip.py\", line 126, in _rhs_Y_dt\n    -self.b * np.roll(Y, -1) * (np.roll(Y, -2) - np.roll(Y, 1)) -\n\n",
     "output_type": "error",
     "traceback": [
      "Error in py_call_impl(callable, dots$args, dots$keywords): ValueError: operands could not be broadcast together with shapes (360,) (7200360,) \n\nDetailed traceback: \n  File \"/home/homer/Documents/Locean/HistoryMatching_ExeterUQ/L96_amip.py\", line 235, in iterate\n    self.step()\n  File \"/home/homer/Documents/Locean/HistoryMatching_ExeterUQ/L96_amip.py\", line 149, in step\n    k1_Y = self._rhs_Y_dt(self.X, self.Y)\n  File \"/home/homer/Documents/Locean/HistoryMatching_ExeterUQ/L96_amip.py\", line 126, in _rhs_Y_dt\n    -self.b * np.roll(Y, -1) * (np.roll(Y, -2) - np.roll(Y, 1)) -\n\nTraceback:\n",
      "1. future_sapply(1:nrow(inputs_wave2), function(r) extract_metrics_AMIP(inputs_wave2[r, \n .     ], n_iter, 0.001, X_hist), future.seed = NULL)",
      "2. future_lapply(X = X, FUN = FUN, ..., future.label = future.label)",
      "3. future_xapply(FUN = FUN, nX = nX, chunk_args = X, args = list(...), \n .     get_chunk = `[`, expr = expr, envir = envir, future.globals = future.globals, \n .     future.packages = future.packages, future.scheduling = future.scheduling, \n .     future.chunk.size = future.chunk.size, future.stdout = future.stdout, \n .     future.conditions = future.conditions, future.seed = future.seed, \n .     future.lazy = future.lazy, future.label = future.label, fcn_name = fcn_name, \n .     args_name = args_name, debug = debug)",
      "4. value(fs)",
      "5. value.list(fs)",
      "6. resolve(y, result = TRUE, stdout = stdout, signal = signal, force = TRUE)",
      "7. resolve.list(y, result = TRUE, stdout = stdout, signal = signal, \n .     force = TRUE)",
      "8. signalConditionsASAP(obj, resignal = FALSE, pos = ii)",
      "9. signalConditions(obj, exclude = getOption(\"future.relay.immediate\", \n .     \"immediateCondition\"), resignal = resignal, ...)"
     ]
    }
   ],
   "source": [
    "metrics_wave2 <- future_sapply(1:nrow(inputs_wave2), function(r) extract_metrics_AMIP(inputs_wave2[r,], n_iter, 0.001, X_hist), future.seed=NULL) \n",
    "metrics_wave2 <- t(metrics_wave2) "
   ]
  },
  {
   "cell_type": "markdown",
   "metadata": {},
   "source": [
    "## Principal Component Analysis for dimensionality reduction"
   ]
  },
  {
   "cell_type": "code",
   "execution_count": null,
   "metadata": {},
   "outputs": [],
   "source": [
    "# Generate data for testing PCA\n",
    "n_samples_test <- 40\n",
    "inputs_test <- np$array(lhs$generate(space$dimensions, as.integer(n_samples_test), random_state=as.integer(21)))\n",
    "metrics_test = future_sapply(1:nrow(inputs_test), function(r) extract_metrics_AMIP(inputs_test[r,], n_iter, 0.001, X_init), future.seed=NULL)\n",
    "metrics_test <- t(metrics_test)"
   ]
  },
  {
   "cell_type": "code",
   "execution_count": null,
   "metadata": {},
   "outputs": [],
   "source": [
    "# Scale metrics\n",
    "my.scaler <- sklearn$preprocessing$StandardScaler()\n",
    "X_wave2 <- my.scaler$fit_transform(metrics_wave2)"
   ]
  },
  {
   "cell_type": "code",
   "execution_count": null,
   "metadata": {},
   "outputs": [],
   "source": [
    "X_pca <- pca$fit_transform(X)\n",
    "plot(np$cumsum(pca$explained_variance_ratio_))\n",
    "X_pca_test <- pca$transform(X_test)\n",
    "X_inverse_transform <- pca$inverse_transform(X_pca)\n",
    "X_test_inverse_transform <- pca$inverse_transform(X_pca_test)\n",
    "mse <- MSE(X_inverse_transform, X)\n",
    "val_mse <- MSE(X_test_inverse_transform, X_test)\n",
    "mse\n",
    "val_mse"
   ]
  },
  {
   "cell_type": "markdown",
   "metadata": {},
   "source": [
    "### Create the data matrix"
   ]
  },
  {
   "cell_type": "code",
   "execution_count": null,
   "metadata": {
    "scrolled": true
   },
   "outputs": [],
   "source": [
    "# Arrange inputs (parameters) \n",
    "inputs_wave2 <- data.frame(inputs_wave2)\n",
    "my_bounds <- data.frame(list(c(-2, 2), c(-20,20), c(0, 20), c(-20, 20)))\n",
    "inputs_wave2_scaled <- rangeScale(inputs_wave2, my_bounds, range = c(-1, 1))\n",
    "names(inputs_wave2_scaled) <- c('h', 'F', 'c', 'b')\n",
    "\n",
    "\n",
    "X_pca_wave2 <- data.frame(X_pca)\n",
    "N = nrow(inputs_wave2) \n",
    "noise <- rnorm(N, 0.5, 0)\n",
    "tData_wave2 <- data.frame(cbind(inputs_wave2_scaled, noise, X_pca_wave2))\n",
    "names(tData_wave2)[names(tData_wave2) == \"noise\"] <- \"Noise\"\n",
    "         \n",
    "head(tData_wave2)"
   ]
  },
  {
   "cell_type": "markdown",
   "metadata": {},
   "source": [
    "### Training emulator"
   ]
  },
  {
   "cell_type": "code",
   "execution_count": null,
   "metadata": {},
   "outputs": [],
   "source": [
    "em_wave2 <- BuildNewEmulators(tData_wave2, HowManyEmulators = ncol(metrics_wave2), meanFun = \"fitted\", additionalVariables = cands) # "
   ]
  },
  {
   "cell_type": "code",
   "execution_count": null,
   "metadata": {},
   "outputs": [],
   "source": [
    "tLOOs <- LOO.plot(Emulators = em_wave2, which.emulator = 4, ParamNames = cands)"
   ]
  },
  {
   "cell_type": "markdown",
   "metadata": {},
   "source": [
    "### Compute implausibility"
   ]
  },
  {
   "cell_type": "code",
   "execution_count": null,
   "metadata": {
    "scrolled": true
   },
   "outputs": [],
   "source": [
    "sample_size <- 100000\n",
    "nparam <- length(names(em_wave2$fitting.elements$Design))\n",
    "Xp_wave2 <- as.data.frame(2*randomLHS(sample_size, nparam)-1)\n",
    "names(Xp_wave2) <- names(em_wave2$fitting.elements$Design)\n",
    "system.time(Timps_wave2 <- ImplausibilityMOGP(NewData=Xp_wave2, Emulator=em_wave2, Discrepancy=tDisc, Obs=tObs, ObsErr=tObsErr))"
   ]
  },
  {
   "cell_type": "code",
   "execution_count": null,
   "metadata": {},
   "outputs": [],
   "source": [
    "valmax = 0 #Set to 2 in order to have a \"more steady\" NROY space\n",
    "cutoff <- 3 #the implausibility cut off"
   ]
  },
  {
   "cell_type": "code",
   "execution_count": null,
   "metadata": {},
   "outputs": [],
   "source": [
    "NROY2 <- which(rowSums(Timps_wave2 <= cutoff) >= em_wave2$mogp$n_emulators -valmax)\n",
    "scoreNROY2 <- length(NROY2)/dim(Xp_wave2)[1]"
   ]
  },
  {
   "cell_type": "markdown",
   "metadata": {},
   "source": [
    "### Layout of NROY space"
   ]
  },
  {
   "cell_type": "code",
   "execution_count": null,
   "metadata": {
    "scrolled": false
   },
   "outputs": [],
   "source": [
    "ImpData_wave2 = cbind(Xp_wave2, Timps_wave2)\n",
    "ImpListM2 = CreateImpList(whichVars = 1:nparam, VarNames=VarNames, ImpData=ImpData_wave2, nEms=em_wave2$mogp$n_emulators, whichMax=valmax+1)\n",
    "imp.layoutm11(ImpListM2,VarNames,VariableDensity=FALSE,newPDF=FALSE,the.title=paste(\"InputSpace_wave\",WAVEN,\".pdf\",sep=\"\"),newPNG=FALSE,newJPEG=FALSE,newEPS=FALSE,Points=matrix(param.defaults.norm,ncol=nparam))\n",
    "mtext(paste(\"Remaining space:\",scoreNROY2,sep=\"\"), side=1)"
   ]
  },
  {
   "cell_type": "markdown",
   "metadata": {},
   "source": [
    "## Third Wave"
   ]
  },
  {
   "cell_type": "code",
   "execution_count": null,
   "metadata": {},
   "outputs": [],
   "source": [
    "n <- ceiling(n_samples*3/scoreNROY2)"
   ]
  },
  {
   "cell_type": "code",
   "execution_count": null,
   "metadata": {},
   "outputs": [],
   "source": [
    "inputs_wave3_scaled_temp <- np$array(lhs$generate(space$dimensions, as.integer(n), random_state=as.integer(42)))"
   ]
  },
  {
   "cell_type": "code",
   "execution_count": null,
   "metadata": {},
   "outputs": [],
   "source": [
    "emulators <- list(em_wave1, em_wave2)\n",
    "NROY_temp_wave3 <- parameters_space(emulators, inputs_wave3_scaled_temp, n_samples=30)"
   ]
  },
  {
   "cell_type": "code",
   "execution_count": null,
   "metadata": {},
   "outputs": [],
   "source": [
    "length(NROY_temp_wave3)"
   ]
  },
  {
   "cell_type": "code",
   "execution_count": null,
   "metadata": {},
   "outputs": [],
   "source": [
    "input_wave3_scaled <- inputs_wave3_scaled_temp[sample(NROY_temp_wave3, n_samples),]\n",
    "input_wave3 <- rangeUnscale(input_wave3_scaled, my_bounds, range = c(-1, 1))"
   ]
  },
  {
   "cell_type": "code",
   "execution_count": null,
   "metadata": {},
   "outputs": [],
   "source": [
    "par(mfrow=c(2,2))\n",
    "plot(input_wave3[,1], input_wave3[,2], xlab=\"h\", ylab=\"c\", xlim=c(-2,2), ylim=c(0,20))\n",
    "points(1, 10, col='red', pch=18, cex=2)\n",
    "plot(input_wave3[,1], input_wave3[,3], xlab=\"h\", ylab=\"b\", xlim=c(-2,2), ylim=c(-20,20))\n",
    "points(1, 10, col='red', pch=18, cex=2)\n",
    "plot(input_wave3[,2], input_wave3[,3], xlab=\"c\", ylab=\"b\", xlim=c(0,20), ylim=c(-20,20))\n",
    "points(10, 10, col='red', pch=18, cex=2)"
   ]
  },
  {
   "cell_type": "code",
   "execution_count": null,
   "metadata": {},
   "outputs": [],
   "source": [
    "metrics_wave3 = future_sapply(1:nrow(input_wave3), function(r) extract_metrics_AMIP(input_wave3[r,], n_iter, 0.001, X_hist), future.seed=NULL) \n",
    "metrics_wave3 <- t(metrics_wave3)"
   ]
  },
  {
   "cell_type": "markdown",
   "metadata": {},
   "source": [
    "### Create the data matrix"
   ]
  },
  {
   "cell_type": "code",
   "execution_count": null,
   "metadata": {
    "scrolled": true
   },
   "outputs": [],
   "source": [
    "input_wave3_scaled <- data.frame(input_wave3_scaled)\n",
    "names(input_wave3_scaled) <- c('h', 'c', 'b')\n",
    "\n",
    "\n",
    "metrics_k_wave3 <- data.frame(metrics_wave3)\n",
    "N = nrow(metrics_k_wave3) \n",
    "noise <- rnorm(N, 0, 0) # Tester à 0.5\n",
    "tData_wave3 <- data.frame(cbind(input_wave3_scaled, noise, metrics_k_wave3))\n",
    "names(tData_wave3)[names(tData_wave3) == \"noise\"] <- \"Noise\"\n",
    "         \n",
    "head(tData_wave3)"
   ]
  },
  {
   "cell_type": "markdown",
   "metadata": {},
   "source": [
    "### Training emulator"
   ]
  },
  {
   "cell_type": "code",
   "execution_count": null,
   "metadata": {},
   "outputs": [],
   "source": [
    "em_wave3 <- BuildNewEmulators(tData_wave3, HowManyEmulators = ncol(metrics_wave3), meanFun = \"fitted\", additionalVariables = cands) # "
   ]
  },
  {
   "cell_type": "code",
   "execution_count": null,
   "metadata": {},
   "outputs": [],
   "source": [
    "tLOOs <- LOO.plot(Emulators = em_wave3, which.emulator = 12, ParamNames = cands)"
   ]
  },
  {
   "cell_type": "markdown",
   "metadata": {},
   "source": [
    "### Compute implausibility"
   ]
  },
  {
   "cell_type": "code",
   "execution_count": null,
   "metadata": {},
   "outputs": [],
   "source": [
    "sample_size <- 100000\n",
    "nparam <- length(names(em_wave3$fitting.elements$Design))\n",
    "Xp_wave3 <- as.data.frame(2*randomLHS(sample_size, nparam)-1)\n",
    "names(Xp_wave3) <- names(em_wave3$fitting.elements$Design)\n",
    "system.time(Timps_wave3 <- ImplausibilityMOGP(NewData=Xp_wave3, Emulator=em_wave3, Discrepancy=tDisc, Obs=tObs, ObsErr=tObsErr))"
   ]
  },
  {
   "cell_type": "code",
   "execution_count": null,
   "metadata": {},
   "outputs": [],
   "source": [
    "valmax = 0 #how many outputs can be above the implausibility cut off\n",
    "cutoff <- 3 #the implausibility cut off"
   ]
  },
  {
   "cell_type": "code",
   "execution_count": null,
   "metadata": {},
   "outputs": [],
   "source": [
    "NROY3 <- which(rowSums(Timps_wave3 <= cutoff) >= em_wave3$mogp$n_emulators -valmax)\n",
    "scoreNROY3 <- length(NROY3)/dim(Xp_wave3)[1]"
   ]
  },
  {
   "cell_type": "markdown",
   "metadata": {},
   "source": [
    "### Layout of NROY space"
   ]
  },
  {
   "cell_type": "code",
   "execution_count": null,
   "metadata": {
    "scrolled": true
   },
   "outputs": [],
   "source": [
    "ImpData_wave3 = cbind(Xp_wave3, Timps_wave3)\n",
    "ImpListM3 = CreateImpList(whichVars = 1:nparam, VarNames=VarNames, ImpData=ImpData_wave3, nEms=em_wave3$mogp$n_emulators, whichMax=valmax+1)\n",
    "imp.layoutm11(ImpListM3,VarNames,VariableDensity=FALSE,newPDF=FALSE,the.title=paste(\"InputSpace_wave\",WAVEN,\".pdf\",sep=\"\"),newPNG=FALSE,newJPEG=FALSE,newEPS=FALSE,Points=matrix(param.defaults.norm,ncol=nparam))\n",
    "mtext(paste(\"Remaining space:\",scoreNROY3,sep=\"\"), side=1)"
   ]
  },
  {
   "cell_type": "markdown",
   "metadata": {},
   "source": [
    "## Fourth Wave"
   ]
  },
  {
   "cell_type": "code",
   "execution_count": null,
   "metadata": {},
   "outputs": [],
   "source": [
    "n <- ceiling(n_samples*/scoreNROY3)"
   ]
  },
  {
   "cell_type": "code",
   "execution_count": null,
   "metadata": {},
   "outputs": [],
   "source": [
    "inputs_wave4_scaled_temp <- np$array(lhs$generate(space$dimensions, as.integer(n), random_state=as.integer(42)))"
   ]
  },
  {
   "cell_type": "code",
   "execution_count": null,
   "metadata": {},
   "outputs": [],
   "source": [
    "emulators <- list(em_wave1, em_wave2, em_wave3)\n",
    "NROY_temp_wave4 <- parameters_space(emulators, inputs_wave4_scaled_temp, 30)"
   ]
  },
  {
   "cell_type": "code",
   "execution_count": null,
   "metadata": {},
   "outputs": [],
   "source": [
    "input_wave4_scaled <- inputs_wave4_scaled_temp[sample(NROY_temp_wave4, n_samples),]\n",
    "input_wave4 <- rangeUnscale(input_wave4_scaled, my_bounds, range = c(-1, 1))"
   ]
  },
  {
   "cell_type": "code",
   "execution_count": null,
   "metadata": {},
   "outputs": [],
   "source": [
    "par(mfrow=c(2,2))\n",
    "plot(input_wave4[,1], input_wave4[,2], xlab=\"h\", ylab=\"c\", xlim=c(-2,2), ylim=c(0,20))\n",
    "points(1, 10, col='red', pch=18, cex=2)\n",
    "plot(input_wave4[,1], input_wave4[,3], xlab=\"h\", ylab=\"b\", xlim=c(-2,2), ylim=c(-20,20))\n",
    "points(1, 10, col='red', pch=18, cex=2)\n",
    "plot(input_wave4[,2], input_wave4[,3], xlab=\"c\", ylab=\"b\", xlim=c(0,20), ylim=c(-20,20))\n",
    "points(10, 10, col='red', pch=18, cex=2)"
   ]
  },
  {
   "cell_type": "code",
   "execution_count": null,
   "metadata": {},
   "outputs": [],
   "source": [
    "metrics_wave4 = future_sapply(1:nrow(input_wave4), function(r) extract_metrics_AMIP(input_wave4[r,], n_iter, 0.001, X_hist), future.seed=NULL) "
   ]
  },
  {
   "cell_type": "markdown",
   "metadata": {},
   "source": [
    "### Create the data matrix"
   ]
  },
  {
   "cell_type": "code",
   "execution_count": null,
   "metadata": {
    "scrolled": true
   },
   "outputs": [],
   "source": [
    "input_wave4_scaled <- data.frame(input_wave4_scaled)\n",
    "names(input_wave4_scaled) <- c('h', 'c', 'b')\n",
    "\n",
    "\n",
    "metrics_k_wave4 <- data.frame(t(metrics_wave4)[, metrics_index_k])\n",
    "N = nrow(metrics_k_wave4) \n",
    "noise <- rnorm(N, 0, 0)\n",
    "tData_wave4 <- data.frame(cbind(input_wave4_scaled, noise, metrics_k_wave4))\n",
    "names(tData_wave4)[names(tData_wave4) == \"noise\"] <- \"Noise\"\n",
    "         \n",
    "head(tData_wave4)"
   ]
  },
  {
   "cell_type": "markdown",
   "metadata": {},
   "source": [
    "### Training emulator"
   ]
  },
  {
   "cell_type": "code",
   "execution_count": null,
   "metadata": {},
   "outputs": [],
   "source": [
    "em_wave4 <- BuildNewEmulators(tData_wave4, HowManyEmulators = ncol(metrics_wave4), meanFun = \"fitted\", additionalVariables = cands) # "
   ]
  },
  {
   "cell_type": "markdown",
   "metadata": {},
   "source": [
    "We can use Leave One Out to verify if our GPs fit our metrics correctly."
   ]
  },
  {
   "cell_type": "code",
   "execution_count": null,
   "metadata": {},
   "outputs": [],
   "source": [
    "tLOOs <- LOO.plot(Emulators = em_wave4, which.emulator = 12, ParamNames = cands)"
   ]
  },
  {
   "cell_type": "markdown",
   "metadata": {},
   "source": [
    "### Compute implausibility"
   ]
  },
  {
   "cell_type": "code",
   "execution_count": null,
   "metadata": {},
   "outputs": [],
   "source": [
    "sample_size <- 100000\n",
    "nparam <- length(names(em_wave4$fitting.elements$Design))\n",
    "Xp_wave4 <- as.data.frame(2*randomLHS(sample_size, nparam)-1)\n",
    "names(Xp_wave4) <- names(em_wave4$fitting.elements$Design)\n",
    "system.time(Timps_wave4 <- ImplausibilityMOGP(NewData=Xp_wave4, Emulator=em_wave4, Discrepancy=tDisc, Obs=tObs, ObsErr=tObsErr))"
   ]
  },
  {
   "cell_type": "code",
   "execution_count": null,
   "metadata": {},
   "outputs": [],
   "source": [
    "valmax = 0 #how many outputs can be above the implausibility cut off\n",
    "cutoff <- 3 #the implausibility cut off"
   ]
  },
  {
   "cell_type": "code",
   "execution_count": null,
   "metadata": {},
   "outputs": [],
   "source": [
    "NROY4 <- which(rowSums(Timps_wave4 <= cutoff) >= em_wave4$mogp$n_emulators -valmax)\n",
    "scoreNROY4 <- length(NROY4)/dim(Xp_wave4)[1]"
   ]
  },
  {
   "cell_type": "markdown",
   "metadata": {},
   "source": [
    "### Layout of NROY space"
   ]
  },
  {
   "cell_type": "code",
   "execution_count": null,
   "metadata": {
    "scrolled": true
   },
   "outputs": [],
   "source": [
    "ImpData_wave4 = cbind(Xp_wave4, Timps_wave4)\n",
    "ImpListM4 = CreateImpList(whichVars = 1:nparam, VarNames=VarNames, ImpData=ImpData_wave4, nEms=em_wave4$mogp$n_emulators, whichMax=valmax+1)\n",
    "imp.layoutm11(ImpListM4,VarNames,VariableDensity=FALSE,newPDF=FALSE,the.title=paste(\"InputSpace_wave\",WAVEN,\".pdf\",sep=\"\"),newPNG=FALSE,newJPEG=FALSE,newEPS=FALSE,Points=matrix(param.defaults.norm,ncol=nparam))\n",
    "mtext(paste(\"Remaining space:\",scoreNROY4,sep=\"\"), side=1)"
   ]
  },
  {
   "cell_type": "code",
   "execution_count": null,
   "metadata": {},
   "outputs": [],
   "source": []
  }
 ],
 "metadata": {
  "kernelspec": {
   "display_name": "R",
   "language": "R",
   "name": "ir"
  },
  "language_info": {
   "codemirror_mode": "r",
   "file_extension": ".r",
   "mimetype": "text/x-r-source",
   "name": "R",
   "pygments_lexer": "r",
   "version": "3.6.1"
  }
 },
 "nbformat": 4,
 "nbformat_minor": 4
}
