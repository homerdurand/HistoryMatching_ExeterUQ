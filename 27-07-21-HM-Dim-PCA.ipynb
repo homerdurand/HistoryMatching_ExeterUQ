{
 "cells": [
  {
   "cell_type": "markdown",
   "metadata": {},
   "source": [
    "# History Matching for L96\n",
    "Author : Redaoune Lguensat, Homer Durand\n",
    "\n",
    "Date : 04-08-2021"
   ]
  },
  {
   "cell_type": "markdown",
   "metadata": {},
   "source": [
    "### Loading libs"
   ]
  },
  {
   "cell_type": "code",
   "execution_count": 1,
   "metadata": {
    "scrolled": true
   },
   "outputs": [
    {
     "name": "stderr",
     "output_type": "stream",
     "text": [
      "far library : Modelization for Functional AutoRegressive processes\n",
      "\n",
      "\n",
      "version 0.6-4 (2014-12-07)\n",
      "\n",
      "\n",
      "Spam version 2.6-0 (2020-12-14) is loaded.\n",
      "Type 'help( Spam)' or 'demo( spam)' for a short introduction \n",
      "and overview of this package.\n",
      "Help for individual functions is also obtained by adding the\n",
      "suffix '.spam' to the function name, e.g. 'help( chol.spam)'.\n",
      "\n",
      "\n",
      "Attaching package: ‘spam’\n",
      "\n",
      "\n",
      "The following objects are masked from ‘package:base’:\n",
      "\n",
      "    backsolve, forwardsolve\n",
      "\n",
      "\n",
      "See https://github.com/NCAR/Fields for\n",
      " an extensive vignette, other supplements and source code \n",
      "\n",
      "This is loo version 2.4.1\n",
      "\n",
      "- Online documentation and vignettes at mc-stan.org/loo\n",
      "\n",
      "- As of v2.0.0 loo defaults to 1 core but we recommend using as many as possible. Use the 'cores' argument or set options(mc.cores = NUM_CORES) for an entire session. \n",
      "\n",
      "Loading required package: future\n",
      "\n",
      "\n",
      "Attaching package: ‘MLmetrics’\n",
      "\n",
      "\n",
      "The following object is masked from ‘package:base’:\n",
      "\n",
      "    Recall\n",
      "\n",
      "\n",
      "\n",
      "Attaching package: ‘keras’\n",
      "\n",
      "\n",
      "The following object is masked from ‘package:future’:\n",
      "\n",
      "    %<-%\n",
      "\n",
      "\n"
     ]
    }
   ],
   "source": [
    "current_dir <- getwd()\n",
    "mogp_dir <- paste0(current_dir, \"/mogp-emulator\") #mogp_emulator lib : https://github.com/alan-turing-institute/mogp-emulator\n",
    "\n",
    "setwd(paste0(current_dir, '/dev_ExeterUQ_MOGP/')) #devel version og ExeterUQ_MOGP : https://github.com/BayesExeter/ExeterUQ_MOGP/tree/devel\n",
    "\n",
    "source(\"BuildEmulator/BuildEmulator.R\")\n",
    "source(\"HistoryMatching/HistoryMatching.R\")\n",
    "source(\"HistoryMatching/impLayoutplot.R\")\n",
    "\n",
    "setwd(current_dir)\n",
    "\n",
    "r_packages <- c(\"future.apply\", 'tgp', 'ANN2', 'MLmetrics', 'keras')\n",
    "invisible(lapply(r_packages, library, character.only = TRUE))\n",
    "\n",
    "python_pkg <- c(\"L96_amip\", \"numpy\", \"sklearn\", \"skopt.sampler\", \"skopt.space\")\n",
    "python_pkg_names <- c(\"L96_amip\", \"np\", \"sklearn\", \"sampler\", \"skSpace\")\n",
    "for(i in seq(length(python_pkg))){assign(python_pkg_names[i], import(python_pkg[i]))}"
   ]
  },
  {
   "cell_type": "markdown",
   "metadata": {},
   "source": [
    "# History Matching\n",
    "\n",
    "1. Space filling design of parameters space\n",
    "2. Data simulation\n",
    "3. Training of statistical emulator\n",
    "4. Computation of implausibility\n",
    "5. Refocussing\n",
    "    * If stoping criterion is reached stop HM\n",
    "    * Else, redefining parameters space and go to 1.\n",
    "\n",
    "## Observations generation\n",
    "\n",
    "As our model is a toy model we need to generate *observations* based on the ground truth parameters in order to use them to tune our model. In a realistic model (e.g. an ocean model), observations are metrics based on real observations of the state of the ocean threw time.\n",
    "\n",
    "$\\frac{d X_{k}}{d t}=\\underbrace{-X_{k-1}\\left(X_{k-2}-X_{k+1}\\right)}_{\\text {Advection}} \\underbrace{-X_{k}}_{\\text {Diffusion}}+\\underbrace{F}_{\\text {Forcing}} \\underbrace{-h c \\bar{Y}_{k}}_{\\text {Coupling}}$\n",
    "\n",
    "$\\frac{1}{c} \\frac{d Y_{j, k}}{d t}=\\underbrace{-b Y_{j+1, k}\\left(Y_{j+2, k}-Y_{j-1, k}\\right)}_{\\text {Advection }} \\underbrace{-Y_{j, k}}_{\\text {Diffusion }} \\underbrace{+\\frac{h}{J} X_{k}}_{\\text {Coupling }}$\n",
    "\n",
    "We consider the correct parameters to be h=1, F=10, c=10, b=10 and we will first generate our metrics based on those inputs using the 65 terms depicted here as in Schneider et al. 2017. \n",
    "\n",
    "$$\n",
    "\\boldsymbol{f}_k(Y)=\\left(\\begin{array}{c}\n",
    "Y_{j,k} \\\\\n",
    "Y_{j,k}Y_{j',k}\n",
    "\\end{array}\\right), \\forall j, j' \\in J \\text{ and } k \\in K\n",
    "$$"
   ]
  },
  {
   "cell_type": "code",
   "execution_count": 2,
   "metadata": {},
   "outputs": [],
   "source": [
    "np$random$seed(as.integer(42))\n",
    "\n",
    "X_init = 10*np$ones(as.integer(36))\n",
    "X_init[19]=1.0001 #ATtention X_init[19] !!!\n",
    "\n",
    "l96_two = L96_amip$L96TwoLevel(save_dt=0.001, X_init=X_init, integration_type='coupled') # True params J=10, h=1, F=10, c=10, b=10"
   ]
  },
  {
   "cell_type": "markdown",
   "metadata": {},
   "source": [
    "We first iterate 10 iterations in order to access to the steady state of the L96 model"
   ]
  },
  {
   "cell_type": "code",
   "execution_count": 3,
   "metadata": {},
   "outputs": [],
   "source": [
    "l96_two$iterate(10)"
   ]
  },
  {
   "cell_type": "code",
   "execution_count": 4,
   "metadata": {},
   "outputs": [],
   "source": [
    "X_init = l96_two$X"
   ]
  },
  {
   "cell_type": "markdown",
   "metadata": {},
   "source": [
    "We can use *Newinit* to be sure to start from the attractor of the L96."
   ]
  },
  {
   "cell_type": "code",
   "execution_count": 5,
   "metadata": {},
   "outputs": [],
   "source": [
    "np$random$seed(as.integer(42))\n",
    "\n",
    "n_iter <- 20\n",
    "\n",
    "X_init = 10*np$ones(as.integer(36))\n",
    "X_init[19]=1.0001 #ATtention X_init[19] !!!\n",
    "\n",
    "l96_two = L96_amip$L96TwoLevel(save_dt=0.001, X_init=X_init, integration_type='coupled') # True params J=10, h=1, F=10, c=10, b=10"
   ]
  },
  {
   "cell_type": "code",
   "execution_count": 6,
   "metadata": {},
   "outputs": [],
   "source": [
    "l96_two$iterate(n_iter)"
   ]
  },
  {
   "cell_type": "markdown",
   "metadata": {},
   "source": [
    "We save the history of X in order to reinject it during the Y integration."
   ]
  },
  {
   "cell_type": "code",
   "execution_count": 7,
   "metadata": {},
   "outputs": [],
   "source": [
    "X_hist <- l96_two$history$X$values"
   ]
  },
  {
   "cell_type": "markdown",
   "metadata": {},
   "source": [
    "We save the metrics generate with the ground truth parameters (observations)."
   ]
  },
  {
   "cell_type": "code",
   "execution_count": 8,
   "metadata": {},
   "outputs": [
    {
     "data": {
      "text/plain": [
       "   user  system elapsed \n",
       "  0.304   0.032   0.336 "
      ]
     },
     "metadata": {},
     "output_type": "display_data"
    }
   ],
   "source": [
    "system.time(observations <- l96_two$mean_stats(ax=as.integer(0), amip_metrics=FALSE))"
   ]
  },
  {
   "cell_type": "markdown",
   "metadata": {},
   "source": [
    "We now have our ground truth metrics and history of X wo we can tune our model."
   ]
  },
  {
   "cell_type": "markdown",
   "metadata": {},
   "source": [
    "### Generation of metrics for the first wave\n",
    "\n",
    "We first sample the parameters space (input space) using a space filling design (latin hypercube sampling with maximin criterion) and then will generate our metrics for each of those points of the parameter space."
   ]
  },
  {
   "cell_type": "code",
   "execution_count": 9,
   "metadata": {},
   "outputs": [],
   "source": [
    "n_samples <- 40"
   ]
  },
  {
   "cell_type": "code",
   "execution_count": 10,
   "metadata": {},
   "outputs": [],
   "source": [
    "space <- skSpace$Space(list(c(-2, 2), c(-20,20), c(0, 20), c(-20, 20))) ##only h,F,c,b\n",
    "lhs <- sampler$Lhs()\n",
    "inputs_wave1 <- np$array(lhs$generate(space$dimensions, as.integer(n_samples), random_state=as.integer(42)))"
   ]
  },
  {
   "cell_type": "code",
   "execution_count": 11,
   "metadata": {
    "scrolled": true
   },
   "outputs": [
    {
     "data": {
      "image/png": "[encoded data removed]",
      "text/plain": [
       "plot without title"
      ]
     },
     "metadata": {
      "image/png": {
       "height": 420,
       "width": 420
      }
     },
     "output_type": "display_data"
    }
   ],
   "source": [
    "par(mfrow=c(2,3))\n",
    "plot(inputs_wave1[,1], inputs_wave1[,2], xlab=\"h\", ylab=\"F\", xlim=c(-2,2), ylim=c(-20,20))\n",
    "points(1, 10, col='red', pch=18, cex=2)\n",
    "plot(inputs_wave1[,1], inputs_wave1[,3], xlab=\"h\", ylab=\"c\", xlim=c(-2,2), ylim=c(0,20))\n",
    "points(1, 10, col='red', pch=18, cex=2)\n",
    "plot(inputs_wave1[,1], inputs_wave1[,4], xlab=\"c\", ylab=\"b\", xlim=c(-2,2), ylim=c(-20,20))\n",
    "points(10, 10, col='red', pch=18, cex=2)\n",
    "plot(inputs_wave1[,2], inputs_wave1[,3], xlab=\"F\", ylab=\"c\", xlim=c(-20,20), ylim=c(0,20))\n",
    "points(1, 10, col='red', pch=18, cex=2)\n",
    "plot(inputs_wave1[,2], inputs_wave1[,4], xlab=\"F\", ylab=\"b\", xlim=c(-20,20), ylim=c(-20,20))\n",
    "points(1, 10, col='red', pch=18, cex=2)\n",
    "plot(inputs_wave1[,3], inputs_wave1[,4], xlab=\"c\", ylab=\"b\", xlim=c(0,20), ylim=c(-20,20))\n",
    "points(10, 10, col='red', pch=18, cex=2)"
   ]
  },
  {
   "cell_type": "code",
   "execution_count": 12,
   "metadata": {},
   "outputs": [],
   "source": [
    "extract_metrics_AMIP <- function(p, n_iter, dt, initX) {\n",
    "    l96_mip = L96_amip$L96TwoLevel(X_init=initX, save_dt=dt, dt=dt, noYhist=FALSE, h=p[[1]], F=p[[2]], c=p[[3]], b=p[[4]])\n",
    "    l96_mip$iterate(n_iter)\n",
    "    return(l96_mip$mean_stats(ax=as.integer(0), amip_metrics=FALSE))\n",
    "}"
   ]
  },
  {
   "cell_type": "code",
   "execution_count": 13,
   "metadata": {},
   "outputs": [],
   "source": [
    "plan(multicore, workers = 8, gc = TRUE)"
   ]
  },
  {
   "cell_type": "code",
   "execution_count": null,
   "metadata": {},
   "outputs": [],
   "source": [
    "metrics_wave1 = future_sapply(1:nrow(inputs_wave1), function(r) extract_metrics_AMIP(inputs_wave1[r,], n_iter, 0.001, X_init), future.seed=NULL)\n",
    "metrics_wave1 <- t(metrics_wave1)"
   ]
  },
  {
   "cell_type": "markdown",
   "metadata": {},
   "source": [
    "## Principal Component Analysis for dimensionality reduction"
   ]
  },
  {
   "cell_type": "code",
   "execution_count": null,
   "metadata": {},
   "outputs": [],
   "source": [
    "# Generate data for testing PCA\n",
    "n_samples_test <- 40\n",
    "inputs_test <- np$array(lhs$generate(space$dimensions, as.integer(n_samples_test), random_state=as.integer(21)))\n",
    "metrics_test = future_sapply(1:nrow(inputs_test), function(r) extract_metrics_AMIP(inputs_test[r,], n_iter, 0.001, X_init), future.seed=NULL)\n",
    "metrics_test <- t(metrics_test)"
   ]
  },
  {
   "cell_type": "code",
   "execution_count": null,
   "metadata": {},
   "outputs": [],
   "source": [
    "# Scale metrics\n",
    "my.scaler <- sklearn$preprocessing$StandardScaler()\n",
    "X <- my.scaler$fit_transform(metrics_wave1)\n",
    "X_test <- my.scaler$fit_transform(metrics_test)\n",
    "input_size = dim(X)[[2]]"
   ]
  },
  {
   "cell_type": "code",
   "execution_count": null,
   "metadata": {},
   "outputs": [],
   "source": [
    "pca_dim <- 2\n",
    "pca <- sklearn$decomposition$PCA(n_components=as.integer(pca_dim))\n",
    "X_pca <- pca$fit_transform(X)\n",
    "plot(np$cumsum(pca$explained_variance_ratio_))\n",
    "X_pca_test <- pca$transform(X_test)\n",
    "X_inverse_transform <- pca$inverse_transform(X_pca)\n",
    "X_test_inverse_transform <- pca$inverse_transform(X_pca_test)\n",
    "mse <- MSE(X_inverse_transform, X)\n",
    "val_mse <- MSE(X_test_inverse_transform, X_test)\n",
    "mse\n",
    "val_mse"
   ]
  },
  {
   "cell_type": "markdown",
   "metadata": {},
   "source": [
    "### Create the data matrix\n",
    "We create a data frame with correct format to train an emulator as it is describe in https://bayesexeter.github.io/ExeterUQ_MOGP/Testing_ExeterUQ_mogp.html\n",
    "\n",
    "We select 65 metrics for a given k (here $k=0$) in order to fit the emulators in a reasonable amount of time. Here we select the metrics \n",
    "\n",
    "$$\n",
    "\\boldsymbol{f}_0(Y)=\\left(\\begin{array}{c}\n",
    "Y_{j,0} \\\\\n",
    "Y_{j,0}Y_{j',0}\n",
    "\\end{array}\\right), \\forall j, j' \\in J\n",
    "$$"
   ]
  },
  {
   "cell_type": "markdown",
   "metadata": {},
   "source": [
    "#### Scaling and Unscaling functions"
   ]
  },
  {
   "cell_type": "code",
   "execution_count": null,
   "metadata": {},
   "outputs": [],
   "source": [
    "rangeScale <- function(df, scaler, range = c(-1, 1)){\n",
    "    for (i in 1:ncol(df)){\n",
    "        min <- scaler[[i]][1]\n",
    "        max <- scaler[[i]][2]\n",
    "        df[,i] = (range[2] - range[1])*(df[,i] - min)/(max - min) + range[1]\n",
    "    }\n",
    "    return(df)\n",
    "}\n",
    "                                        \n",
    "rangeUnscale <- function(df, scaler, range = c(-1, 1)){\n",
    "    for (i in 1:ncol(df)){\n",
    "        min <- scaler[[i]][1]\n",
    "        max <- scaler[[i]][2]\n",
    "        df[,i] = (max - min)*(df[,i] - range[1])/(range[2] - range[1]) + min\n",
    "    }\n",
    "    return(df)\n",
    "}"
   ]
  },
  {
   "cell_type": "code",
   "execution_count": null,
   "metadata": {
    "scrolled": false
   },
   "outputs": [],
   "source": [
    "# Arrange inputs (parameters) \n",
    "inputs_wave1 <- data.frame(inputs_wave1)\n",
    "my_bounds <- data.frame(list(c(-2, 2), c(-20,20), c(0, 20), c(-20, 20)))\n",
    "inputs_wave1_scaled <- rangeScale(inputs_wave1, my_bounds, range = c(-1, 1))\n",
    "names(inputs_wave1_scaled) <- c('h', 'F', 'c', 'b')\n",
    "\n",
    "\n",
    "X_pca_wave1 <- data.frame(X_pca)\n",
    "N = nrow(inputs_wave1) \n",
    "noise <- rnorm(N, 0.5, 0)\n",
    "tData <- data.frame(cbind(inputs_wave1_scaled, noise, X_pca_wave1))\n",
    "names(tData)[names(tData) == \"noise\"] <- \"Noise\"\n",
    "         \n",
    "head(tData)"
   ]
  },
  {
   "cell_type": "markdown",
   "metadata": {},
   "source": [
    "### Training emulator"
   ]
  },
  {
   "cell_type": "code",
   "execution_count": null,
   "metadata": {
    "scrolled": true
   },
   "outputs": [],
   "source": [
    "cands <- names(tData)[1:4]\n",
    "em_wave1 <- BuildNewEmulators(tData, HowManyEmulators = ncol(X_pca), meanFun = \"fitted\", additionalVariables = cands) # "
   ]
  },
  {
   "cell_type": "markdown",
   "metadata": {},
   "source": [
    "We can use Leave One Out to verify if our GPs fit our metrics correctly."
   ]
  },
  {
   "cell_type": "code",
   "execution_count": null,
   "metadata": {},
   "outputs": [],
   "source": [
    "#tLOOs <- LOO.plot(Emulators = em_wave1, which.emulator = 4, ParamNames = cands)"
   ]
  },
  {
   "cell_type": "markdown",
   "metadata": {},
   "source": [
    "### Compute implausibility\n",
    "\n",
    "We will compute implausibility as it is described in *Williamson & al. (2017)*.\n",
    "\n",
    "$$\n",
    "I_i(x_0) = \\frac{|z_i - \\mathbf{E}[f_i(x_0)]|}{|Var[z_i - \\mathbf{E}[f_i(x_0)]]|} \\\\\n",
    "I(x_0) = max_i(I_i(x_0))\n",
    "$$\n",
    "\n",
    "We consider that $Var[z_i - \\mathbf{E}[f_i(x_0)]] = Var[e] +\n",
    "Var[g] + Var[f(x_0)]$  like it is describe in *Williamson & al. (2017)*. \n",
    "\n",
    "With $Var[e]$ the observational\n",
    "error variance, $Var[g]$ the model discrepancy variance\n",
    "and $Var[f(x)]$ the variance of the emulator."
   ]
  },
  {
   "cell_type": "code",
   "execution_count": null,
   "metadata": {},
   "outputs": [],
   "source": [
    "tDisc <- rep(0, ncol(metrics_wave1)) # model discrepancy variance Var[g] \n",
    "tObsErr <- rep(0, ncol(metrics_wave1)) # observational error variance Var[e]\n",
    "tObs <-  as.vector(observations) # Observations"
   ]
  },
  {
   "cell_type": "markdown",
   "metadata": {},
   "source": [
    "We generate a large sampling of the parameter space (that we have scaled) and will compute implausibility for each point of this parameters space."
   ]
  },
  {
   "cell_type": "code",
   "execution_count": null,
   "metadata": {},
   "outputs": [],
   "source": [
    "sample_size <- 100000\n",
    "nparam <- length(names(em_wave1$fitting.elements$Design))\n",
    "Xp <- as.data.frame(2*randomLHS(sample_size, nparam)-1)\n",
    "names(Xp) <- names(em_wave1$fitting.elements$Design)\n",
    "system.time(Timps <- ImplausibilityMOGP(NewData=Xp, Emulator=em_wave1, Discrepancy=tDisc, Obs=tObs, ObsErr=tObsErr))"
   ]
  },
  {
   "cell_type": "code",
   "execution_count": null,
   "metadata": {},
   "outputs": [],
   "source": [
    "VarNames <- names(Xp)\n",
    "valmax = 0 #how many outputs can be above the implausibility cut off\n",
    "cutoff <- 3 #the implausibility cut off\n",
    "param.def = data.frame(h=c(1),F=c(10),c=c(10),b=c(10)) #the default parameters of the model (on [-1,1])\n",
    "param.defaults.norm = rangeScale(param.def, my_bounds, range(-1,1))\n",
    "print(param.defaults.norm)"
   ]
  },
  {
   "cell_type": "code",
   "execution_count": null,
   "metadata": {},
   "outputs": [],
   "source": [
    "NROY1 <- which(rowSums(Timps <= cutoff) >= em_wave1$mogp$n_emulators -valmax)\n",
    "scoreNROY1 <- length(NROY1)/dim(Xp)[1]\n",
    "scoreNROY1"
   ]
  },
  {
   "cell_type": "markdown",
   "metadata": {},
   "source": [
    "The first wave of tuning allowed us to reject approximately 70% of the parameters space."
   ]
  },
  {
   "cell_type": "markdown",
   "metadata": {},
   "source": [
    "### Layout of NROY space"
   ]
  },
  {
   "cell_type": "code",
   "execution_count": null,
   "metadata": {},
   "outputs": [],
   "source": [
    "ImpData_wave1 = cbind(Xp, Timps)\n",
    "ImpListM1 = CreateImpList(whichVars = 1:nparam, VarNames=VarNames, ImpData=ImpData_wave1, nEms=em_wave1$mogp$n_emulators, whichMax=valmax+1)\n",
    "imp.layoutm11(ImpListM1,VarNames,VariableDensity=FALSE,newPDF=FALSE,the.title=paste(\"InputSpace_wave\",WAVEN,\".pdf\",sep=\"\"),newPNG=FALSE,newJPEG=FALSE,newEPS=FALSE,Points=matrix(param.defaults.norm,ncol=nparam))\n",
    "mtext(paste(\"Remaining space:\",scoreNROY1,sep=\"\"), side=1)"
   ]
  },
  {
   "cell_type": "markdown",
   "metadata": {},
   "source": [
    "## Second Wave\n",
    "\n",
    "We will generate a large number of samples in the entire parameters space in order to obtain *n_samples* samples in the NROY space created with the emulator *em_wave1*."
   ]
  },
  {
   "cell_type": "code",
   "execution_count": null,
   "metadata": {},
   "outputs": [],
   "source": [
    "n <- ceiling(n_samples*4/scoreNROY1)"
   ]
  },
  {
   "cell_type": "code",
   "execution_count": null,
   "metadata": {},
   "outputs": [],
   "source": [
    "space <- skSpace$Space(list(c(-1, 1), c(-1,1), c(-1, 1), c(-1, 1))) ## we use a scaled space\n",
    "inputs_wave2_scaled_temp <- np$array(lhs$generate(space$dimensions, as.integer(n), random_state=as.integer(42)))"
   ]
  },
  {
   "cell_type": "markdown",
   "metadata": {},
   "source": [
    "We find the points of NewData wich fall in the NROY space of each emulator in *emulators*."
   ]
  },
  {
   "cell_type": "code",
   "execution_count": null,
   "metadata": {},
   "outputs": [],
   "source": [
    "parameters_space <- function(emulators, NewData, n_samples=n_samples){\n",
    "    NROY_em <- 1:nrow(NewData)\n",
    "    for (em in emulators){\n",
    "        imp_em <- ImplausibilityMOGP(NewData=NewData, Emulator=em, Discrepancy=tDisc, Obs=tObs, ObsErr=tObsErr)\n",
    "        NROY_temp <- which(rowSums(imp_em <= cutoff) >= em$mogp$n_emulators - valmax)\n",
    "        NROY_em <- intersect(NROY_em, NROY_temp)\n",
    "    }\n",
    "    return(sample(NROY_em, n_samples))\n",
    "}"
   ]
  },
  {
   "cell_type": "code",
   "execution_count": null,
   "metadata": {},
   "outputs": [],
   "source": [
    "emulators <- list(em_wave1)\n",
    "NROY_temp_wave2 <- parameters_space(emulators, inputs_wave2_scaled_temp, 30)"
   ]
  },
  {
   "cell_type": "markdown",
   "metadata": {},
   "source": [
    "We now have our new inputs for wave 2.\n",
    "\n",
    "We need to unscale those inputs for metrics simulations."
   ]
  },
  {
   "cell_type": "code",
   "execution_count": null,
   "metadata": {},
   "outputs": [],
   "source": [
    "inputs_wave2_scaled <- inputs_wave2_scaled_temp[NROY_temp_wave2,]\n",
    "inputs_wave2 <- rangeUnscale(input_wave2_scaled, my_bounds, range = c(-1, 1))"
   ]
  },
  {
   "cell_type": "code",
   "execution_count": null,
   "metadata": {},
   "outputs": [],
   "source": [
    "par(mfrow=c(2,3))\n",
    "plot(inputs_wave2[,1], inputs_wave2[,2], xlab=\"h\", ylab=\"F\", xlim=c(-2,2), ylim=c(-20,20))\n",
    "points(1, 10, col='red', pch=18, cex=2)\n",
    "plot(inputs_wave2[,1], inputs_wave2[,3], xlab=\"h\", ylab=\"c\", xlim=c(-2,2), ylim=c(0,20))\n",
    "points(1, 10, col='red', pch=18, cex=2)\n",
    "plot(inputs_wave2[,1], inputs_wave2[,4], xlab=\"c\", ylab=\"b\", xlim=c(-2,2), ylim=c(-20,20))\n",
    "points(10, 10, col='red', pch=18, cex=2)\n",
    "plot(inputs_wave2[,2], inputs_wave2[,3], xlab=\"F\", ylab=\"c\", xlim=c(-20,20), ylim=c(0,20))\n",
    "points(1, 10, col='red', pch=18, cex=2)\n",
    "plot(inputs_wave2[,2], inputs_wave2[,4], xlab=\"F\", ylab=\"b\", xlim=c(-20,20), ylim=c(-20,20))\n",
    "points(1, 10, col='red', pch=18, cex=2)\n",
    "plot(inputs_wave2[,3], inputs_wave2[,4], xlab=\"c\", ylab=\"b\", xlim=c(0,20), ylim=c(-20,20))\n",
    "points(10, 10, col='red', pch=18, cex=2)"
   ]
  },
  {
   "cell_type": "code",
   "execution_count": null,
   "metadata": {},
   "outputs": [],
   "source": [
    "metrics_wave2 <- future_sapply(1:nrow(input_wave2), function(r) extract_metrics_AMIP(input_wave2[r,], n_iter, 0.001, X_hist), future.seed=NULL) \n",
    "metrics_wave2 <- t(metrics_wave2) "
   ]
  },
  {
   "cell_type": "markdown",
   "metadata": {},
   "source": [
    "## Principal Component Analysis for dimensionality reduction"
   ]
  },
  {
   "cell_type": "code",
   "execution_count": null,
   "metadata": {},
   "outputs": [],
   "source": [
    "# Generate data for testing PCA\n",
    "n_samples_test <- 40\n",
    "inputs_test <- np$array(lhs$generate(space$dimensions, as.integer(n_samples_test), random_state=as.integer(21)))\n",
    "metrics_test = future_sapply(1:nrow(inputs_test), function(r) extract_metrics_AMIP(inputs_test[r,], n_iter, 0.001, X_init), future.seed=NULL)\n",
    "metrics_test <- t(metrics_test)"
   ]
  },
  {
   "cell_type": "code",
   "execution_count": null,
   "metadata": {},
   "outputs": [],
   "source": [
    "# Scale metrics\n",
    "my.scaler <- sklearn$preprocessing$StandardScaler()\n",
    "X_wave2 <- my.scaler$fit_transform(metrics_wave2)"
   ]
  },
  {
   "cell_type": "code",
   "execution_count": null,
   "metadata": {},
   "outputs": [],
   "source": [
    "X_pca <- pca$fit_transform(X)\n",
    "plot(np$cumsum(pca$explained_variance_ratio_))\n",
    "X_pca_test <- pca$transform(X_test)\n",
    "X_inverse_transform <- pca$inverse_transform(X_pca)\n",
    "X_test_inverse_transform <- pca$inverse_transform(X_pca_test)\n",
    "mse <- MSE(X_inverse_transform, X)\n",
    "val_mse <- MSE(X_test_inverse_transform, X_test)\n",
    "mse\n",
    "val_mse"
   ]
  },
  {
   "cell_type": "markdown",
   "metadata": {},
   "source": [
    "### Create the data matrix"
   ]
  },
  {
   "cell_type": "code",
   "execution_count": null,
   "metadata": {
    "scrolled": true
   },
   "outputs": [],
   "source": [
    "# Arrange inputs (parameters) \n",
    "inputs_wave2 <- data.frame(inputs_wave2)\n",
    "my_bounds <- data.frame(list(c(-2, 2), c(-20,20), c(0, 20), c(-20, 20)))\n",
    "inputs_wave2_scaled <- rangeScale(inputs_wave2, my_bounds, range = c(-1, 1))\n",
    "names(inputs_wave2_scaled) <- c('h', 'F', 'c', 'b')\n",
    "\n",
    "\n",
    "X_pca_wave2 <- data.frame(X_pca)\n",
    "N = nrow(inputs_wave2) \n",
    "noise <- rnorm(N, 0.5, 0)\n",
    "tData_wave2 <- data.frame(cbind(inputs_wave2_scaled, noise, X_pca_wave2))\n",
    "names(tData_wave2)[names(tData_wave2) == \"noise\"] <- \"Noise\"\n",
    "         \n",
    "head(tData_wave2)"
   ]
  },
  {
   "cell_type": "markdown",
   "metadata": {},
   "source": [
    "### Training emulator"
   ]
  },
  {
   "cell_type": "code",
   "execution_count": null,
   "metadata": {},
   "outputs": [],
   "source": [
    "em_wave2 <- BuildNewEmulators(tData_wave2, HowManyEmulators = ncol(metrics_wave2), meanFun = \"fitted\", additionalVariables = cands) # "
   ]
  },
  {
   "cell_type": "code",
   "execution_count": null,
   "metadata": {},
   "outputs": [],
   "source": [
    "tLOOs <- LOO.plot(Emulators = em_wave2, which.emulator = 4, ParamNames = cands)"
   ]
  },
  {
   "cell_type": "markdown",
   "metadata": {},
   "source": [
    "### Compute implausibility"
   ]
  },
  {
   "cell_type": "code",
   "execution_count": null,
   "metadata": {
    "scrolled": true
   },
   "outputs": [],
   "source": [
    "sample_size <- 100000\n",
    "nparam <- length(names(em_wave2$fitting.elements$Design))\n",
    "Xp_wave2 <- as.data.frame(2*randomLHS(sample_size, nparam)-1)\n",
    "names(Xp_wave2) <- names(em_wave2$fitting.elements$Design)\n",
    "system.time(Timps_wave2 <- ImplausibilityMOGP(NewData=Xp_wave2, Emulator=em_wave2, Discrepancy=tDisc, Obs=tObs, ObsErr=tObsErr))"
   ]
  },
  {
   "cell_type": "code",
   "execution_count": null,
   "metadata": {},
   "outputs": [],
   "source": [
    "valmax = 0 #Set to 2 in order to have a \"more steady\" NROY space\n",
    "cutoff <- 3 #the implausibility cut off"
   ]
  },
  {
   "cell_type": "code",
   "execution_count": null,
   "metadata": {},
   "outputs": [],
   "source": [
    "NROY2 <- which(rowSums(Timps_wave2 <= cutoff) >= em_wave2$mogp$n_emulators -valmax)\n",
    "scoreNROY2 <- length(NROY2)/dim(Xp_wave2)[1]"
   ]
  },
  {
   "cell_type": "markdown",
   "metadata": {},
   "source": [
    "### Layout of NROY space"
   ]
  },
  {
   "cell_type": "code",
   "execution_count": null,
   "metadata": {
    "scrolled": false
   },
   "outputs": [],
   "source": [
    "ImpData_wave2 = cbind(Xp_wave2, Timps_wave2)\n",
    "ImpListM2 = CreateImpList(whichVars = 1:nparam, VarNames=VarNames, ImpData=ImpData_wave2, nEms=em_wave2$mogp$n_emulators, whichMax=valmax+1)\n",
    "imp.layoutm11(ImpListM2,VarNames,VariableDensity=FALSE,newPDF=FALSE,the.title=paste(\"InputSpace_wave\",WAVEN,\".pdf\",sep=\"\"),newPNG=FALSE,newJPEG=FALSE,newEPS=FALSE,Points=matrix(param.defaults.norm,ncol=nparam))\n",
    "mtext(paste(\"Remaining space:\",scoreNROY2,sep=\"\"), side=1)"
   ]
  },
  {
   "cell_type": "markdown",
   "metadata": {},
   "source": [
    "## Third Wave"
   ]
  },
  {
   "cell_type": "code",
   "execution_count": null,
   "metadata": {},
   "outputs": [],
   "source": [
    "n <- ceiling(n_samples*3/scoreNROY2)"
   ]
  },
  {
   "cell_type": "code",
   "execution_count": null,
   "metadata": {},
   "outputs": [],
   "source": [
    "inputs_wave3_scaled_temp <- np$array(lhs$generate(space$dimensions, as.integer(n), random_state=as.integer(42)))"
   ]
  },
  {
   "cell_type": "code",
   "execution_count": null,
   "metadata": {},
   "outputs": [],
   "source": [
    "emulators <- list(em_wave1, em_wave2)\n",
    "NROY_temp_wave3 <- parameters_space(emulators, inputs_wave3_scaled_temp, n_samples=30)"
   ]
  },
  {
   "cell_type": "code",
   "execution_count": null,
   "metadata": {},
   "outputs": [],
   "source": [
    "length(NROY_temp_wave3)"
   ]
  },
  {
   "cell_type": "code",
   "execution_count": null,
   "metadata": {},
   "outputs": [],
   "source": [
    "input_wave3_scaled <- inputs_wave3_scaled_temp[sample(NROY_temp_wave3, n_samples),]\n",
    "input_wave3 <- rangeUnscale(input_wave3_scaled, my_bounds, range = c(-1, 1))"
   ]
  },
  {
   "cell_type": "code",
   "execution_count": null,
   "metadata": {},
   "outputs": [],
   "source": [
    "par(mfrow=c(2,2))\n",
    "plot(input_wave3[,1], input_wave3[,2], xlab=\"h\", ylab=\"c\", xlim=c(-2,2), ylim=c(0,20))\n",
    "points(1, 10, col='red', pch=18, cex=2)\n",
    "plot(input_wave3[,1], input_wave3[,3], xlab=\"h\", ylab=\"b\", xlim=c(-2,2), ylim=c(-20,20))\n",
    "points(1, 10, col='red', pch=18, cex=2)\n",
    "plot(input_wave3[,2], input_wave3[,3], xlab=\"c\", ylab=\"b\", xlim=c(0,20), ylim=c(-20,20))\n",
    "points(10, 10, col='red', pch=18, cex=2)"
   ]
  },
  {
   "cell_type": "code",
   "execution_count": null,
   "metadata": {},
   "outputs": [],
   "source": [
    "metrics_wave3 = future_sapply(1:nrow(input_wave3), function(r) extract_metrics_AMIP(input_wave3[r,], n_iter, 0.001, X_hist), future.seed=NULL) \n",
    "metrics_wave3 <- t(metrics_wave3)"
   ]
  },
  {
   "cell_type": "markdown",
   "metadata": {},
   "source": [
    "### Create the data matrix"
   ]
  },
  {
   "cell_type": "code",
   "execution_count": null,
   "metadata": {
    "scrolled": true
   },
   "outputs": [],
   "source": [
    "input_wave3_scaled <- data.frame(input_wave3_scaled)\n",
    "names(input_wave3_scaled) <- c('h', 'c', 'b')\n",
    "\n",
    "\n",
    "metrics_k_wave3 <- data.frame(metrics_wave3)\n",
    "N = nrow(metrics_k_wave3) \n",
    "noise <- rnorm(N, 0, 0) # Tester à 0.5\n",
    "tData_wave3 <- data.frame(cbind(input_wave3_scaled, noise, metrics_k_wave3))\n",
    "names(tData_wave3)[names(tData_wave3) == \"noise\"] <- \"Noise\"\n",
    "         \n",
    "head(tData_wave3)"
   ]
  },
  {
   "cell_type": "markdown",
   "metadata": {},
   "source": [
    "### Training emulator"
   ]
  },
  {
   "cell_type": "code",
   "execution_count": null,
   "metadata": {},
   "outputs": [],
   "source": [
    "em_wave3 <- BuildNewEmulators(tData_wave3, HowManyEmulators = ncol(metrics_wave3), meanFun = \"fitted\", additionalVariables = cands) # "
   ]
  },
  {
   "cell_type": "code",
   "execution_count": null,
   "metadata": {},
   "outputs": [],
   "source": [
    "tLOOs <- LOO.plot(Emulators = em_wave3, which.emulator = 12, ParamNames = cands)"
   ]
  },
  {
   "cell_type": "markdown",
   "metadata": {},
   "source": [
    "### Compute implausibility"
   ]
  },
  {
   "cell_type": "code",
   "execution_count": null,
   "metadata": {},
   "outputs": [],
   "source": [
    "sample_size <- 100000\n",
    "nparam <- length(names(em_wave3$fitting.elements$Design))\n",
    "Xp_wave3 <- as.data.frame(2*randomLHS(sample_size, nparam)-1)\n",
    "names(Xp_wave3) <- names(em_wave3$fitting.elements$Design)\n",
    "system.time(Timps_wave3 <- ImplausibilityMOGP(NewData=Xp_wave3, Emulator=em_wave3, Discrepancy=tDisc, Obs=tObs, ObsErr=tObsErr))"
   ]
  },
  {
   "cell_type": "code",
   "execution_count": null,
   "metadata": {},
   "outputs": [],
   "source": [
    "valmax = 0 #how many outputs can be above the implausibility cut off\n",
    "cutoff <- 3 #the implausibility cut off"
   ]
  },
  {
   "cell_type": "code",
   "execution_count": null,
   "metadata": {},
   "outputs": [],
   "source": [
    "NROY3 <- which(rowSums(Timps_wave3 <= cutoff) >= em_wave3$mogp$n_emulators -valmax)\n",
    "scoreNROY3 <- length(NROY3)/dim(Xp_wave3)[1]"
   ]
  },
  {
   "cell_type": "markdown",
   "metadata": {},
   "source": [
    "### Layout of NROY space"
   ]
  },
  {
   "cell_type": "code",
   "execution_count": null,
   "metadata": {
    "scrolled": true
   },
   "outputs": [],
   "source": [
    "ImpData_wave3 = cbind(Xp_wave3, Timps_wave3)\n",
    "ImpListM3 = CreateImpList(whichVars = 1:nparam, VarNames=VarNames, ImpData=ImpData_wave3, nEms=em_wave3$mogp$n_emulators, whichMax=valmax+1)\n",
    "imp.layoutm11(ImpListM3,VarNames,VariableDensity=FALSE,newPDF=FALSE,the.title=paste(\"InputSpace_wave\",WAVEN,\".pdf\",sep=\"\"),newPNG=FALSE,newJPEG=FALSE,newEPS=FALSE,Points=matrix(param.defaults.norm,ncol=nparam))\n",
    "mtext(paste(\"Remaining space:\",scoreNROY3,sep=\"\"), side=1)"
   ]
  },
  {
   "cell_type": "markdown",
   "metadata": {},
   "source": [
    "## Fourth Wave"
   ]
  },
  {
   "cell_type": "code",
   "execution_count": null,
   "metadata": {},
   "outputs": [],
   "source": [
    "n <- ceiling(n_samples*/scoreNROY3)"
   ]
  },
  {
   "cell_type": "code",
   "execution_count": null,
   "metadata": {},
   "outputs": [],
   "source": [
    "inputs_wave4_scaled_temp <- np$array(lhs$generate(space$dimensions, as.integer(n), random_state=as.integer(42)))"
   ]
  },
  {
   "cell_type": "code",
   "execution_count": null,
   "metadata": {},
   "outputs": [],
   "source": [
    "emulators <- list(em_wave1, em_wave2, em_wave3)\n",
    "NROY_temp_wave4 <- parameters_space(emulators, inputs_wave4_scaled_temp, 30)"
   ]
  },
  {
   "cell_type": "code",
   "execution_count": null,
   "metadata": {},
   "outputs": [],
   "source": [
    "input_wave4_scaled <- inputs_wave4_scaled_temp[sample(NROY_temp_wave4, n_samples),]\n",
    "input_wave4 <- rangeUnscale(input_wave4_scaled, my_bounds, range = c(-1, 1))"
   ]
  },
  {
   "cell_type": "code",
   "execution_count": null,
   "metadata": {},
   "outputs": [],
   "source": [
    "par(mfrow=c(2,2))\n",
    "plot(input_wave4[,1], input_wave4[,2], xlab=\"h\", ylab=\"c\", xlim=c(-2,2), ylim=c(0,20))\n",
    "points(1, 10, col='red', pch=18, cex=2)\n",
    "plot(input_wave4[,1], input_wave4[,3], xlab=\"h\", ylab=\"b\", xlim=c(-2,2), ylim=c(-20,20))\n",
    "points(1, 10, col='red', pch=18, cex=2)\n",
    "plot(input_wave4[,2], input_wave4[,3], xlab=\"c\", ylab=\"b\", xlim=c(0,20), ylim=c(-20,20))\n",
    "points(10, 10, col='red', pch=18, cex=2)"
   ]
  },
  {
   "cell_type": "code",
   "execution_count": null,
   "metadata": {},
   "outputs": [],
   "source": [
    "metrics_wave4 = future_sapply(1:nrow(input_wave4), function(r) extract_metrics_AMIP(input_wave4[r,], n_iter, 0.001, X_hist), future.seed=NULL) "
   ]
  },
  {
   "cell_type": "markdown",
   "metadata": {},
   "source": [
    "### Create the data matrix"
   ]
  },
  {
   "cell_type": "code",
   "execution_count": null,
   "metadata": {
    "scrolled": true
   },
   "outputs": [],
   "source": [
    "input_wave4_scaled <- data.frame(input_wave4_scaled)\n",
    "names(input_wave4_scaled) <- c('h', 'c', 'b')\n",
    "\n",
    "\n",
    "metrics_k_wave4 <- data.frame(t(metrics_wave4)[, metrics_index_k])\n",
    "N = nrow(metrics_k_wave4) \n",
    "noise <- rnorm(N, 0, 0)\n",
    "tData_wave4 <- data.frame(cbind(input_wave4_scaled, noise, metrics_k_wave4))\n",
    "names(tData_wave4)[names(tData_wave4) == \"noise\"] <- \"Noise\"\n",
    "         \n",
    "head(tData_wave4)"
   ]
  },
  {
   "cell_type": "markdown",
   "metadata": {},
   "source": [
    "### Training emulator"
   ]
  },
  {
   "cell_type": "code",
   "execution_count": null,
   "metadata": {},
   "outputs": [],
   "source": [
    "em_wave4 <- BuildNewEmulators(tData_wave4, HowManyEmulators = ncol(metrics_wave4), meanFun = \"fitted\", additionalVariables = cands) # "
   ]
  },
  {
   "cell_type": "markdown",
   "metadata": {},
   "source": [
    "We can use Leave One Out to verify if our GPs fit our metrics correctly."
   ]
  },
  {
   "cell_type": "code",
   "execution_count": null,
   "metadata": {},
   "outputs": [],
   "source": [
    "tLOOs <- LOO.plot(Emulators = em_wave4, which.emulator = 12, ParamNames = cands)"
   ]
  },
  {
   "cell_type": "markdown",
   "metadata": {},
   "source": [
    "### Compute implausibility"
   ]
  },
  {
   "cell_type": "code",
   "execution_count": null,
   "metadata": {},
   "outputs": [],
   "source": [
    "sample_size <- 100000\n",
    "nparam <- length(names(em_wave4$fitting.elements$Design))\n",
    "Xp_wave4 <- as.data.frame(2*randomLHS(sample_size, nparam)-1)\n",
    "names(Xp_wave4) <- names(em_wave4$fitting.elements$Design)\n",
    "system.time(Timps_wave4 <- ImplausibilityMOGP(NewData=Xp_wave4, Emulator=em_wave4, Discrepancy=tDisc, Obs=tObs, ObsErr=tObsErr))"
   ]
  },
  {
   "cell_type": "code",
   "execution_count": null,
   "metadata": {},
   "outputs": [],
   "source": [
    "valmax = 0 #how many outputs can be above the implausibility cut off\n",
    "cutoff <- 3 #the implausibility cut off"
   ]
  },
  {
   "cell_type": "code",
   "execution_count": null,
   "metadata": {},
   "outputs": [],
   "source": [
    "NROY4 <- which(rowSums(Timps_wave4 <= cutoff) >= em_wave4$mogp$n_emulators -valmax)\n",
    "scoreNROY4 <- length(NROY4)/dim(Xp_wave4)[1]"
   ]
  },
  {
   "cell_type": "markdown",
   "metadata": {},
   "source": [
    "### Layout of NROY space"
   ]
  },
  {
   "cell_type": "code",
   "execution_count": null,
   "metadata": {
    "scrolled": true
   },
   "outputs": [],
   "source": [
    "ImpData_wave4 = cbind(Xp_wave4, Timps_wave4)\n",
    "ImpListM4 = CreateImpList(whichVars = 1:nparam, VarNames=VarNames, ImpData=ImpData_wave4, nEms=em_wave4$mogp$n_emulators, whichMax=valmax+1)\n",
    "imp.layoutm11(ImpListM4,VarNames,VariableDensity=FALSE,newPDF=FALSE,the.title=paste(\"InputSpace_wave\",WAVEN,\".pdf\",sep=\"\"),newPNG=FALSE,newJPEG=FALSE,newEPS=FALSE,Points=matrix(param.defaults.norm,ncol=nparam))\n",
    "mtext(paste(\"Remaining space:\",scoreNROY4,sep=\"\"), side=1)"
   ]
  },
  {
   "cell_type": "code",
   "execution_count": null,
   "metadata": {},
   "outputs": [],
   "source": []
  }
 ],
 "metadata": {
  "kernelspec": {
   "display_name": "R",
   "language": "R",
   "name": "ir"
  },
  "language_info": {
   "codemirror_mode": "r",
   "file_extension": ".r",
   "mimetype": "text/x-r-source",
   "name": "R",
   "pygments_lexer": "r",
   "version": "3.6.3"
  }
 },
 "nbformat": 4,
 "nbformat_minor": 4
}
